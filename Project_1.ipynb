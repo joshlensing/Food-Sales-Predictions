{
  "nbformat": 4,
  "nbformat_minor": 0,
  "metadata": {
    "colab": {
      "provenance": [],
      "authorship_tag": "ABX9TyPkf8lTwHWxAtdrRJif18fh",
      "include_colab_link": true
    },
    "kernelspec": {
      "name": "python3",
      "display_name": "Python 3"
    },
    "language_info": {
      "name": "python"
    }
  },
  "cells": [
    {
      "cell_type": "markdown",
      "metadata": {
        "id": "view-in-github",
        "colab_type": "text"
      },
      "source": [
        "<a href=\"https://colab.research.google.com/github/joshlensing/Food-Sales-Predictions/blob/main/Project_1.ipynb\" target=\"_parent\"><img src=\"https://colab.research.google.com/assets/colab-badge.svg\" alt=\"Open In Colab\"/></a>"
      ]
    },
    {
      "cell_type": "markdown",
      "source": [
        "# Project 1- Part 1\n",
        "- Joshua Lensing"
      ],
      "metadata": {
        "id": "zOnS9ZDPIB-G"
      }
    },
    {
      "cell_type": "markdown",
      "source": [
        "## Loading Data"
      ],
      "metadata": {
        "id": "wY0fsmWKOFgW"
      }
    },
    {
      "cell_type": "code",
      "source": [],
      "metadata": {
        "id": "qNr1VEp9OZMJ"
      },
      "execution_count": null,
      "outputs": []
    },
    {
      "cell_type": "markdown",
      "source": [
        "## Data Cleaning"
      ],
      "metadata": {
        "id": "A5Pgrl-fOITv"
      }
    },
    {
      "cell_type": "code",
      "source": [],
      "metadata": {
        "id": "eNZoJ0zoOaS4"
      },
      "execution_count": null,
      "outputs": []
    },
    {
      "cell_type": "markdown",
      "source": [
        "## Exploratory Visuals"
      ],
      "metadata": {
        "id": "FKVrpjuIOLmz"
      }
    },
    {
      "cell_type": "code",
      "source": [],
      "metadata": {
        "id": "YBUyrAD_ObWa"
      },
      "execution_count": null,
      "outputs": []
    },
    {
      "cell_type": "markdown",
      "source": [
        "## Explanatory Visuals"
      ],
      "metadata": {
        "id": "OTQjFdyLOQOR"
      }
    },
    {
      "cell_type": "code",
      "source": [],
      "metadata": {
        "id": "IfMovRI1OB6g"
      },
      "execution_count": null,
      "outputs": []
    }
  ]
}
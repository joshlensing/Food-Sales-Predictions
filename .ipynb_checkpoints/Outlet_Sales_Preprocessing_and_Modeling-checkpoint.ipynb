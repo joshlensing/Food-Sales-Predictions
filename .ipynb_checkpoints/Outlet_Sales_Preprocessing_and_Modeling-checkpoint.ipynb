{
 "cells": [
  {
   "cell_type": "markdown",
   "metadata": {
    "colab_type": "text",
    "id": "view-in-github"
   },
   "source": [
    "<a href=\"https://colab.research.google.com/github/joshlensing/Food-Sales-Predictions/blob/main/Outlet_Sales_Preprocessing_and_Modeling.ipynb\" target=\"_parent\"><img src=\"https://colab.research.google.com/assets/colab-badge.svg\" alt=\"Open In Colab\"/></a>"
   ]
  },
  {
   "cell_type": "markdown",
   "metadata": {
    "id": "doB9nqPZFzYO"
   },
   "source": [
    "# Preprocessing Data for Outlet Sales Predictions\n",
    "\n",
    "- Name: Joshua Lensing\n",
    "\n",
    "\n",
    "Using the sales predictions dataset, I will prepare the data set to create models in order to make predictions for future outlet sales. I first need to clean the data and get it ready for a train test split. From there, I can transform the data get it ready to run through different models."
   ]
  },
  {
   "cell_type": "code",
   "execution_count": 2,
   "metadata": {
    "id": "wIe21HMfFbm9"
   },
   "outputs": [],
   "source": [
    "import pandas as pd\n",
    "import numpy as np\n",
    "from sklearn.preprocessing import StandardScaler, OneHotEncoder\n",
    "from sklearn.impute import SimpleImputer\n",
    "from sklearn.compose import make_column_transformer, make_column_selector\n",
    "from sklearn.pipeline import make_pipeline\n",
    "from sklearn.model_selection import train_test_split\n",
    "from sklearn import set_config\n",
    "set_config(display='diagram')"
   ]
  },
  {
   "cell_type": "code",
   "execution_count": 3,
   "metadata": {
    "colab": {
     "base_uri": "https://localhost:8080/",
     "height": 357
    },
    "id": "7K0Lvzv1Hu54",
    "outputId": "5d84d413-f52e-489d-baff-49352e469e12"
   },
   "outputs": [
    {
     "data": {
      "text/html": [
       "\n",
       "  <div id=\"df-5180fb8d-28c0-43ff-b0d2-a87deaae5050\">\n",
       "    <div class=\"colab-df-container\">\n",
       "      <div>\n",
       "<style scoped>\n",
       "    .dataframe tbody tr th:only-of-type {\n",
       "        vertical-align: middle;\n",
       "    }\n",
       "\n",
       "    .dataframe tbody tr th {\n",
       "        vertical-align: top;\n",
       "    }\n",
       "\n",
       "    .dataframe thead th {\n",
       "        text-align: right;\n",
       "    }\n",
       "</style>\n",
       "<table border=\"1\" class=\"dataframe\">\n",
       "  <thead>\n",
       "    <tr style=\"text-align: right;\">\n",
       "      <th></th>\n",
       "      <th>Item_Identifier</th>\n",
       "      <th>Item_Weight</th>\n",
       "      <th>Item_Fat_Content</th>\n",
       "      <th>Item_Visibility</th>\n",
       "      <th>Item_Type</th>\n",
       "      <th>Item_MRP</th>\n",
       "      <th>Outlet_Identifier</th>\n",
       "      <th>Outlet_Establishment_Year</th>\n",
       "      <th>Outlet_Size</th>\n",
       "      <th>Outlet_Location_Type</th>\n",
       "      <th>Outlet_Type</th>\n",
       "      <th>Item_Outlet_Sales</th>\n",
       "    </tr>\n",
       "  </thead>\n",
       "  <tbody>\n",
       "    <tr>\n",
       "      <th>0</th>\n",
       "      <td>FDA15</td>\n",
       "      <td>9.30</td>\n",
       "      <td>Low Fat</td>\n",
       "      <td>0.016047</td>\n",
       "      <td>Dairy</td>\n",
       "      <td>249.8092</td>\n",
       "      <td>OUT049</td>\n",
       "      <td>1999</td>\n",
       "      <td>Medium</td>\n",
       "      <td>Tier 1</td>\n",
       "      <td>Supermarket Type1</td>\n",
       "      <td>3735.1380</td>\n",
       "    </tr>\n",
       "    <tr>\n",
       "      <th>1</th>\n",
       "      <td>DRC01</td>\n",
       "      <td>5.92</td>\n",
       "      <td>Regular</td>\n",
       "      <td>0.019278</td>\n",
       "      <td>Soft Drinks</td>\n",
       "      <td>48.2692</td>\n",
       "      <td>OUT018</td>\n",
       "      <td>2009</td>\n",
       "      <td>Medium</td>\n",
       "      <td>Tier 3</td>\n",
       "      <td>Supermarket Type2</td>\n",
       "      <td>443.4228</td>\n",
       "    </tr>\n",
       "    <tr>\n",
       "      <th>2</th>\n",
       "      <td>FDN15</td>\n",
       "      <td>17.50</td>\n",
       "      <td>Low Fat</td>\n",
       "      <td>0.016760</td>\n",
       "      <td>Meat</td>\n",
       "      <td>141.6180</td>\n",
       "      <td>OUT049</td>\n",
       "      <td>1999</td>\n",
       "      <td>Medium</td>\n",
       "      <td>Tier 1</td>\n",
       "      <td>Supermarket Type1</td>\n",
       "      <td>2097.2700</td>\n",
       "    </tr>\n",
       "    <tr>\n",
       "      <th>3</th>\n",
       "      <td>FDX07</td>\n",
       "      <td>19.20</td>\n",
       "      <td>Regular</td>\n",
       "      <td>0.000000</td>\n",
       "      <td>Fruits and Vegetables</td>\n",
       "      <td>182.0950</td>\n",
       "      <td>OUT010</td>\n",
       "      <td>1998</td>\n",
       "      <td>NaN</td>\n",
       "      <td>Tier 3</td>\n",
       "      <td>Grocery Store</td>\n",
       "      <td>732.3800</td>\n",
       "    </tr>\n",
       "    <tr>\n",
       "      <th>4</th>\n",
       "      <td>NCD19</td>\n",
       "      <td>8.93</td>\n",
       "      <td>Low Fat</td>\n",
       "      <td>0.000000</td>\n",
       "      <td>Household</td>\n",
       "      <td>53.8614</td>\n",
       "      <td>OUT013</td>\n",
       "      <td>1987</td>\n",
       "      <td>High</td>\n",
       "      <td>Tier 3</td>\n",
       "      <td>Supermarket Type1</td>\n",
       "      <td>994.7052</td>\n",
       "    </tr>\n",
       "  </tbody>\n",
       "</table>\n",
       "</div>\n",
       "      <button class=\"colab-df-convert\" onclick=\"convertToInteractive('df-5180fb8d-28c0-43ff-b0d2-a87deaae5050')\"\n",
       "              title=\"Convert this dataframe to an interactive table.\"\n",
       "              style=\"display:none;\">\n",
       "        \n",
       "  <svg xmlns=\"http://www.w3.org/2000/svg\" height=\"24px\"viewBox=\"0 0 24 24\"\n",
       "       width=\"24px\">\n",
       "    <path d=\"M0 0h24v24H0V0z\" fill=\"none\"/>\n",
       "    <path d=\"M18.56 5.44l.94 2.06.94-2.06 2.06-.94-2.06-.94-.94-2.06-.94 2.06-2.06.94zm-11 1L8.5 8.5l.94-2.06 2.06-.94-2.06-.94L8.5 2.5l-.94 2.06-2.06.94zm10 10l.94 2.06.94-2.06 2.06-.94-2.06-.94-.94-2.06-.94 2.06-2.06.94z\"/><path d=\"M17.41 7.96l-1.37-1.37c-.4-.4-.92-.59-1.43-.59-.52 0-1.04.2-1.43.59L10.3 9.45l-7.72 7.72c-.78.78-.78 2.05 0 2.83L4 21.41c.39.39.9.59 1.41.59.51 0 1.02-.2 1.41-.59l7.78-7.78 2.81-2.81c.8-.78.8-2.07 0-2.86zM5.41 20L4 18.59l7.72-7.72 1.47 1.35L5.41 20z\"/>\n",
       "  </svg>\n",
       "      </button>\n",
       "      \n",
       "  <style>\n",
       "    .colab-df-container {\n",
       "      display:flex;\n",
       "      flex-wrap:wrap;\n",
       "      gap: 12px;\n",
       "    }\n",
       "\n",
       "    .colab-df-convert {\n",
       "      background-color: #E8F0FE;\n",
       "      border: none;\n",
       "      border-radius: 50%;\n",
       "      cursor: pointer;\n",
       "      display: none;\n",
       "      fill: #1967D2;\n",
       "      height: 32px;\n",
       "      padding: 0 0 0 0;\n",
       "      width: 32px;\n",
       "    }\n",
       "\n",
       "    .colab-df-convert:hover {\n",
       "      background-color: #E2EBFA;\n",
       "      box-shadow: 0px 1px 2px rgba(60, 64, 67, 0.3), 0px 1px 3px 1px rgba(60, 64, 67, 0.15);\n",
       "      fill: #174EA6;\n",
       "    }\n",
       "\n",
       "    [theme=dark] .colab-df-convert {\n",
       "      background-color: #3B4455;\n",
       "      fill: #D2E3FC;\n",
       "    }\n",
       "\n",
       "    [theme=dark] .colab-df-convert:hover {\n",
       "      background-color: #434B5C;\n",
       "      box-shadow: 0px 1px 3px 1px rgba(0, 0, 0, 0.15);\n",
       "      filter: drop-shadow(0px 1px 2px rgba(0, 0, 0, 0.3));\n",
       "      fill: #FFFFFF;\n",
       "    }\n",
       "  </style>\n",
       "\n",
       "      <script>\n",
       "        const buttonEl =\n",
       "          document.querySelector('#df-5180fb8d-28c0-43ff-b0d2-a87deaae5050 button.colab-df-convert');\n",
       "        buttonEl.style.display =\n",
       "          google.colab.kernel.accessAllowed ? 'block' : 'none';\n",
       "\n",
       "        async function convertToInteractive(key) {\n",
       "          const element = document.querySelector('#df-5180fb8d-28c0-43ff-b0d2-a87deaae5050');\n",
       "          const dataTable =\n",
       "            await google.colab.kernel.invokeFunction('convertToInteractive',\n",
       "                                                     [key], {});\n",
       "          if (!dataTable) return;\n",
       "\n",
       "          const docLinkHtml = 'Like what you see? Visit the ' +\n",
       "            '<a target=\"_blank\" href=https://colab.research.google.com/notebooks/data_table.ipynb>data table notebook</a>'\n",
       "            + ' to learn more about interactive tables.';\n",
       "          element.innerHTML = '';\n",
       "          dataTable['output_type'] = 'display_data';\n",
       "          await google.colab.output.renderOutput(dataTable, element);\n",
       "          const docLink = document.createElement('div');\n",
       "          docLink.innerHTML = docLinkHtml;\n",
       "          element.appendChild(docLink);\n",
       "        }\n",
       "      </script>\n",
       "    </div>\n",
       "  </div>\n",
       "  "
      ],
      "text/plain": [
       "  Item_Identifier  Item_Weight Item_Fat_Content  Item_Visibility  \\\n",
       "0           FDA15         9.30          Low Fat         0.016047   \n",
       "1           DRC01         5.92          Regular         0.019278   \n",
       "2           FDN15        17.50          Low Fat         0.016760   \n",
       "3           FDX07        19.20          Regular         0.000000   \n",
       "4           NCD19         8.93          Low Fat         0.000000   \n",
       "\n",
       "               Item_Type  Item_MRP Outlet_Identifier  \\\n",
       "0                  Dairy  249.8092            OUT049   \n",
       "1            Soft Drinks   48.2692            OUT018   \n",
       "2                   Meat  141.6180            OUT049   \n",
       "3  Fruits and Vegetables  182.0950            OUT010   \n",
       "4              Household   53.8614            OUT013   \n",
       "\n",
       "   Outlet_Establishment_Year Outlet_Size Outlet_Location_Type  \\\n",
       "0                       1999      Medium               Tier 1   \n",
       "1                       2009      Medium               Tier 3   \n",
       "2                       1999      Medium               Tier 1   \n",
       "3                       1998         NaN               Tier 3   \n",
       "4                       1987        High               Tier 3   \n",
       "\n",
       "         Outlet_Type  Item_Outlet_Sales  \n",
       "0  Supermarket Type1          3735.1380  \n",
       "1  Supermarket Type2           443.4228  \n",
       "2  Supermarket Type1          2097.2700  \n",
       "3      Grocery Store           732.3800  \n",
       "4  Supermarket Type1           994.7052  "
      ]
     },
     "execution_count": 3,
     "metadata": {},
     "output_type": "execute_result"
    }
   ],
   "source": [
    "filename = '/content/sales_predictions (1).csv'\n",
    "df_sales = pd.read_csv(filename)\n",
    "df_sales.head()"
   ]
  },
  {
   "cell_type": "markdown",
   "metadata": {
    "id": "Q-VS4pRIILxJ"
   },
   "source": [
    "- From here, I want to find some general information about my data in order to better understand what I have to work with."
   ]
  },
  {
   "cell_type": "markdown",
   "metadata": {
    "id": "55pyl_zLSoEn"
   },
   "source": [
    "## Data Cleaning"
   ]
  },
  {
   "cell_type": "code",
   "execution_count": 4,
   "metadata": {
    "colab": {
     "base_uri": "https://localhost:8080/"
    },
    "id": "zUDNPdfHH5xw",
    "outputId": "c9a9bc25-30ad-4775-a044-ba9b45df8628"
   },
   "outputs": [
    {
     "name": "stdout",
     "output_type": "stream",
     "text": [
      "<class 'pandas.core.frame.DataFrame'>\n",
      "RangeIndex: 8523 entries, 0 to 8522\n",
      "Data columns (total 12 columns):\n",
      " #   Column                     Non-Null Count  Dtype  \n",
      "---  ------                     --------------  -----  \n",
      " 0   Item_Identifier            8523 non-null   object \n",
      " 1   Item_Weight                7060 non-null   float64\n",
      " 2   Item_Fat_Content           8523 non-null   object \n",
      " 3   Item_Visibility            8523 non-null   float64\n",
      " 4   Item_Type                  8523 non-null   object \n",
      " 5   Item_MRP                   8523 non-null   float64\n",
      " 6   Outlet_Identifier          8523 non-null   object \n",
      " 7   Outlet_Establishment_Year  8523 non-null   int64  \n",
      " 8   Outlet_Size                6113 non-null   object \n",
      " 9   Outlet_Location_Type       8523 non-null   object \n",
      " 10  Outlet_Type                8523 non-null   object \n",
      " 11  Item_Outlet_Sales          8523 non-null   float64\n",
      "dtypes: float64(4), int64(1), object(7)\n",
      "memory usage: 799.2+ KB\n"
     ]
    }
   ],
   "source": [
    "df_sales.info()"
   ]
  },
  {
   "cell_type": "code",
   "execution_count": 5,
   "metadata": {
    "colab": {
     "base_uri": "https://localhost:8080/"
    },
    "id": "CFBOwCHvWGs5",
    "outputId": "3b562040-21df-4512-d5d4-a757bb900c52"
   },
   "outputs": [
    {
     "data": {
      "text/plain": [
       "(8523, 12)"
      ]
     },
     "execution_count": 5,
     "metadata": {},
     "output_type": "execute_result"
    }
   ],
   "source": [
    "df_sales.shape"
   ]
  },
  {
   "cell_type": "markdown",
   "metadata": {
    "id": "56o-A5IQIXzc"
   },
   "source": [
    "- It appears that there is some missing data, but I will further check that out with df_sales.isna.sum()."
   ]
  },
  {
   "cell_type": "code",
   "execution_count": 6,
   "metadata": {
    "colab": {
     "base_uri": "https://localhost:8080/"
    },
    "id": "ZH470ZgGIU4m",
    "outputId": "413e98ae-ced6-476b-af13-8661a9f245db"
   },
   "outputs": [
    {
     "data": {
      "text/plain": [
       "Item_Identifier                 0\n",
       "Item_Weight                  1463\n",
       "Item_Fat_Content                0\n",
       "Item_Visibility                 0\n",
       "Item_Type                       0\n",
       "Item_MRP                        0\n",
       "Outlet_Identifier               0\n",
       "Outlet_Establishment_Year       0\n",
       "Outlet_Size                  2410\n",
       "Outlet_Location_Type            0\n",
       "Outlet_Type                     0\n",
       "Item_Outlet_Sales               0\n",
       "dtype: int64"
      ]
     },
     "execution_count": 6,
     "metadata": {},
     "output_type": "execute_result"
    }
   ],
   "source": [
    "df_sales.isna().sum()"
   ]
  },
  {
   "cell_type": "code",
   "execution_count": 7,
   "metadata": {
    "colab": {
     "base_uri": "https://localhost:8080/"
    },
    "id": "U1dAJPq_IlrB",
    "outputId": "93bc427b-33c8-4930-b82d-dac1e7ef2453"
   },
   "outputs": [
    {
     "data": {
      "text/plain": [
       "3873"
      ]
     },
     "execution_count": 7,
     "metadata": {},
     "output_type": "execute_result"
    }
   ],
   "source": [
    "df_sales.isna().sum().sum()"
   ]
  },
  {
   "cell_type": "markdown",
   "metadata": {
    "id": "vBIDssHiIrM5"
   },
   "source": [
    "- There are 3,873 missing values in the dataset. From the df_sales.info(), I can see that the missing values are in an 'object' column and a 'float' column. This will be good to know later for when I will be imputing values and what methods I will need to use for that. Next I want to check to see if there are any duplcaited rows in the dataset and drop them if they are present."
   ]
  },
  {
   "cell_type": "code",
   "execution_count": 8,
   "metadata": {
    "colab": {
     "base_uri": "https://localhost:8080/"
    },
    "id": "60cYEplGIqXm",
    "outputId": "ccae0642-2ab7-467d-f6c7-0fecf7231f55"
   },
   "outputs": [
    {
     "data": {
      "text/plain": [
       "0"
      ]
     },
     "execution_count": 8,
     "metadata": {},
     "output_type": "execute_result"
    }
   ],
   "source": [
    "df_sales.duplicated().sum()"
   ]
  },
  {
   "cell_type": "markdown",
   "metadata": {
    "id": "jUpLLdHjJbqA"
   },
   "source": [
    "- There are no duplicated rows in the dataset. Next I will check for inconsistencies of values in the categorical columns by creating function to loop through the columns. But before I do that, I want to drop a couple rows that have all unique values that don't provide necessary information to the dataset. "
   ]
  },
  {
   "cell_type": "code",
   "execution_count": 9,
   "metadata": {
    "colab": {
     "base_uri": "https://localhost:8080/",
     "height": 357
    },
    "id": "w2CAY5azLg1o",
    "outputId": "39209c54-949f-481f-9663-201f490fda51"
   },
   "outputs": [
    {
     "data": {
      "text/html": [
       "\n",
       "  <div id=\"df-431b0ee2-f9e1-4131-8b77-cbeeddaf2e3d\">\n",
       "    <div class=\"colab-df-container\">\n",
       "      <div>\n",
       "<style scoped>\n",
       "    .dataframe tbody tr th:only-of-type {\n",
       "        vertical-align: middle;\n",
       "    }\n",
       "\n",
       "    .dataframe tbody tr th {\n",
       "        vertical-align: top;\n",
       "    }\n",
       "\n",
       "    .dataframe thead th {\n",
       "        text-align: right;\n",
       "    }\n",
       "</style>\n",
       "<table border=\"1\" class=\"dataframe\">\n",
       "  <thead>\n",
       "    <tr style=\"text-align: right;\">\n",
       "      <th></th>\n",
       "      <th>Item_Weight</th>\n",
       "      <th>Item_Fat_Content</th>\n",
       "      <th>Item_Visibility</th>\n",
       "      <th>Item_Type</th>\n",
       "      <th>Item_MRP</th>\n",
       "      <th>Outlet_Establishment_Year</th>\n",
       "      <th>Outlet_Size</th>\n",
       "      <th>Outlet_Location_Type</th>\n",
       "      <th>Outlet_Type</th>\n",
       "      <th>Item_Outlet_Sales</th>\n",
       "    </tr>\n",
       "  </thead>\n",
       "  <tbody>\n",
       "    <tr>\n",
       "      <th>0</th>\n",
       "      <td>9.30</td>\n",
       "      <td>Low Fat</td>\n",
       "      <td>0.016047</td>\n",
       "      <td>Dairy</td>\n",
       "      <td>249.8092</td>\n",
       "      <td>1999</td>\n",
       "      <td>Medium</td>\n",
       "      <td>Tier 1</td>\n",
       "      <td>Supermarket Type1</td>\n",
       "      <td>3735.1380</td>\n",
       "    </tr>\n",
       "    <tr>\n",
       "      <th>1</th>\n",
       "      <td>5.92</td>\n",
       "      <td>Regular</td>\n",
       "      <td>0.019278</td>\n",
       "      <td>Soft Drinks</td>\n",
       "      <td>48.2692</td>\n",
       "      <td>2009</td>\n",
       "      <td>Medium</td>\n",
       "      <td>Tier 3</td>\n",
       "      <td>Supermarket Type2</td>\n",
       "      <td>443.4228</td>\n",
       "    </tr>\n",
       "    <tr>\n",
       "      <th>2</th>\n",
       "      <td>17.50</td>\n",
       "      <td>Low Fat</td>\n",
       "      <td>0.016760</td>\n",
       "      <td>Meat</td>\n",
       "      <td>141.6180</td>\n",
       "      <td>1999</td>\n",
       "      <td>Medium</td>\n",
       "      <td>Tier 1</td>\n",
       "      <td>Supermarket Type1</td>\n",
       "      <td>2097.2700</td>\n",
       "    </tr>\n",
       "    <tr>\n",
       "      <th>3</th>\n",
       "      <td>19.20</td>\n",
       "      <td>Regular</td>\n",
       "      <td>0.000000</td>\n",
       "      <td>Fruits and Vegetables</td>\n",
       "      <td>182.0950</td>\n",
       "      <td>1998</td>\n",
       "      <td>NaN</td>\n",
       "      <td>Tier 3</td>\n",
       "      <td>Grocery Store</td>\n",
       "      <td>732.3800</td>\n",
       "    </tr>\n",
       "    <tr>\n",
       "      <th>4</th>\n",
       "      <td>8.93</td>\n",
       "      <td>Low Fat</td>\n",
       "      <td>0.000000</td>\n",
       "      <td>Household</td>\n",
       "      <td>53.8614</td>\n",
       "      <td>1987</td>\n",
       "      <td>High</td>\n",
       "      <td>Tier 3</td>\n",
       "      <td>Supermarket Type1</td>\n",
       "      <td>994.7052</td>\n",
       "    </tr>\n",
       "  </tbody>\n",
       "</table>\n",
       "</div>\n",
       "      <button class=\"colab-df-convert\" onclick=\"convertToInteractive('df-431b0ee2-f9e1-4131-8b77-cbeeddaf2e3d')\"\n",
       "              title=\"Convert this dataframe to an interactive table.\"\n",
       "              style=\"display:none;\">\n",
       "        \n",
       "  <svg xmlns=\"http://www.w3.org/2000/svg\" height=\"24px\"viewBox=\"0 0 24 24\"\n",
       "       width=\"24px\">\n",
       "    <path d=\"M0 0h24v24H0V0z\" fill=\"none\"/>\n",
       "    <path d=\"M18.56 5.44l.94 2.06.94-2.06 2.06-.94-2.06-.94-.94-2.06-.94 2.06-2.06.94zm-11 1L8.5 8.5l.94-2.06 2.06-.94-2.06-.94L8.5 2.5l-.94 2.06-2.06.94zm10 10l.94 2.06.94-2.06 2.06-.94-2.06-.94-.94-2.06-.94 2.06-2.06.94z\"/><path d=\"M17.41 7.96l-1.37-1.37c-.4-.4-.92-.59-1.43-.59-.52 0-1.04.2-1.43.59L10.3 9.45l-7.72 7.72c-.78.78-.78 2.05 0 2.83L4 21.41c.39.39.9.59 1.41.59.51 0 1.02-.2 1.41-.59l7.78-7.78 2.81-2.81c.8-.78.8-2.07 0-2.86zM5.41 20L4 18.59l7.72-7.72 1.47 1.35L5.41 20z\"/>\n",
       "  </svg>\n",
       "      </button>\n",
       "      \n",
       "  <style>\n",
       "    .colab-df-container {\n",
       "      display:flex;\n",
       "      flex-wrap:wrap;\n",
       "      gap: 12px;\n",
       "    }\n",
       "\n",
       "    .colab-df-convert {\n",
       "      background-color: #E8F0FE;\n",
       "      border: none;\n",
       "      border-radius: 50%;\n",
       "      cursor: pointer;\n",
       "      display: none;\n",
       "      fill: #1967D2;\n",
       "      height: 32px;\n",
       "      padding: 0 0 0 0;\n",
       "      width: 32px;\n",
       "    }\n",
       "\n",
       "    .colab-df-convert:hover {\n",
       "      background-color: #E2EBFA;\n",
       "      box-shadow: 0px 1px 2px rgba(60, 64, 67, 0.3), 0px 1px 3px 1px rgba(60, 64, 67, 0.15);\n",
       "      fill: #174EA6;\n",
       "    }\n",
       "\n",
       "    [theme=dark] .colab-df-convert {\n",
       "      background-color: #3B4455;\n",
       "      fill: #D2E3FC;\n",
       "    }\n",
       "\n",
       "    [theme=dark] .colab-df-convert:hover {\n",
       "      background-color: #434B5C;\n",
       "      box-shadow: 0px 1px 3px 1px rgba(0, 0, 0, 0.15);\n",
       "      filter: drop-shadow(0px 1px 2px rgba(0, 0, 0, 0.3));\n",
       "      fill: #FFFFFF;\n",
       "    }\n",
       "  </style>\n",
       "\n",
       "      <script>\n",
       "        const buttonEl =\n",
       "          document.querySelector('#df-431b0ee2-f9e1-4131-8b77-cbeeddaf2e3d button.colab-df-convert');\n",
       "        buttonEl.style.display =\n",
       "          google.colab.kernel.accessAllowed ? 'block' : 'none';\n",
       "\n",
       "        async function convertToInteractive(key) {\n",
       "          const element = document.querySelector('#df-431b0ee2-f9e1-4131-8b77-cbeeddaf2e3d');\n",
       "          const dataTable =\n",
       "            await google.colab.kernel.invokeFunction('convertToInteractive',\n",
       "                                                     [key], {});\n",
       "          if (!dataTable) return;\n",
       "\n",
       "          const docLinkHtml = 'Like what you see? Visit the ' +\n",
       "            '<a target=\"_blank\" href=https://colab.research.google.com/notebooks/data_table.ipynb>data table notebook</a>'\n",
       "            + ' to learn more about interactive tables.';\n",
       "          element.innerHTML = '';\n",
       "          dataTable['output_type'] = 'display_data';\n",
       "          await google.colab.output.renderOutput(dataTable, element);\n",
       "          const docLink = document.createElement('div');\n",
       "          docLink.innerHTML = docLinkHtml;\n",
       "          element.appendChild(docLink);\n",
       "        }\n",
       "      </script>\n",
       "    </div>\n",
       "  </div>\n",
       "  "
      ],
      "text/plain": [
       "   Item_Weight Item_Fat_Content  Item_Visibility              Item_Type  \\\n",
       "0         9.30          Low Fat         0.016047                  Dairy   \n",
       "1         5.92          Regular         0.019278            Soft Drinks   \n",
       "2        17.50          Low Fat         0.016760                   Meat   \n",
       "3        19.20          Regular         0.000000  Fruits and Vegetables   \n",
       "4         8.93          Low Fat         0.000000              Household   \n",
       "\n",
       "   Item_MRP  Outlet_Establishment_Year Outlet_Size Outlet_Location_Type  \\\n",
       "0  249.8092                       1999      Medium               Tier 1   \n",
       "1   48.2692                       2009      Medium               Tier 3   \n",
       "2  141.6180                       1999      Medium               Tier 1   \n",
       "3  182.0950                       1998         NaN               Tier 3   \n",
       "4   53.8614                       1987        High               Tier 3   \n",
       "\n",
       "         Outlet_Type  Item_Outlet_Sales  \n",
       "0  Supermarket Type1          3735.1380  \n",
       "1  Supermarket Type2           443.4228  \n",
       "2  Supermarket Type1          2097.2700  \n",
       "3      Grocery Store           732.3800  \n",
       "4  Supermarket Type1           994.7052  "
      ]
     },
     "execution_count": 9,
     "metadata": {},
     "output_type": "execute_result"
    }
   ],
   "source": [
    "df_sales.drop(columns=['Item_Identifier', 'Outlet_Identifier'], inplace=True)\n",
    "df_sales.head()"
   ]
  },
  {
   "cell_type": "code",
   "execution_count": 10,
   "metadata": {
    "colab": {
     "base_uri": "https://localhost:8080/"
    },
    "id": "9DEjMVBAJZEW",
    "outputId": "978c6a84-2fb8-4d58-b531-bf6ce054e4be"
   },
   "outputs": [
    {
     "data": {
      "text/plain": [
       "Index(['Item_Fat_Content', 'Item_Type', 'Outlet_Size', 'Outlet_Location_Type',\n",
       "       'Outlet_Type'],\n",
       "      dtype='object')"
      ]
     },
     "execution_count": 10,
     "metadata": {},
     "output_type": "execute_result"
    }
   ],
   "source": [
    "dtypes = df_sales.dtypes\n",
    "str_cols = dtypes[dtypes=='object'].index\n",
    "str_cols"
   ]
  },
  {
   "cell_type": "code",
   "execution_count": 11,
   "metadata": {
    "colab": {
     "base_uri": "https://localhost:8080/"
    },
    "id": "tnNsAFkqLQv7",
    "outputId": "1902f7c8-4de4-4712-c09a-6750bb192b9e"
   },
   "outputs": [
    {
     "name": "stdout",
     "output_type": "stream",
     "text": [
      "- Column = Item_Fat_Content\n",
      "Low Fat    5089\n",
      "Regular    2889\n",
      "LF          316\n",
      "reg         117\n",
      "low fat     112\n",
      "Name: Item_Fat_Content, dtype: int64\n",
      "\n",
      "\n",
      "- Column = Item_Type\n",
      "Fruits and Vegetables    1232\n",
      "Snack Foods              1200\n",
      "Household                 910\n",
      "Frozen Foods              856\n",
      "Dairy                     682\n",
      "Canned                    649\n",
      "Baking Goods              648\n",
      "Health and Hygiene        520\n",
      "Soft Drinks               445\n",
      "Meat                      425\n",
      "Breads                    251\n",
      "Hard Drinks               214\n",
      "Others                    169\n",
      "Starchy Foods             148\n",
      "Breakfast                 110\n",
      "Seafood                    64\n",
      "Name: Item_Type, dtype: int64\n",
      "\n",
      "\n",
      "- Column = Outlet_Size\n",
      "Medium    2793\n",
      "NaN       2410\n",
      "Small     2388\n",
      "High       932\n",
      "Name: Outlet_Size, dtype: int64\n",
      "\n",
      "\n",
      "- Column = Outlet_Location_Type\n",
      "Tier 3    3350\n",
      "Tier 2    2785\n",
      "Tier 1    2388\n",
      "Name: Outlet_Location_Type, dtype: int64\n",
      "\n",
      "\n",
      "- Column = Outlet_Type\n",
      "Supermarket Type1    5577\n",
      "Grocery Store        1083\n",
      "Supermarket Type3     935\n",
      "Supermarket Type2     928\n",
      "Name: Outlet_Type, dtype: int64\n",
      "\n",
      "\n"
     ]
    }
   ],
   "source": [
    "for col in str_cols:\n",
    "  print(f'- Column = {col}')\n",
    "  print(df_sales[col].value_counts(dropna=False))\n",
    "  print('\\n')"
   ]
  },
  {
   "cell_type": "markdown",
   "metadata": {
    "id": "kl6no8_3N_XQ"
   },
   "source": [
    "- 'Item_Fat_Content' is the only categorical column with inconsistent values. I will change the names with a dictionary to make them consistent."
   ]
  },
  {
   "cell_type": "code",
   "execution_count": 12,
   "metadata": {
    "colab": {
     "base_uri": "https://localhost:8080/"
    },
    "id": "StypnuVbN1z0",
    "outputId": "fd592e47-bcec-44d5-e2e6-6bbb8f5e63f9"
   },
   "outputs": [
    {
     "data": {
      "text/plain": [
       "Low Fat    5517\n",
       "Regular    3006\n",
       "Name: Item_Fat_Content, dtype: int64"
      ]
     },
     "execution_count": 12,
     "metadata": {},
     "output_type": "execute_result"
    }
   ],
   "source": [
    "df_sales.replace(['LF', 'low fat'], ['Low Fat', 'Low Fat'], inplace=True)\n",
    "df_sales.replace(['reg'], ['Regular'], inplace=True)\n",
    "df_sales['Item_Fat_Content'].value_counts()"
   ]
  },
  {
   "cell_type": "markdown",
   "metadata": {
    "id": "EF8eZhWLQxsl"
   },
   "source": [
    "- I'm almost ready to split the data into a training set and a test set. I seem to have 2 ordinal columns, so I will first need to ordinal encode them first before doing so."
   ]
  },
  {
   "cell_type": "code",
   "execution_count": 13,
   "metadata": {
    "colab": {
     "base_uri": "https://localhost:8080/"
    },
    "id": "bH_IMBQOOl1t",
    "outputId": "cece7beb-654d-4ffd-f2ba-eadb477c5db3"
   },
   "outputs": [
    {
     "name": "stdout",
     "output_type": "stream",
     "text": [
      "1.0    2793\n",
      "0.0    2388\n",
      "2.0     932\n",
      "Name: Outlet_Size, dtype: int64\n"
     ]
    }
   ],
   "source": [
    "df_sales['Outlet_Size'].replace({'Small': 0, 'Medium': 1, 'High': 2}, inplace=True)\n",
    "size = df_sales['Outlet_Size'].value_counts()\n",
    "print(size)"
   ]
  },
  {
   "cell_type": "markdown",
   "metadata": {
    "id": "LcymQBuzS2hL"
   },
   "source": [
    "- I am now ready to split the data into training and testing data."
   ]
  },
  {
   "cell_type": "markdown",
   "metadata": {
    "id": "gvNnJCrWSfYI"
   },
   "source": [
    "## Train Test Split"
   ]
  },
  {
   "cell_type": "code",
   "execution_count": 14,
   "metadata": {
    "id": "hEgE9Vr3SfDP"
   },
   "outputs": [],
   "source": [
    "X = df_sales.drop(columns=['Item_Outlet_Sales'])\n",
    "y = df_sales['Item_Outlet_Sales']\n",
    "X_train, X_test, y_train, y_test = train_test_split(X, y, random_state=42)"
   ]
  },
  {
   "cell_type": "code",
   "execution_count": 15,
   "metadata": {
    "colab": {
     "base_uri": "https://localhost:8080/",
     "height": 357
    },
    "id": "ad_vYs1iWdFO",
    "outputId": "6422495c-6277-44d6-82ab-6bfb63dffa1b"
   },
   "outputs": [
    {
     "data": {
      "text/html": [
       "\n",
       "  <div id=\"df-c0ba32c8-29af-4239-a910-106e3a80d361\">\n",
       "    <div class=\"colab-df-container\">\n",
       "      <div>\n",
       "<style scoped>\n",
       "    .dataframe tbody tr th:only-of-type {\n",
       "        vertical-align: middle;\n",
       "    }\n",
       "\n",
       "    .dataframe tbody tr th {\n",
       "        vertical-align: top;\n",
       "    }\n",
       "\n",
       "    .dataframe thead th {\n",
       "        text-align: right;\n",
       "    }\n",
       "</style>\n",
       "<table border=\"1\" class=\"dataframe\">\n",
       "  <thead>\n",
       "    <tr style=\"text-align: right;\">\n",
       "      <th></th>\n",
       "      <th>Item_Weight</th>\n",
       "      <th>Item_Fat_Content</th>\n",
       "      <th>Item_Visibility</th>\n",
       "      <th>Item_Type</th>\n",
       "      <th>Item_MRP</th>\n",
       "      <th>Outlet_Establishment_Year</th>\n",
       "      <th>Outlet_Size</th>\n",
       "      <th>Outlet_Location_Type</th>\n",
       "      <th>Outlet_Type</th>\n",
       "    </tr>\n",
       "  </thead>\n",
       "  <tbody>\n",
       "    <tr>\n",
       "      <th>4776</th>\n",
       "      <td>16.350</td>\n",
       "      <td>Low Fat</td>\n",
       "      <td>0.029565</td>\n",
       "      <td>Household</td>\n",
       "      <td>256.4646</td>\n",
       "      <td>2009</td>\n",
       "      <td>1.0</td>\n",
       "      <td>Tier 3</td>\n",
       "      <td>Supermarket Type2</td>\n",
       "    </tr>\n",
       "    <tr>\n",
       "      <th>7510</th>\n",
       "      <td>15.250</td>\n",
       "      <td>Regular</td>\n",
       "      <td>0.000000</td>\n",
       "      <td>Snack Foods</td>\n",
       "      <td>179.7660</td>\n",
       "      <td>2009</td>\n",
       "      <td>1.0</td>\n",
       "      <td>Tier 3</td>\n",
       "      <td>Supermarket Type2</td>\n",
       "    </tr>\n",
       "    <tr>\n",
       "      <th>5828</th>\n",
       "      <td>12.350</td>\n",
       "      <td>Regular</td>\n",
       "      <td>0.158716</td>\n",
       "      <td>Meat</td>\n",
       "      <td>157.2946</td>\n",
       "      <td>1999</td>\n",
       "      <td>1.0</td>\n",
       "      <td>Tier 1</td>\n",
       "      <td>Supermarket Type1</td>\n",
       "    </tr>\n",
       "    <tr>\n",
       "      <th>5327</th>\n",
       "      <td>7.975</td>\n",
       "      <td>Low Fat</td>\n",
       "      <td>0.014628</td>\n",
       "      <td>Baking Goods</td>\n",
       "      <td>82.3250</td>\n",
       "      <td>2004</td>\n",
       "      <td>0.0</td>\n",
       "      <td>Tier 2</td>\n",
       "      <td>Supermarket Type1</td>\n",
       "    </tr>\n",
       "    <tr>\n",
       "      <th>4810</th>\n",
       "      <td>19.350</td>\n",
       "      <td>Low Fat</td>\n",
       "      <td>0.016645</td>\n",
       "      <td>Frozen Foods</td>\n",
       "      <td>120.9098</td>\n",
       "      <td>2002</td>\n",
       "      <td>NaN</td>\n",
       "      <td>Tier 2</td>\n",
       "      <td>Supermarket Type1</td>\n",
       "    </tr>\n",
       "  </tbody>\n",
       "</table>\n",
       "</div>\n",
       "      <button class=\"colab-df-convert\" onclick=\"convertToInteractive('df-c0ba32c8-29af-4239-a910-106e3a80d361')\"\n",
       "              title=\"Convert this dataframe to an interactive table.\"\n",
       "              style=\"display:none;\">\n",
       "        \n",
       "  <svg xmlns=\"http://www.w3.org/2000/svg\" height=\"24px\"viewBox=\"0 0 24 24\"\n",
       "       width=\"24px\">\n",
       "    <path d=\"M0 0h24v24H0V0z\" fill=\"none\"/>\n",
       "    <path d=\"M18.56 5.44l.94 2.06.94-2.06 2.06-.94-2.06-.94-.94-2.06-.94 2.06-2.06.94zm-11 1L8.5 8.5l.94-2.06 2.06-.94-2.06-.94L8.5 2.5l-.94 2.06-2.06.94zm10 10l.94 2.06.94-2.06 2.06-.94-2.06-.94-.94-2.06-.94 2.06-2.06.94z\"/><path d=\"M17.41 7.96l-1.37-1.37c-.4-.4-.92-.59-1.43-.59-.52 0-1.04.2-1.43.59L10.3 9.45l-7.72 7.72c-.78.78-.78 2.05 0 2.83L4 21.41c.39.39.9.59 1.41.59.51 0 1.02-.2 1.41-.59l7.78-7.78 2.81-2.81c.8-.78.8-2.07 0-2.86zM5.41 20L4 18.59l7.72-7.72 1.47 1.35L5.41 20z\"/>\n",
       "  </svg>\n",
       "      </button>\n",
       "      \n",
       "  <style>\n",
       "    .colab-df-container {\n",
       "      display:flex;\n",
       "      flex-wrap:wrap;\n",
       "      gap: 12px;\n",
       "    }\n",
       "\n",
       "    .colab-df-convert {\n",
       "      background-color: #E8F0FE;\n",
       "      border: none;\n",
       "      border-radius: 50%;\n",
       "      cursor: pointer;\n",
       "      display: none;\n",
       "      fill: #1967D2;\n",
       "      height: 32px;\n",
       "      padding: 0 0 0 0;\n",
       "      width: 32px;\n",
       "    }\n",
       "\n",
       "    .colab-df-convert:hover {\n",
       "      background-color: #E2EBFA;\n",
       "      box-shadow: 0px 1px 2px rgba(60, 64, 67, 0.3), 0px 1px 3px 1px rgba(60, 64, 67, 0.15);\n",
       "      fill: #174EA6;\n",
       "    }\n",
       "\n",
       "    [theme=dark] .colab-df-convert {\n",
       "      background-color: #3B4455;\n",
       "      fill: #D2E3FC;\n",
       "    }\n",
       "\n",
       "    [theme=dark] .colab-df-convert:hover {\n",
       "      background-color: #434B5C;\n",
       "      box-shadow: 0px 1px 3px 1px rgba(0, 0, 0, 0.15);\n",
       "      filter: drop-shadow(0px 1px 2px rgba(0, 0, 0, 0.3));\n",
       "      fill: #FFFFFF;\n",
       "    }\n",
       "  </style>\n",
       "\n",
       "      <script>\n",
       "        const buttonEl =\n",
       "          document.querySelector('#df-c0ba32c8-29af-4239-a910-106e3a80d361 button.colab-df-convert');\n",
       "        buttonEl.style.display =\n",
       "          google.colab.kernel.accessAllowed ? 'block' : 'none';\n",
       "\n",
       "        async function convertToInteractive(key) {\n",
       "          const element = document.querySelector('#df-c0ba32c8-29af-4239-a910-106e3a80d361');\n",
       "          const dataTable =\n",
       "            await google.colab.kernel.invokeFunction('convertToInteractive',\n",
       "                                                     [key], {});\n",
       "          if (!dataTable) return;\n",
       "\n",
       "          const docLinkHtml = 'Like what you see? Visit the ' +\n",
       "            '<a target=\"_blank\" href=https://colab.research.google.com/notebooks/data_table.ipynb>data table notebook</a>'\n",
       "            + ' to learn more about interactive tables.';\n",
       "          element.innerHTML = '';\n",
       "          dataTable['output_type'] = 'display_data';\n",
       "          await google.colab.output.renderOutput(dataTable, element);\n",
       "          const docLink = document.createElement('div');\n",
       "          docLink.innerHTML = docLinkHtml;\n",
       "          element.appendChild(docLink);\n",
       "        }\n",
       "      </script>\n",
       "    </div>\n",
       "  </div>\n",
       "  "
      ],
      "text/plain": [
       "      Item_Weight Item_Fat_Content  Item_Visibility     Item_Type  Item_MRP  \\\n",
       "4776       16.350          Low Fat         0.029565     Household  256.4646   \n",
       "7510       15.250          Regular         0.000000   Snack Foods  179.7660   \n",
       "5828       12.350          Regular         0.158716          Meat  157.2946   \n",
       "5327        7.975          Low Fat         0.014628  Baking Goods   82.3250   \n",
       "4810       19.350          Low Fat         0.016645  Frozen Foods  120.9098   \n",
       "\n",
       "      Outlet_Establishment_Year  Outlet_Size Outlet_Location_Type  \\\n",
       "4776                       2009          1.0               Tier 3   \n",
       "7510                       2009          1.0               Tier 3   \n",
       "5828                       1999          1.0               Tier 1   \n",
       "5327                       2004          0.0               Tier 2   \n",
       "4810                       2002          NaN               Tier 2   \n",
       "\n",
       "            Outlet_Type  \n",
       "4776  Supermarket Type2  \n",
       "7510  Supermarket Type2  \n",
       "5828  Supermarket Type1  \n",
       "5327  Supermarket Type1  \n",
       "4810  Supermarket Type1  "
      ]
     },
     "execution_count": 15,
     "metadata": {},
     "output_type": "execute_result"
    }
   ],
   "source": [
    "X_train.head()"
   ]
  },
  {
   "cell_type": "code",
   "execution_count": 16,
   "metadata": {
    "id": "1SvSvELWTdgM"
   },
   "outputs": [],
   "source": [
    "# I will instantiate my column selectors\n",
    "cat_selector = make_column_selector(dtype_include='object')\n",
    "num_selector = make_column_selector(dtype_include='number')"
   ]
  },
  {
   "cell_type": "markdown",
   "metadata": {
    "id": "AKLAKANhUcxP"
   },
   "source": [
    "- After I have selected columns of both object and numeric types, next I will use SimpleImputer to fill in the missing values. Directly after that, I will scale the numeric values and one hot encode the categorical data."
   ]
  },
  {
   "cell_type": "code",
   "execution_count": 17,
   "metadata": {
    "id": "gRRCNwGLUPqJ"
   },
   "outputs": [],
   "source": [
    "# Imputers (for both numeric and categorical columns)\n",
    "freq_imputer = SimpleImputer(strategy='most_frequent')\n",
    "mean_imputer = SimpleImputer(strategy='mean')\n",
    "# Scaler for numeric\n",
    "scaler = StandardScaler()\n",
    "# One-hot encoder for categorical\n",
    "ohe = OneHotEncoder(handle_unknown='ignore')"
   ]
  },
  {
   "cell_type": "markdown",
   "metadata": {
    "id": "QUFs17aTVt7b"
   },
   "source": [
    "- I chose the 'most_frequent' for the categorical columns and the 'mean' for the numeric columns. The most frequent value makes the most sense since there are many rows of data and the likelihood of it being that frequent value is higher. The mean makes the most sense for the numeric values because the data contains a lot of specific values, such as prices and weights. Numbers that contain decimal places and that contain high variability work best if imputed as an average."
   ]
  },
  {
   "cell_type": "markdown",
   "metadata": {
    "id": "MzEIcNkcVlMp"
   },
   "source": [
    "- Next I will create the pipelines for both of the numeric and categorical columns."
   ]
  },
  {
   "cell_type": "code",
   "execution_count": 18,
   "metadata": {
    "colab": {
     "base_uri": "https://localhost:8080/",
     "height": 127
    },
    "id": "n3Dh03uzU1yo",
    "outputId": "388fefad-2ccc-48a5-bead-aff114eec8c1"
   },
   "outputs": [
    {
     "data": {
      "text/html": [
       "<style>#sk-256f1e7d-7002-46d8-908f-170edbf03c2c {color: black;background-color: white;}#sk-256f1e7d-7002-46d8-908f-170edbf03c2c pre{padding: 0;}#sk-256f1e7d-7002-46d8-908f-170edbf03c2c div.sk-toggleable {background-color: white;}#sk-256f1e7d-7002-46d8-908f-170edbf03c2c label.sk-toggleable__label {cursor: pointer;display: block;width: 100%;margin-bottom: 0;padding: 0.3em;box-sizing: border-box;text-align: center;}#sk-256f1e7d-7002-46d8-908f-170edbf03c2c label.sk-toggleable__label-arrow:before {content: \"▸\";float: left;margin-right: 0.25em;color: #696969;}#sk-256f1e7d-7002-46d8-908f-170edbf03c2c label.sk-toggleable__label-arrow:hover:before {color: black;}#sk-256f1e7d-7002-46d8-908f-170edbf03c2c div.sk-estimator:hover label.sk-toggleable__label-arrow:before {color: black;}#sk-256f1e7d-7002-46d8-908f-170edbf03c2c div.sk-toggleable__content {max-height: 0;max-width: 0;overflow: hidden;text-align: left;background-color: #f0f8ff;}#sk-256f1e7d-7002-46d8-908f-170edbf03c2c div.sk-toggleable__content pre {margin: 0.2em;color: black;border-radius: 0.25em;background-color: #f0f8ff;}#sk-256f1e7d-7002-46d8-908f-170edbf03c2c input.sk-toggleable__control:checked~div.sk-toggleable__content {max-height: 200px;max-width: 100%;overflow: auto;}#sk-256f1e7d-7002-46d8-908f-170edbf03c2c input.sk-toggleable__control:checked~label.sk-toggleable__label-arrow:before {content: \"▾\";}#sk-256f1e7d-7002-46d8-908f-170edbf03c2c div.sk-estimator input.sk-toggleable__control:checked~label.sk-toggleable__label {background-color: #d4ebff;}#sk-256f1e7d-7002-46d8-908f-170edbf03c2c div.sk-label input.sk-toggleable__control:checked~label.sk-toggleable__label {background-color: #d4ebff;}#sk-256f1e7d-7002-46d8-908f-170edbf03c2c input.sk-hidden--visually {border: 0;clip: rect(1px 1px 1px 1px);clip: rect(1px, 1px, 1px, 1px);height: 1px;margin: -1px;overflow: hidden;padding: 0;position: absolute;width: 1px;}#sk-256f1e7d-7002-46d8-908f-170edbf03c2c div.sk-estimator {font-family: monospace;background-color: #f0f8ff;border: 1px dotted black;border-radius: 0.25em;box-sizing: border-box;margin-bottom: 0.5em;}#sk-256f1e7d-7002-46d8-908f-170edbf03c2c div.sk-estimator:hover {background-color: #d4ebff;}#sk-256f1e7d-7002-46d8-908f-170edbf03c2c div.sk-parallel-item::after {content: \"\";width: 100%;border-bottom: 1px solid gray;flex-grow: 1;}#sk-256f1e7d-7002-46d8-908f-170edbf03c2c div.sk-label:hover label.sk-toggleable__label {background-color: #d4ebff;}#sk-256f1e7d-7002-46d8-908f-170edbf03c2c div.sk-serial::before {content: \"\";position: absolute;border-left: 1px solid gray;box-sizing: border-box;top: 2em;bottom: 0;left: 50%;}#sk-256f1e7d-7002-46d8-908f-170edbf03c2c div.sk-serial {display: flex;flex-direction: column;align-items: center;background-color: white;padding-right: 0.2em;padding-left: 0.2em;}#sk-256f1e7d-7002-46d8-908f-170edbf03c2c div.sk-item {z-index: 1;}#sk-256f1e7d-7002-46d8-908f-170edbf03c2c div.sk-parallel {display: flex;align-items: stretch;justify-content: center;background-color: white;}#sk-256f1e7d-7002-46d8-908f-170edbf03c2c div.sk-parallel::before {content: \"\";position: absolute;border-left: 1px solid gray;box-sizing: border-box;top: 2em;bottom: 0;left: 50%;}#sk-256f1e7d-7002-46d8-908f-170edbf03c2c div.sk-parallel-item {display: flex;flex-direction: column;position: relative;background-color: white;}#sk-256f1e7d-7002-46d8-908f-170edbf03c2c div.sk-parallel-item:first-child::after {align-self: flex-end;width: 50%;}#sk-256f1e7d-7002-46d8-908f-170edbf03c2c div.sk-parallel-item:last-child::after {align-self: flex-start;width: 50%;}#sk-256f1e7d-7002-46d8-908f-170edbf03c2c div.sk-parallel-item:only-child::after {width: 0;}#sk-256f1e7d-7002-46d8-908f-170edbf03c2c div.sk-dashed-wrapped {border: 1px dashed gray;margin: 0 0.4em 0.5em 0.4em;box-sizing: border-box;padding-bottom: 0.4em;background-color: white;position: relative;}#sk-256f1e7d-7002-46d8-908f-170edbf03c2c div.sk-label label {font-family: monospace;font-weight: bold;background-color: white;display: inline-block;line-height: 1.2em;}#sk-256f1e7d-7002-46d8-908f-170edbf03c2c div.sk-label-container {position: relative;z-index: 2;text-align: center;}#sk-256f1e7d-7002-46d8-908f-170edbf03c2c div.sk-container {/* jupyter's `normalize.less` sets `[hidden] { display: none; }` but bootstrap.min.css set `[hidden] { display: none !important; }` so we also need the `!important` here to be able to override the default hidden behavior on the sphinx rendered scikit-learn.org. See: https://github.com/scikit-learn/scikit-learn/issues/21755 */display: inline-block !important;position: relative;}#sk-256f1e7d-7002-46d8-908f-170edbf03c2c div.sk-text-repr-fallback {display: none;}</style><div id=\"sk-256f1e7d-7002-46d8-908f-170edbf03c2c\" class=\"sk-top-container\"><div class=\"sk-text-repr-fallback\"><pre>Pipeline(steps=[(&#x27;simpleimputer&#x27;, SimpleImputer()),\n",
       "                (&#x27;standardscaler&#x27;, StandardScaler())])</pre><b>Please rerun this cell to show the HTML repr or trust the notebook.</b></div><div class=\"sk-container\" hidden><div class=\"sk-item sk-dashed-wrapped\"><div class=\"sk-label-container\"><div class=\"sk-label sk-toggleable\"><input class=\"sk-toggleable__control sk-hidden--visually\" id=\"e8ed9fd1-6430-4db1-b558-7c9bd3f1b829\" type=\"checkbox\" ><label for=\"e8ed9fd1-6430-4db1-b558-7c9bd3f1b829\" class=\"sk-toggleable__label sk-toggleable__label-arrow\">Pipeline</label><div class=\"sk-toggleable__content\"><pre>Pipeline(steps=[(&#x27;simpleimputer&#x27;, SimpleImputer()),\n",
       "                (&#x27;standardscaler&#x27;, StandardScaler())])</pre></div></div></div><div class=\"sk-serial\"><div class=\"sk-item\"><div class=\"sk-estimator sk-toggleable\"><input class=\"sk-toggleable__control sk-hidden--visually\" id=\"ff7c96b9-ba66-4a1a-b2aa-8cdd91068e87\" type=\"checkbox\" ><label for=\"ff7c96b9-ba66-4a1a-b2aa-8cdd91068e87\" class=\"sk-toggleable__label sk-toggleable__label-arrow\">SimpleImputer</label><div class=\"sk-toggleable__content\"><pre>SimpleImputer()</pre></div></div></div><div class=\"sk-item\"><div class=\"sk-estimator sk-toggleable\"><input class=\"sk-toggleable__control sk-hidden--visually\" id=\"f9be7e12-e780-4a95-b8c3-bfae3480f0a2\" type=\"checkbox\" ><label for=\"f9be7e12-e780-4a95-b8c3-bfae3480f0a2\" class=\"sk-toggleable__label sk-toggleable__label-arrow\">StandardScaler</label><div class=\"sk-toggleable__content\"><pre>StandardScaler()</pre></div></div></div></div></div></div></div>"
      ],
      "text/plain": [
       "Pipeline(steps=[('simpleimputer', SimpleImputer()),\n",
       "                ('standardscaler', StandardScaler())])"
      ]
     },
     "execution_count": 18,
     "metadata": {},
     "output_type": "execute_result"
    }
   ],
   "source": [
    "# numeric pipeline\n",
    "numeric_pipe = make_pipeline(mean_imputer, scaler)\n",
    "numeric_pipe"
   ]
  },
  {
   "cell_type": "code",
   "execution_count": 19,
   "metadata": {
    "colab": {
     "base_uri": "https://localhost:8080/",
     "height": 127
    },
    "id": "ZtxbEYp-XHCg",
    "outputId": "d9f31bfc-a3f0-4da6-aafe-d7c84f6ee72a"
   },
   "outputs": [
    {
     "data": {
      "text/html": [
       "<style>#sk-18d0d9c9-06ae-49f1-83bc-4deb133fd4fb {color: black;background-color: white;}#sk-18d0d9c9-06ae-49f1-83bc-4deb133fd4fb pre{padding: 0;}#sk-18d0d9c9-06ae-49f1-83bc-4deb133fd4fb div.sk-toggleable {background-color: white;}#sk-18d0d9c9-06ae-49f1-83bc-4deb133fd4fb label.sk-toggleable__label {cursor: pointer;display: block;width: 100%;margin-bottom: 0;padding: 0.3em;box-sizing: border-box;text-align: center;}#sk-18d0d9c9-06ae-49f1-83bc-4deb133fd4fb label.sk-toggleable__label-arrow:before {content: \"▸\";float: left;margin-right: 0.25em;color: #696969;}#sk-18d0d9c9-06ae-49f1-83bc-4deb133fd4fb label.sk-toggleable__label-arrow:hover:before {color: black;}#sk-18d0d9c9-06ae-49f1-83bc-4deb133fd4fb div.sk-estimator:hover label.sk-toggleable__label-arrow:before {color: black;}#sk-18d0d9c9-06ae-49f1-83bc-4deb133fd4fb div.sk-toggleable__content {max-height: 0;max-width: 0;overflow: hidden;text-align: left;background-color: #f0f8ff;}#sk-18d0d9c9-06ae-49f1-83bc-4deb133fd4fb div.sk-toggleable__content pre {margin: 0.2em;color: black;border-radius: 0.25em;background-color: #f0f8ff;}#sk-18d0d9c9-06ae-49f1-83bc-4deb133fd4fb input.sk-toggleable__control:checked~div.sk-toggleable__content {max-height: 200px;max-width: 100%;overflow: auto;}#sk-18d0d9c9-06ae-49f1-83bc-4deb133fd4fb input.sk-toggleable__control:checked~label.sk-toggleable__label-arrow:before {content: \"▾\";}#sk-18d0d9c9-06ae-49f1-83bc-4deb133fd4fb div.sk-estimator input.sk-toggleable__control:checked~label.sk-toggleable__label {background-color: #d4ebff;}#sk-18d0d9c9-06ae-49f1-83bc-4deb133fd4fb div.sk-label input.sk-toggleable__control:checked~label.sk-toggleable__label {background-color: #d4ebff;}#sk-18d0d9c9-06ae-49f1-83bc-4deb133fd4fb input.sk-hidden--visually {border: 0;clip: rect(1px 1px 1px 1px);clip: rect(1px, 1px, 1px, 1px);height: 1px;margin: -1px;overflow: hidden;padding: 0;position: absolute;width: 1px;}#sk-18d0d9c9-06ae-49f1-83bc-4deb133fd4fb div.sk-estimator {font-family: monospace;background-color: #f0f8ff;border: 1px dotted black;border-radius: 0.25em;box-sizing: border-box;margin-bottom: 0.5em;}#sk-18d0d9c9-06ae-49f1-83bc-4deb133fd4fb div.sk-estimator:hover {background-color: #d4ebff;}#sk-18d0d9c9-06ae-49f1-83bc-4deb133fd4fb div.sk-parallel-item::after {content: \"\";width: 100%;border-bottom: 1px solid gray;flex-grow: 1;}#sk-18d0d9c9-06ae-49f1-83bc-4deb133fd4fb div.sk-label:hover label.sk-toggleable__label {background-color: #d4ebff;}#sk-18d0d9c9-06ae-49f1-83bc-4deb133fd4fb div.sk-serial::before {content: \"\";position: absolute;border-left: 1px solid gray;box-sizing: border-box;top: 2em;bottom: 0;left: 50%;}#sk-18d0d9c9-06ae-49f1-83bc-4deb133fd4fb div.sk-serial {display: flex;flex-direction: column;align-items: center;background-color: white;padding-right: 0.2em;padding-left: 0.2em;}#sk-18d0d9c9-06ae-49f1-83bc-4deb133fd4fb div.sk-item {z-index: 1;}#sk-18d0d9c9-06ae-49f1-83bc-4deb133fd4fb div.sk-parallel {display: flex;align-items: stretch;justify-content: center;background-color: white;}#sk-18d0d9c9-06ae-49f1-83bc-4deb133fd4fb div.sk-parallel::before {content: \"\";position: absolute;border-left: 1px solid gray;box-sizing: border-box;top: 2em;bottom: 0;left: 50%;}#sk-18d0d9c9-06ae-49f1-83bc-4deb133fd4fb div.sk-parallel-item {display: flex;flex-direction: column;position: relative;background-color: white;}#sk-18d0d9c9-06ae-49f1-83bc-4deb133fd4fb div.sk-parallel-item:first-child::after {align-self: flex-end;width: 50%;}#sk-18d0d9c9-06ae-49f1-83bc-4deb133fd4fb div.sk-parallel-item:last-child::after {align-self: flex-start;width: 50%;}#sk-18d0d9c9-06ae-49f1-83bc-4deb133fd4fb div.sk-parallel-item:only-child::after {width: 0;}#sk-18d0d9c9-06ae-49f1-83bc-4deb133fd4fb div.sk-dashed-wrapped {border: 1px dashed gray;margin: 0 0.4em 0.5em 0.4em;box-sizing: border-box;padding-bottom: 0.4em;background-color: white;position: relative;}#sk-18d0d9c9-06ae-49f1-83bc-4deb133fd4fb div.sk-label label {font-family: monospace;font-weight: bold;background-color: white;display: inline-block;line-height: 1.2em;}#sk-18d0d9c9-06ae-49f1-83bc-4deb133fd4fb div.sk-label-container {position: relative;z-index: 2;text-align: center;}#sk-18d0d9c9-06ae-49f1-83bc-4deb133fd4fb div.sk-container {/* jupyter's `normalize.less` sets `[hidden] { display: none; }` but bootstrap.min.css set `[hidden] { display: none !important; }` so we also need the `!important` here to be able to override the default hidden behavior on the sphinx rendered scikit-learn.org. See: https://github.com/scikit-learn/scikit-learn/issues/21755 */display: inline-block !important;position: relative;}#sk-18d0d9c9-06ae-49f1-83bc-4deb133fd4fb div.sk-text-repr-fallback {display: none;}</style><div id=\"sk-18d0d9c9-06ae-49f1-83bc-4deb133fd4fb\" class=\"sk-top-container\"><div class=\"sk-text-repr-fallback\"><pre>Pipeline(steps=[(&#x27;simpleimputer&#x27;, SimpleImputer(strategy=&#x27;most_frequent&#x27;)),\n",
       "                (&#x27;onehotencoder&#x27;, OneHotEncoder(handle_unknown=&#x27;ignore&#x27;))])</pre><b>Please rerun this cell to show the HTML repr or trust the notebook.</b></div><div class=\"sk-container\" hidden><div class=\"sk-item sk-dashed-wrapped\"><div class=\"sk-label-container\"><div class=\"sk-label sk-toggleable\"><input class=\"sk-toggleable__control sk-hidden--visually\" id=\"af042c26-21d3-4b9a-8e70-51f53a3afc58\" type=\"checkbox\" ><label for=\"af042c26-21d3-4b9a-8e70-51f53a3afc58\" class=\"sk-toggleable__label sk-toggleable__label-arrow\">Pipeline</label><div class=\"sk-toggleable__content\"><pre>Pipeline(steps=[(&#x27;simpleimputer&#x27;, SimpleImputer(strategy=&#x27;most_frequent&#x27;)),\n",
       "                (&#x27;onehotencoder&#x27;, OneHotEncoder(handle_unknown=&#x27;ignore&#x27;))])</pre></div></div></div><div class=\"sk-serial\"><div class=\"sk-item\"><div class=\"sk-estimator sk-toggleable\"><input class=\"sk-toggleable__control sk-hidden--visually\" id=\"7a1c8994-eb2e-4f27-a8c4-0c401346a803\" type=\"checkbox\" ><label for=\"7a1c8994-eb2e-4f27-a8c4-0c401346a803\" class=\"sk-toggleable__label sk-toggleable__label-arrow\">SimpleImputer</label><div class=\"sk-toggleable__content\"><pre>SimpleImputer(strategy=&#x27;most_frequent&#x27;)</pre></div></div></div><div class=\"sk-item\"><div class=\"sk-estimator sk-toggleable\"><input class=\"sk-toggleable__control sk-hidden--visually\" id=\"395f1b3f-20c2-4305-842e-8d36cafad0b6\" type=\"checkbox\" ><label for=\"395f1b3f-20c2-4305-842e-8d36cafad0b6\" class=\"sk-toggleable__label sk-toggleable__label-arrow\">OneHotEncoder</label><div class=\"sk-toggleable__content\"><pre>OneHotEncoder(handle_unknown=&#x27;ignore&#x27;)</pre></div></div></div></div></div></div></div>"
      ],
      "text/plain": [
       "Pipeline(steps=[('simpleimputer', SimpleImputer(strategy='most_frequent')),\n",
       "                ('onehotencoder', OneHotEncoder(handle_unknown='ignore'))])"
      ]
     },
     "execution_count": 19,
     "metadata": {},
     "output_type": "execute_result"
    }
   ],
   "source": [
    "# categorical pipeline\n",
    "categorical_pipe = make_pipeline(freq_imputer, ohe)\n",
    "categorical_pipe"
   ]
  },
  {
   "cell_type": "code",
   "execution_count": 20,
   "metadata": {
    "id": "h3ElbWRSWsjJ"
   },
   "outputs": [],
   "source": [
    "# Tuples for Column Transformer\n",
    "number_tuple = (numeric_pipe, num_selector)\n",
    "category_tuple = (categorical_pipe, cat_selector)"
   ]
  },
  {
   "cell_type": "markdown",
   "metadata": {
    "id": "W-I2bqacXPYR"
   },
   "source": [
    "Using the tuples created for both the numeric and categorical columns, I will transform the data in ColumnTransformer"
   ]
  },
  {
   "cell_type": "code",
   "execution_count": 21,
   "metadata": {
    "colab": {
     "base_uri": "https://localhost:8080/",
     "height": 153
    },
    "id": "sPFT_0GLWuCJ",
    "outputId": "918f5772-c3df-434a-f349-7fc11b8a217c"
   },
   "outputs": [
    {
     "data": {
      "text/html": [
       "<style>#sk-25d43bc9-cd52-4d2f-aecc-e0aa4ebfddfc {color: black;background-color: white;}#sk-25d43bc9-cd52-4d2f-aecc-e0aa4ebfddfc pre{padding: 0;}#sk-25d43bc9-cd52-4d2f-aecc-e0aa4ebfddfc div.sk-toggleable {background-color: white;}#sk-25d43bc9-cd52-4d2f-aecc-e0aa4ebfddfc label.sk-toggleable__label {cursor: pointer;display: block;width: 100%;margin-bottom: 0;padding: 0.3em;box-sizing: border-box;text-align: center;}#sk-25d43bc9-cd52-4d2f-aecc-e0aa4ebfddfc label.sk-toggleable__label-arrow:before {content: \"▸\";float: left;margin-right: 0.25em;color: #696969;}#sk-25d43bc9-cd52-4d2f-aecc-e0aa4ebfddfc label.sk-toggleable__label-arrow:hover:before {color: black;}#sk-25d43bc9-cd52-4d2f-aecc-e0aa4ebfddfc div.sk-estimator:hover label.sk-toggleable__label-arrow:before {color: black;}#sk-25d43bc9-cd52-4d2f-aecc-e0aa4ebfddfc div.sk-toggleable__content {max-height: 0;max-width: 0;overflow: hidden;text-align: left;background-color: #f0f8ff;}#sk-25d43bc9-cd52-4d2f-aecc-e0aa4ebfddfc div.sk-toggleable__content pre {margin: 0.2em;color: black;border-radius: 0.25em;background-color: #f0f8ff;}#sk-25d43bc9-cd52-4d2f-aecc-e0aa4ebfddfc input.sk-toggleable__control:checked~div.sk-toggleable__content {max-height: 200px;max-width: 100%;overflow: auto;}#sk-25d43bc9-cd52-4d2f-aecc-e0aa4ebfddfc input.sk-toggleable__control:checked~label.sk-toggleable__label-arrow:before {content: \"▾\";}#sk-25d43bc9-cd52-4d2f-aecc-e0aa4ebfddfc div.sk-estimator input.sk-toggleable__control:checked~label.sk-toggleable__label {background-color: #d4ebff;}#sk-25d43bc9-cd52-4d2f-aecc-e0aa4ebfddfc div.sk-label input.sk-toggleable__control:checked~label.sk-toggleable__label {background-color: #d4ebff;}#sk-25d43bc9-cd52-4d2f-aecc-e0aa4ebfddfc input.sk-hidden--visually {border: 0;clip: rect(1px 1px 1px 1px);clip: rect(1px, 1px, 1px, 1px);height: 1px;margin: -1px;overflow: hidden;padding: 0;position: absolute;width: 1px;}#sk-25d43bc9-cd52-4d2f-aecc-e0aa4ebfddfc div.sk-estimator {font-family: monospace;background-color: #f0f8ff;border: 1px dotted black;border-radius: 0.25em;box-sizing: border-box;margin-bottom: 0.5em;}#sk-25d43bc9-cd52-4d2f-aecc-e0aa4ebfddfc div.sk-estimator:hover {background-color: #d4ebff;}#sk-25d43bc9-cd52-4d2f-aecc-e0aa4ebfddfc div.sk-parallel-item::after {content: \"\";width: 100%;border-bottom: 1px solid gray;flex-grow: 1;}#sk-25d43bc9-cd52-4d2f-aecc-e0aa4ebfddfc div.sk-label:hover label.sk-toggleable__label {background-color: #d4ebff;}#sk-25d43bc9-cd52-4d2f-aecc-e0aa4ebfddfc div.sk-serial::before {content: \"\";position: absolute;border-left: 1px solid gray;box-sizing: border-box;top: 2em;bottom: 0;left: 50%;}#sk-25d43bc9-cd52-4d2f-aecc-e0aa4ebfddfc div.sk-serial {display: flex;flex-direction: column;align-items: center;background-color: white;padding-right: 0.2em;padding-left: 0.2em;}#sk-25d43bc9-cd52-4d2f-aecc-e0aa4ebfddfc div.sk-item {z-index: 1;}#sk-25d43bc9-cd52-4d2f-aecc-e0aa4ebfddfc div.sk-parallel {display: flex;align-items: stretch;justify-content: center;background-color: white;}#sk-25d43bc9-cd52-4d2f-aecc-e0aa4ebfddfc div.sk-parallel::before {content: \"\";position: absolute;border-left: 1px solid gray;box-sizing: border-box;top: 2em;bottom: 0;left: 50%;}#sk-25d43bc9-cd52-4d2f-aecc-e0aa4ebfddfc div.sk-parallel-item {display: flex;flex-direction: column;position: relative;background-color: white;}#sk-25d43bc9-cd52-4d2f-aecc-e0aa4ebfddfc div.sk-parallel-item:first-child::after {align-self: flex-end;width: 50%;}#sk-25d43bc9-cd52-4d2f-aecc-e0aa4ebfddfc div.sk-parallel-item:last-child::after {align-self: flex-start;width: 50%;}#sk-25d43bc9-cd52-4d2f-aecc-e0aa4ebfddfc div.sk-parallel-item:only-child::after {width: 0;}#sk-25d43bc9-cd52-4d2f-aecc-e0aa4ebfddfc div.sk-dashed-wrapped {border: 1px dashed gray;margin: 0 0.4em 0.5em 0.4em;box-sizing: border-box;padding-bottom: 0.4em;background-color: white;position: relative;}#sk-25d43bc9-cd52-4d2f-aecc-e0aa4ebfddfc div.sk-label label {font-family: monospace;font-weight: bold;background-color: white;display: inline-block;line-height: 1.2em;}#sk-25d43bc9-cd52-4d2f-aecc-e0aa4ebfddfc div.sk-label-container {position: relative;z-index: 2;text-align: center;}#sk-25d43bc9-cd52-4d2f-aecc-e0aa4ebfddfc div.sk-container {/* jupyter's `normalize.less` sets `[hidden] { display: none; }` but bootstrap.min.css set `[hidden] { display: none !important; }` so we also need the `!important` here to be able to override the default hidden behavior on the sphinx rendered scikit-learn.org. See: https://github.com/scikit-learn/scikit-learn/issues/21755 */display: inline-block !important;position: relative;}#sk-25d43bc9-cd52-4d2f-aecc-e0aa4ebfddfc div.sk-text-repr-fallback {display: none;}</style><div id=\"sk-25d43bc9-cd52-4d2f-aecc-e0aa4ebfddfc\" class=\"sk-top-container\"><div class=\"sk-text-repr-fallback\"><pre>ColumnTransformer(transformers=[(&#x27;pipeline-1&#x27;,\n",
       "                                 Pipeline(steps=[(&#x27;simpleimputer&#x27;,\n",
       "                                                  SimpleImputer()),\n",
       "                                                 (&#x27;standardscaler&#x27;,\n",
       "                                                  StandardScaler())]),\n",
       "                                 &lt;sklearn.compose._column_transformer.make_column_selector object at 0x7f6972b31c10&gt;),\n",
       "                                (&#x27;pipeline-2&#x27;,\n",
       "                                 Pipeline(steps=[(&#x27;simpleimputer&#x27;,\n",
       "                                                  SimpleImputer(strategy=&#x27;most_frequent&#x27;)),\n",
       "                                                 (&#x27;onehotencoder&#x27;,\n",
       "                                                  OneHotEncoder(handle_unknown=&#x27;ignore&#x27;))]),\n",
       "                                 &lt;sklearn.compose._column_transformer.make_column_selector object at 0x7f6972b317c0&gt;)])</pre><b>Please rerun this cell to show the HTML repr or trust the notebook.</b></div><div class=\"sk-container\" hidden><div class=\"sk-item sk-dashed-wrapped\"><div class=\"sk-label-container\"><div class=\"sk-label sk-toggleable\"><input class=\"sk-toggleable__control sk-hidden--visually\" id=\"a2af7986-c3b6-4efd-92ac-35752f72bf08\" type=\"checkbox\" ><label for=\"a2af7986-c3b6-4efd-92ac-35752f72bf08\" class=\"sk-toggleable__label sk-toggleable__label-arrow\">ColumnTransformer</label><div class=\"sk-toggleable__content\"><pre>ColumnTransformer(transformers=[(&#x27;pipeline-1&#x27;,\n",
       "                                 Pipeline(steps=[(&#x27;simpleimputer&#x27;,\n",
       "                                                  SimpleImputer()),\n",
       "                                                 (&#x27;standardscaler&#x27;,\n",
       "                                                  StandardScaler())]),\n",
       "                                 &lt;sklearn.compose._column_transformer.make_column_selector object at 0x7f6972b31c10&gt;),\n",
       "                                (&#x27;pipeline-2&#x27;,\n",
       "                                 Pipeline(steps=[(&#x27;simpleimputer&#x27;,\n",
       "                                                  SimpleImputer(strategy=&#x27;most_frequent&#x27;)),\n",
       "                                                 (&#x27;onehotencoder&#x27;,\n",
       "                                                  OneHotEncoder(handle_unknown=&#x27;ignore&#x27;))]),\n",
       "                                 &lt;sklearn.compose._column_transformer.make_column_selector object at 0x7f6972b317c0&gt;)])</pre></div></div></div><div class=\"sk-parallel\"><div class=\"sk-parallel-item\"><div class=\"sk-item\"><div class=\"sk-label-container\"><div class=\"sk-label sk-toggleable\"><input class=\"sk-toggleable__control sk-hidden--visually\" id=\"aaf3140e-e207-471d-8f44-04cad640884d\" type=\"checkbox\" ><label for=\"aaf3140e-e207-471d-8f44-04cad640884d\" class=\"sk-toggleable__label sk-toggleable__label-arrow\">pipeline-1</label><div class=\"sk-toggleable__content\"><pre>&lt;sklearn.compose._column_transformer.make_column_selector object at 0x7f6972b31c10&gt;</pre></div></div></div><div class=\"sk-serial\"><div class=\"sk-item\"><div class=\"sk-serial\"><div class=\"sk-item\"><div class=\"sk-estimator sk-toggleable\"><input class=\"sk-toggleable__control sk-hidden--visually\" id=\"2e1952d7-f2a1-4297-a164-fc28a1ec614d\" type=\"checkbox\" ><label for=\"2e1952d7-f2a1-4297-a164-fc28a1ec614d\" class=\"sk-toggleable__label sk-toggleable__label-arrow\">SimpleImputer</label><div class=\"sk-toggleable__content\"><pre>SimpleImputer()</pre></div></div></div><div class=\"sk-item\"><div class=\"sk-estimator sk-toggleable\"><input class=\"sk-toggleable__control sk-hidden--visually\" id=\"a55fa796-6708-468a-82a0-9965a86b5b2b\" type=\"checkbox\" ><label for=\"a55fa796-6708-468a-82a0-9965a86b5b2b\" class=\"sk-toggleable__label sk-toggleable__label-arrow\">StandardScaler</label><div class=\"sk-toggleable__content\"><pre>StandardScaler()</pre></div></div></div></div></div></div></div></div><div class=\"sk-parallel-item\"><div class=\"sk-item\"><div class=\"sk-label-container\"><div class=\"sk-label sk-toggleable\"><input class=\"sk-toggleable__control sk-hidden--visually\" id=\"93dd588b-4f38-4e87-8442-6490fe5cf9d5\" type=\"checkbox\" ><label for=\"93dd588b-4f38-4e87-8442-6490fe5cf9d5\" class=\"sk-toggleable__label sk-toggleable__label-arrow\">pipeline-2</label><div class=\"sk-toggleable__content\"><pre>&lt;sklearn.compose._column_transformer.make_column_selector object at 0x7f6972b317c0&gt;</pre></div></div></div><div class=\"sk-serial\"><div class=\"sk-item\"><div class=\"sk-serial\"><div class=\"sk-item\"><div class=\"sk-estimator sk-toggleable\"><input class=\"sk-toggleable__control sk-hidden--visually\" id=\"d948e005-7854-4905-ba9c-4f9a8bb22c54\" type=\"checkbox\" ><label for=\"d948e005-7854-4905-ba9c-4f9a8bb22c54\" class=\"sk-toggleable__label sk-toggleable__label-arrow\">SimpleImputer</label><div class=\"sk-toggleable__content\"><pre>SimpleImputer(strategy=&#x27;most_frequent&#x27;)</pre></div></div></div><div class=\"sk-item\"><div class=\"sk-estimator sk-toggleable\"><input class=\"sk-toggleable__control sk-hidden--visually\" id=\"ba8b9623-47ff-48cb-a1df-772b314292bf\" type=\"checkbox\" ><label for=\"ba8b9623-47ff-48cb-a1df-772b314292bf\" class=\"sk-toggleable__label sk-toggleable__label-arrow\">OneHotEncoder</label><div class=\"sk-toggleable__content\"><pre>OneHotEncoder(handle_unknown=&#x27;ignore&#x27;)</pre></div></div></div></div></div></div></div></div></div></div></div></div>"
      ],
      "text/plain": [
       "ColumnTransformer(transformers=[('pipeline-1',\n",
       "                                 Pipeline(steps=[('simpleimputer',\n",
       "                                                  SimpleImputer()),\n",
       "                                                 ('standardscaler',\n",
       "                                                  StandardScaler())]),\n",
       "                                 <sklearn.compose._column_transformer.make_column_selector object at 0x7f6972b31c10>),\n",
       "                                ('pipeline-2',\n",
       "                                 Pipeline(steps=[('simpleimputer',\n",
       "                                                  SimpleImputer(strategy='most_frequent')),\n",
       "                                                 ('onehotencoder',\n",
       "                                                  OneHotEncoder(handle_unknown='ignore'))]),\n",
       "                                 <sklearn.compose._column_transformer.make_column_selector object at 0x7f6972b317c0>)])"
      ]
     },
     "execution_count": 21,
     "metadata": {},
     "output_type": "execute_result"
    }
   ],
   "source": [
    "# ColumnTransformer\n",
    "preprocessor = make_column_transformer(number_tuple, category_tuple)\n",
    "preprocessor"
   ]
  },
  {
   "cell_type": "markdown",
   "metadata": {
    "id": "zWFrWvKcXhRb"
   },
   "source": [
    "- Now all that's left to do is wrap it up and fit it on the training data!"
   ]
  },
  {
   "cell_type": "code",
   "execution_count": 22,
   "metadata": {
    "colab": {
     "base_uri": "https://localhost:8080/",
     "height": 153
    },
    "id": "CSzO2sS9XnA6",
    "outputId": "72a206dd-8068-4c54-9719-d129cc532072"
   },
   "outputs": [
    {
     "data": {
      "text/html": [
       "<style>#sk-d672d271-0b04-47f9-bd86-21f1c2cc425d {color: black;background-color: white;}#sk-d672d271-0b04-47f9-bd86-21f1c2cc425d pre{padding: 0;}#sk-d672d271-0b04-47f9-bd86-21f1c2cc425d div.sk-toggleable {background-color: white;}#sk-d672d271-0b04-47f9-bd86-21f1c2cc425d label.sk-toggleable__label {cursor: pointer;display: block;width: 100%;margin-bottom: 0;padding: 0.3em;box-sizing: border-box;text-align: center;}#sk-d672d271-0b04-47f9-bd86-21f1c2cc425d label.sk-toggleable__label-arrow:before {content: \"▸\";float: left;margin-right: 0.25em;color: #696969;}#sk-d672d271-0b04-47f9-bd86-21f1c2cc425d label.sk-toggleable__label-arrow:hover:before {color: black;}#sk-d672d271-0b04-47f9-bd86-21f1c2cc425d div.sk-estimator:hover label.sk-toggleable__label-arrow:before {color: black;}#sk-d672d271-0b04-47f9-bd86-21f1c2cc425d div.sk-toggleable__content {max-height: 0;max-width: 0;overflow: hidden;text-align: left;background-color: #f0f8ff;}#sk-d672d271-0b04-47f9-bd86-21f1c2cc425d div.sk-toggleable__content pre {margin: 0.2em;color: black;border-radius: 0.25em;background-color: #f0f8ff;}#sk-d672d271-0b04-47f9-bd86-21f1c2cc425d input.sk-toggleable__control:checked~div.sk-toggleable__content {max-height: 200px;max-width: 100%;overflow: auto;}#sk-d672d271-0b04-47f9-bd86-21f1c2cc425d input.sk-toggleable__control:checked~label.sk-toggleable__label-arrow:before {content: \"▾\";}#sk-d672d271-0b04-47f9-bd86-21f1c2cc425d div.sk-estimator input.sk-toggleable__control:checked~label.sk-toggleable__label {background-color: #d4ebff;}#sk-d672d271-0b04-47f9-bd86-21f1c2cc425d div.sk-label input.sk-toggleable__control:checked~label.sk-toggleable__label {background-color: #d4ebff;}#sk-d672d271-0b04-47f9-bd86-21f1c2cc425d input.sk-hidden--visually {border: 0;clip: rect(1px 1px 1px 1px);clip: rect(1px, 1px, 1px, 1px);height: 1px;margin: -1px;overflow: hidden;padding: 0;position: absolute;width: 1px;}#sk-d672d271-0b04-47f9-bd86-21f1c2cc425d div.sk-estimator {font-family: monospace;background-color: #f0f8ff;border: 1px dotted black;border-radius: 0.25em;box-sizing: border-box;margin-bottom: 0.5em;}#sk-d672d271-0b04-47f9-bd86-21f1c2cc425d div.sk-estimator:hover {background-color: #d4ebff;}#sk-d672d271-0b04-47f9-bd86-21f1c2cc425d div.sk-parallel-item::after {content: \"\";width: 100%;border-bottom: 1px solid gray;flex-grow: 1;}#sk-d672d271-0b04-47f9-bd86-21f1c2cc425d div.sk-label:hover label.sk-toggleable__label {background-color: #d4ebff;}#sk-d672d271-0b04-47f9-bd86-21f1c2cc425d div.sk-serial::before {content: \"\";position: absolute;border-left: 1px solid gray;box-sizing: border-box;top: 2em;bottom: 0;left: 50%;}#sk-d672d271-0b04-47f9-bd86-21f1c2cc425d div.sk-serial {display: flex;flex-direction: column;align-items: center;background-color: white;padding-right: 0.2em;padding-left: 0.2em;}#sk-d672d271-0b04-47f9-bd86-21f1c2cc425d div.sk-item {z-index: 1;}#sk-d672d271-0b04-47f9-bd86-21f1c2cc425d div.sk-parallel {display: flex;align-items: stretch;justify-content: center;background-color: white;}#sk-d672d271-0b04-47f9-bd86-21f1c2cc425d div.sk-parallel::before {content: \"\";position: absolute;border-left: 1px solid gray;box-sizing: border-box;top: 2em;bottom: 0;left: 50%;}#sk-d672d271-0b04-47f9-bd86-21f1c2cc425d div.sk-parallel-item {display: flex;flex-direction: column;position: relative;background-color: white;}#sk-d672d271-0b04-47f9-bd86-21f1c2cc425d div.sk-parallel-item:first-child::after {align-self: flex-end;width: 50%;}#sk-d672d271-0b04-47f9-bd86-21f1c2cc425d div.sk-parallel-item:last-child::after {align-self: flex-start;width: 50%;}#sk-d672d271-0b04-47f9-bd86-21f1c2cc425d div.sk-parallel-item:only-child::after {width: 0;}#sk-d672d271-0b04-47f9-bd86-21f1c2cc425d div.sk-dashed-wrapped {border: 1px dashed gray;margin: 0 0.4em 0.5em 0.4em;box-sizing: border-box;padding-bottom: 0.4em;background-color: white;position: relative;}#sk-d672d271-0b04-47f9-bd86-21f1c2cc425d div.sk-label label {font-family: monospace;font-weight: bold;background-color: white;display: inline-block;line-height: 1.2em;}#sk-d672d271-0b04-47f9-bd86-21f1c2cc425d div.sk-label-container {position: relative;z-index: 2;text-align: center;}#sk-d672d271-0b04-47f9-bd86-21f1c2cc425d div.sk-container {/* jupyter's `normalize.less` sets `[hidden] { display: none; }` but bootstrap.min.css set `[hidden] { display: none !important; }` so we also need the `!important` here to be able to override the default hidden behavior on the sphinx rendered scikit-learn.org. See: https://github.com/scikit-learn/scikit-learn/issues/21755 */display: inline-block !important;position: relative;}#sk-d672d271-0b04-47f9-bd86-21f1c2cc425d div.sk-text-repr-fallback {display: none;}</style><div id=\"sk-d672d271-0b04-47f9-bd86-21f1c2cc425d\" class=\"sk-top-container\"><div class=\"sk-text-repr-fallback\"><pre>ColumnTransformer(transformers=[(&#x27;pipeline-1&#x27;,\n",
       "                                 Pipeline(steps=[(&#x27;simpleimputer&#x27;,\n",
       "                                                  SimpleImputer()),\n",
       "                                                 (&#x27;standardscaler&#x27;,\n",
       "                                                  StandardScaler())]),\n",
       "                                 &lt;sklearn.compose._column_transformer.make_column_selector object at 0x7f6972b31c10&gt;),\n",
       "                                (&#x27;pipeline-2&#x27;,\n",
       "                                 Pipeline(steps=[(&#x27;simpleimputer&#x27;,\n",
       "                                                  SimpleImputer(strategy=&#x27;most_frequent&#x27;)),\n",
       "                                                 (&#x27;onehotencoder&#x27;,\n",
       "                                                  OneHotEncoder(handle_unknown=&#x27;ignore&#x27;))]),\n",
       "                                 &lt;sklearn.compose._column_transformer.make_column_selector object at 0x7f6972b317c0&gt;)])</pre><b>Please rerun this cell to show the HTML repr or trust the notebook.</b></div><div class=\"sk-container\" hidden><div class=\"sk-item sk-dashed-wrapped\"><div class=\"sk-label-container\"><div class=\"sk-label sk-toggleable\"><input class=\"sk-toggleable__control sk-hidden--visually\" id=\"df6d5ca8-654a-4587-b701-bf652f48f320\" type=\"checkbox\" ><label for=\"df6d5ca8-654a-4587-b701-bf652f48f320\" class=\"sk-toggleable__label sk-toggleable__label-arrow\">ColumnTransformer</label><div class=\"sk-toggleable__content\"><pre>ColumnTransformer(transformers=[(&#x27;pipeline-1&#x27;,\n",
       "                                 Pipeline(steps=[(&#x27;simpleimputer&#x27;,\n",
       "                                                  SimpleImputer()),\n",
       "                                                 (&#x27;standardscaler&#x27;,\n",
       "                                                  StandardScaler())]),\n",
       "                                 &lt;sklearn.compose._column_transformer.make_column_selector object at 0x7f6972b31c10&gt;),\n",
       "                                (&#x27;pipeline-2&#x27;,\n",
       "                                 Pipeline(steps=[(&#x27;simpleimputer&#x27;,\n",
       "                                                  SimpleImputer(strategy=&#x27;most_frequent&#x27;)),\n",
       "                                                 (&#x27;onehotencoder&#x27;,\n",
       "                                                  OneHotEncoder(handle_unknown=&#x27;ignore&#x27;))]),\n",
       "                                 &lt;sklearn.compose._column_transformer.make_column_selector object at 0x7f6972b317c0&gt;)])</pre></div></div></div><div class=\"sk-parallel\"><div class=\"sk-parallel-item\"><div class=\"sk-item\"><div class=\"sk-label-container\"><div class=\"sk-label sk-toggleable\"><input class=\"sk-toggleable__control sk-hidden--visually\" id=\"72c5222b-1033-4b1d-a26b-d9be30d12d84\" type=\"checkbox\" ><label for=\"72c5222b-1033-4b1d-a26b-d9be30d12d84\" class=\"sk-toggleable__label sk-toggleable__label-arrow\">pipeline-1</label><div class=\"sk-toggleable__content\"><pre>&lt;sklearn.compose._column_transformer.make_column_selector object at 0x7f6972b31c10&gt;</pre></div></div></div><div class=\"sk-serial\"><div class=\"sk-item\"><div class=\"sk-serial\"><div class=\"sk-item\"><div class=\"sk-estimator sk-toggleable\"><input class=\"sk-toggleable__control sk-hidden--visually\" id=\"e935918a-d38b-4cca-815d-8bda2fafb554\" type=\"checkbox\" ><label for=\"e935918a-d38b-4cca-815d-8bda2fafb554\" class=\"sk-toggleable__label sk-toggleable__label-arrow\">SimpleImputer</label><div class=\"sk-toggleable__content\"><pre>SimpleImputer()</pre></div></div></div><div class=\"sk-item\"><div class=\"sk-estimator sk-toggleable\"><input class=\"sk-toggleable__control sk-hidden--visually\" id=\"2d404696-f35e-406f-8a12-37204e6fa260\" type=\"checkbox\" ><label for=\"2d404696-f35e-406f-8a12-37204e6fa260\" class=\"sk-toggleable__label sk-toggleable__label-arrow\">StandardScaler</label><div class=\"sk-toggleable__content\"><pre>StandardScaler()</pre></div></div></div></div></div></div></div></div><div class=\"sk-parallel-item\"><div class=\"sk-item\"><div class=\"sk-label-container\"><div class=\"sk-label sk-toggleable\"><input class=\"sk-toggleable__control sk-hidden--visually\" id=\"c21cd6ac-dfda-4801-a025-97c3e3db13c7\" type=\"checkbox\" ><label for=\"c21cd6ac-dfda-4801-a025-97c3e3db13c7\" class=\"sk-toggleable__label sk-toggleable__label-arrow\">pipeline-2</label><div class=\"sk-toggleable__content\"><pre>&lt;sklearn.compose._column_transformer.make_column_selector object at 0x7f6972b317c0&gt;</pre></div></div></div><div class=\"sk-serial\"><div class=\"sk-item\"><div class=\"sk-serial\"><div class=\"sk-item\"><div class=\"sk-estimator sk-toggleable\"><input class=\"sk-toggleable__control sk-hidden--visually\" id=\"27026204-0db9-4047-8e32-a3279ff0470c\" type=\"checkbox\" ><label for=\"27026204-0db9-4047-8e32-a3279ff0470c\" class=\"sk-toggleable__label sk-toggleable__label-arrow\">SimpleImputer</label><div class=\"sk-toggleable__content\"><pre>SimpleImputer(strategy=&#x27;most_frequent&#x27;)</pre></div></div></div><div class=\"sk-item\"><div class=\"sk-estimator sk-toggleable\"><input class=\"sk-toggleable__control sk-hidden--visually\" id=\"11c42b3c-778f-4a13-b5c7-c98f054cb10f\" type=\"checkbox\" ><label for=\"11c42b3c-778f-4a13-b5c7-c98f054cb10f\" class=\"sk-toggleable__label sk-toggleable__label-arrow\">OneHotEncoder</label><div class=\"sk-toggleable__content\"><pre>OneHotEncoder(handle_unknown=&#x27;ignore&#x27;)</pre></div></div></div></div></div></div></div></div></div></div></div></div>"
      ],
      "text/plain": [
       "ColumnTransformer(transformers=[('pipeline-1',\n",
       "                                 Pipeline(steps=[('simpleimputer',\n",
       "                                                  SimpleImputer()),\n",
       "                                                 ('standardscaler',\n",
       "                                                  StandardScaler())]),\n",
       "                                 <sklearn.compose._column_transformer.make_column_selector object at 0x7f6972b31c10>),\n",
       "                                ('pipeline-2',\n",
       "                                 Pipeline(steps=[('simpleimputer',\n",
       "                                                  SimpleImputer(strategy='most_frequent')),\n",
       "                                                 ('onehotencoder',\n",
       "                                                  OneHotEncoder(handle_unknown='ignore'))]),\n",
       "                                 <sklearn.compose._column_transformer.make_column_selector object at 0x7f6972b317c0>)])"
      ]
     },
     "execution_count": 22,
     "metadata": {},
     "output_type": "execute_result"
    }
   ],
   "source": [
    "preprocessor.fit(X_train)"
   ]
  },
  {
   "cell_type": "markdown",
   "metadata": {
    "id": "OzWUCq9yXxaU"
   },
   "source": [
    "- Now it can be applied to the training and test data in order to transform them."
   ]
  },
  {
   "cell_type": "code",
   "execution_count": 23,
   "metadata": {
    "id": "axnR8Ml0Xp1U"
   },
   "outputs": [],
   "source": [
    "X_train_processed = preprocessor.transform(X_train)\n",
    "X_test_processed = preprocessor.transform(X_test)"
   ]
  },
  {
   "cell_type": "markdown",
   "metadata": {
    "id": "YMbsnnz3YJpa"
   },
   "source": [
    "- I can check for any missing values now that the columns have been transformed. Then I can run the transformed training set to view the data. The resulting dataset will appear as a numpy array."
   ]
  },
  {
   "cell_type": "code",
   "execution_count": 24,
   "metadata": {
    "colab": {
     "base_uri": "https://localhost:8080/"
    },
    "id": "00tKaM86X9Cw",
    "outputId": "48f15b07-77bb-48f9-8fe9-280e5c3949ad"
   },
   "outputs": [
    {
     "data": {
      "text/plain": [
       "0"
      ]
     },
     "execution_count": 24,
     "metadata": {},
     "output_type": "execute_result"
    }
   ],
   "source": [
    "np.isnan(X_train_processed).sum().sum()"
   ]
  },
  {
   "cell_type": "code",
   "execution_count": 24,
   "metadata": {
    "id": "Llpqp3_y-QGE"
   },
   "outputs": [],
   "source": []
  },
  {
   "cell_type": "markdown",
   "metadata": {
    "id": "b1qlHXkWYdHW"
   },
   "source": [
    "- There are no missing values in the training data."
   ]
  },
  {
   "cell_type": "code",
   "execution_count": 25,
   "metadata": {
    "colab": {
     "base_uri": "https://localhost:8080/"
    },
    "id": "AfLOLeK1YbLe",
    "outputId": "faa14547-d07d-43a3-9448-46ad0884e7c2"
   },
   "outputs": [
    {
     "data": {
      "text/plain": [
       "array([[ 8.17248678e-01, -7.12775072e-01,  1.82810922e+00,\n",
       "         1.32784893e+00,  4.07785364e-01,  1.00000000e+00,\n",
       "         0.00000000e+00,  0.00000000e+00,  0.00000000e+00,\n",
       "         0.00000000e+00,  0.00000000e+00,  0.00000000e+00,\n",
       "         0.00000000e+00,  0.00000000e+00,  0.00000000e+00,\n",
       "         0.00000000e+00,  1.00000000e+00,  0.00000000e+00,\n",
       "         0.00000000e+00,  0.00000000e+00,  0.00000000e+00,\n",
       "         0.00000000e+00,  0.00000000e+00,  0.00000000e+00,\n",
       "         0.00000000e+00,  1.00000000e+00,  0.00000000e+00,\n",
       "         0.00000000e+00,  1.00000000e+00,  0.00000000e+00],\n",
       "       [ 5.56339503e-01, -1.29105225e+00,  6.03368881e-01,\n",
       "         1.32784893e+00,  4.07785364e-01,  0.00000000e+00,\n",
       "         1.00000000e+00,  0.00000000e+00,  0.00000000e+00,\n",
       "         0.00000000e+00,  0.00000000e+00,  0.00000000e+00,\n",
       "         0.00000000e+00,  0.00000000e+00,  0.00000000e+00,\n",
       "         0.00000000e+00,  0.00000000e+00,  0.00000000e+00,\n",
       "         0.00000000e+00,  0.00000000e+00,  1.00000000e+00,\n",
       "         0.00000000e+00,  0.00000000e+00,  0.00000000e+00,\n",
       "         0.00000000e+00,  1.00000000e+00,  0.00000000e+00,\n",
       "         0.00000000e+00,  1.00000000e+00,  0.00000000e+00],\n",
       "       [-1.31511957e-01,  1.81331864e+00,  2.44540557e-01,\n",
       "         1.36187244e-01,  4.07785364e-01,  0.00000000e+00,\n",
       "         1.00000000e+00,  0.00000000e+00,  0.00000000e+00,\n",
       "         0.00000000e+00,  0.00000000e+00,  0.00000000e+00,\n",
       "         0.00000000e+00,  0.00000000e+00,  0.00000000e+00,\n",
       "         0.00000000e+00,  0.00000000e+00,  1.00000000e+00,\n",
       "         0.00000000e+00,  0.00000000e+00,  0.00000000e+00,\n",
       "         0.00000000e+00,  0.00000000e+00,  1.00000000e+00,\n",
       "         0.00000000e+00,  0.00000000e+00,  0.00000000e+00,\n",
       "         1.00000000e+00,  0.00000000e+00,  0.00000000e+00],\n",
       "       [-1.16921890e+00, -1.00493112e+00, -9.52590724e-01,\n",
       "         7.32018089e-01, -1.29162953e+00,  1.00000000e+00,\n",
       "         0.00000000e+00,  1.00000000e+00,  0.00000000e+00,\n",
       "         0.00000000e+00,  0.00000000e+00,  0.00000000e+00,\n",
       "         0.00000000e+00,  0.00000000e+00,  0.00000000e+00,\n",
       "         0.00000000e+00,  0.00000000e+00,  0.00000000e+00,\n",
       "         0.00000000e+00,  0.00000000e+00,  0.00000000e+00,\n",
       "         0.00000000e+00,  0.00000000e+00,  0.00000000e+00,\n",
       "         1.00000000e+00,  0.00000000e+00,  0.00000000e+00,\n",
       "         1.00000000e+00,  0.00000000e+00,  0.00000000e+00],\n",
       "       [ 1.52881915e+00, -9.65484250e-01, -3.36460038e-01,\n",
       "         4.93685751e-01,  0.00000000e+00,  1.00000000e+00,\n",
       "         0.00000000e+00,  0.00000000e+00,  0.00000000e+00,\n",
       "         0.00000000e+00,  0.00000000e+00,  0.00000000e+00,\n",
       "         1.00000000e+00,  0.00000000e+00,  0.00000000e+00,\n",
       "         0.00000000e+00,  0.00000000e+00,  0.00000000e+00,\n",
       "         0.00000000e+00,  0.00000000e+00,  0.00000000e+00,\n",
       "         0.00000000e+00,  0.00000000e+00,  0.00000000e+00,\n",
       "         1.00000000e+00,  0.00000000e+00,  0.00000000e+00,\n",
       "         1.00000000e+00,  0.00000000e+00,  0.00000000e+00],\n",
       "       [ 4.21334361e-16, -1.14462312e-01, -5.08204663e-01,\n",
       "        -1.53213912e+00, -1.29162953e+00,  0.00000000e+00,\n",
       "         1.00000000e+00,  0.00000000e+00,  0.00000000e+00,\n",
       "         0.00000000e+00,  0.00000000e+00,  0.00000000e+00,\n",
       "         1.00000000e+00,  0.00000000e+00,  0.00000000e+00,\n",
       "         0.00000000e+00,  0.00000000e+00,  0.00000000e+00,\n",
       "         0.00000000e+00,  0.00000000e+00,  0.00000000e+00,\n",
       "         0.00000000e+00,  0.00000000e+00,  1.00000000e+00,\n",
       "         0.00000000e+00,  0.00000000e+00,  1.00000000e+00,\n",
       "         0.00000000e+00,  0.00000000e+00,  0.00000000e+00],\n",
       "       [ 1.88460439e+00, -7.42142309e-02, -8.59553470e-01,\n",
       "         7.32018089e-01, -1.29162953e+00,  0.00000000e+00,\n",
       "         1.00000000e+00,  1.00000000e+00,  0.00000000e+00,\n",
       "         0.00000000e+00,  0.00000000e+00,  0.00000000e+00,\n",
       "         0.00000000e+00,  0.00000000e+00,  0.00000000e+00,\n",
       "         0.00000000e+00,  0.00000000e+00,  0.00000000e+00,\n",
       "         0.00000000e+00,  0.00000000e+00,  0.00000000e+00,\n",
       "         0.00000000e+00,  0.00000000e+00,  0.00000000e+00,\n",
       "         1.00000000e+00,  0.00000000e+00,  0.00000000e+00,\n",
       "         1.00000000e+00,  0.00000000e+00,  0.00000000e+00],\n",
       "       [ 4.21334361e-16, -4.79739240e-02,  1.94299739e+00,\n",
       "        -1.53213912e+00,  4.07785364e-01,  0.00000000e+00,\n",
       "         1.00000000e+00,  0.00000000e+00,  1.00000000e+00,\n",
       "         0.00000000e+00,  0.00000000e+00,  0.00000000e+00,\n",
       "         0.00000000e+00,  0.00000000e+00,  0.00000000e+00,\n",
       "         0.00000000e+00,  0.00000000e+00,  0.00000000e+00,\n",
       "         0.00000000e+00,  0.00000000e+00,  0.00000000e+00,\n",
       "         0.00000000e+00,  0.00000000e+00,  0.00000000e+00,\n",
       "         0.00000000e+00,  1.00000000e+00,  0.00000000e+00,\n",
       "         0.00000000e+00,  0.00000000e+00,  1.00000000e+00],\n",
       "       [ 1.61183571e+00,  1.85156735e+00,  1.79995405e+00,\n",
       "         7.32018089e-01, -1.29162953e+00,  0.00000000e+00,\n",
       "         1.00000000e+00,  0.00000000e+00,  0.00000000e+00,\n",
       "         0.00000000e+00,  1.00000000e+00,  0.00000000e+00,\n",
       "         0.00000000e+00,  0.00000000e+00,  0.00000000e+00,\n",
       "         0.00000000e+00,  0.00000000e+00,  0.00000000e+00,\n",
       "         0.00000000e+00,  0.00000000e+00,  0.00000000e+00,\n",
       "         0.00000000e+00,  0.00000000e+00,  0.00000000e+00,\n",
       "         1.00000000e+00,  0.00000000e+00,  0.00000000e+00,\n",
       "         1.00000000e+00,  0.00000000e+00,  0.00000000e+00],\n",
       "       [-1.11940897e+00, -5.33681676e-01, -4.16764231e-01,\n",
       "         7.32018089e-01, -1.29162953e+00,  1.00000000e+00,\n",
       "         0.00000000e+00,  0.00000000e+00,  0.00000000e+00,\n",
       "         0.00000000e+00,  0.00000000e+00,  0.00000000e+00,\n",
       "         0.00000000e+00,  1.00000000e+00,  0.00000000e+00,\n",
       "         0.00000000e+00,  0.00000000e+00,  0.00000000e+00,\n",
       "         0.00000000e+00,  0.00000000e+00,  0.00000000e+00,\n",
       "         0.00000000e+00,  0.00000000e+00,  0.00000000e+00,\n",
       "         1.00000000e+00,  0.00000000e+00,  0.00000000e+00,\n",
       "         1.00000000e+00,  0.00000000e+00,  0.00000000e+00]])"
      ]
     },
     "execution_count": 25,
     "metadata": {},
     "output_type": "execute_result"
    }
   ],
   "source": [
    "X_train_processed[0:10]"
   ]
  },
  {
   "cell_type": "markdown",
   "metadata": {
    "id": "FMrMy58takbM"
   },
   "source": [
    "- The data appears to be scaled as well. This dataset has now been preprocessed successfully and is ready for modeling."
   ]
  },
  {
   "cell_type": "markdown",
   "metadata": {
    "id": "DsbYqPMHSSjg"
   },
   "source": [
    "## Linear Regression Modeling"
   ]
  },
  {
   "cell_type": "markdown",
   "metadata": {
    "id": "bVCFfl4V-U58"
   },
   "source": [
    "- One of the models I will be using to predict the target, outlet sales, is a Linear Regression Model. It is one of the most widely used models for data prediction and is simple to use. After running the model, I will run some regression metrics to check how successful the model was at predicting values in the test set."
   ]
  },
  {
   "cell_type": "code",
   "execution_count": 26,
   "metadata": {
    "id": "H8zFfq2-Yj97"
   },
   "outputs": [],
   "source": [
    "# import Linear Regression model from SKlearn\n",
    "from sklearn.linear_model import LinearRegression\n",
    "from sklearn.metrics import r2_score, mean_squared_error, mean_absolute_error"
   ]
  },
  {
   "cell_type": "code",
   "execution_count": 27,
   "metadata": {
    "colab": {
     "base_uri": "https://localhost:8080/",
     "height": 228
    },
    "id": "zHhBdgTbBYxf",
    "outputId": "6216509d-a3f7-4811-8ba5-8d3b388941a9"
   },
   "outputs": [
    {
     "data": {
      "text/html": [
       "<style>#sk-6db9b883-20b9-46fc-8d31-8ba884ab9dfb {color: black;background-color: white;}#sk-6db9b883-20b9-46fc-8d31-8ba884ab9dfb pre{padding: 0;}#sk-6db9b883-20b9-46fc-8d31-8ba884ab9dfb div.sk-toggleable {background-color: white;}#sk-6db9b883-20b9-46fc-8d31-8ba884ab9dfb label.sk-toggleable__label {cursor: pointer;display: block;width: 100%;margin-bottom: 0;padding: 0.3em;box-sizing: border-box;text-align: center;}#sk-6db9b883-20b9-46fc-8d31-8ba884ab9dfb label.sk-toggleable__label-arrow:before {content: \"▸\";float: left;margin-right: 0.25em;color: #696969;}#sk-6db9b883-20b9-46fc-8d31-8ba884ab9dfb label.sk-toggleable__label-arrow:hover:before {color: black;}#sk-6db9b883-20b9-46fc-8d31-8ba884ab9dfb div.sk-estimator:hover label.sk-toggleable__label-arrow:before {color: black;}#sk-6db9b883-20b9-46fc-8d31-8ba884ab9dfb div.sk-toggleable__content {max-height: 0;max-width: 0;overflow: hidden;text-align: left;background-color: #f0f8ff;}#sk-6db9b883-20b9-46fc-8d31-8ba884ab9dfb div.sk-toggleable__content pre {margin: 0.2em;color: black;border-radius: 0.25em;background-color: #f0f8ff;}#sk-6db9b883-20b9-46fc-8d31-8ba884ab9dfb input.sk-toggleable__control:checked~div.sk-toggleable__content {max-height: 200px;max-width: 100%;overflow: auto;}#sk-6db9b883-20b9-46fc-8d31-8ba884ab9dfb input.sk-toggleable__control:checked~label.sk-toggleable__label-arrow:before {content: \"▾\";}#sk-6db9b883-20b9-46fc-8d31-8ba884ab9dfb div.sk-estimator input.sk-toggleable__control:checked~label.sk-toggleable__label {background-color: #d4ebff;}#sk-6db9b883-20b9-46fc-8d31-8ba884ab9dfb div.sk-label input.sk-toggleable__control:checked~label.sk-toggleable__label {background-color: #d4ebff;}#sk-6db9b883-20b9-46fc-8d31-8ba884ab9dfb input.sk-hidden--visually {border: 0;clip: rect(1px 1px 1px 1px);clip: rect(1px, 1px, 1px, 1px);height: 1px;margin: -1px;overflow: hidden;padding: 0;position: absolute;width: 1px;}#sk-6db9b883-20b9-46fc-8d31-8ba884ab9dfb div.sk-estimator {font-family: monospace;background-color: #f0f8ff;border: 1px dotted black;border-radius: 0.25em;box-sizing: border-box;margin-bottom: 0.5em;}#sk-6db9b883-20b9-46fc-8d31-8ba884ab9dfb div.sk-estimator:hover {background-color: #d4ebff;}#sk-6db9b883-20b9-46fc-8d31-8ba884ab9dfb div.sk-parallel-item::after {content: \"\";width: 100%;border-bottom: 1px solid gray;flex-grow: 1;}#sk-6db9b883-20b9-46fc-8d31-8ba884ab9dfb div.sk-label:hover label.sk-toggleable__label {background-color: #d4ebff;}#sk-6db9b883-20b9-46fc-8d31-8ba884ab9dfb div.sk-serial::before {content: \"\";position: absolute;border-left: 1px solid gray;box-sizing: border-box;top: 2em;bottom: 0;left: 50%;}#sk-6db9b883-20b9-46fc-8d31-8ba884ab9dfb div.sk-serial {display: flex;flex-direction: column;align-items: center;background-color: white;padding-right: 0.2em;padding-left: 0.2em;}#sk-6db9b883-20b9-46fc-8d31-8ba884ab9dfb div.sk-item {z-index: 1;}#sk-6db9b883-20b9-46fc-8d31-8ba884ab9dfb div.sk-parallel {display: flex;align-items: stretch;justify-content: center;background-color: white;}#sk-6db9b883-20b9-46fc-8d31-8ba884ab9dfb div.sk-parallel::before {content: \"\";position: absolute;border-left: 1px solid gray;box-sizing: border-box;top: 2em;bottom: 0;left: 50%;}#sk-6db9b883-20b9-46fc-8d31-8ba884ab9dfb div.sk-parallel-item {display: flex;flex-direction: column;position: relative;background-color: white;}#sk-6db9b883-20b9-46fc-8d31-8ba884ab9dfb div.sk-parallel-item:first-child::after {align-self: flex-end;width: 50%;}#sk-6db9b883-20b9-46fc-8d31-8ba884ab9dfb div.sk-parallel-item:last-child::after {align-self: flex-start;width: 50%;}#sk-6db9b883-20b9-46fc-8d31-8ba884ab9dfb div.sk-parallel-item:only-child::after {width: 0;}#sk-6db9b883-20b9-46fc-8d31-8ba884ab9dfb div.sk-dashed-wrapped {border: 1px dashed gray;margin: 0 0.4em 0.5em 0.4em;box-sizing: border-box;padding-bottom: 0.4em;background-color: white;position: relative;}#sk-6db9b883-20b9-46fc-8d31-8ba884ab9dfb div.sk-label label {font-family: monospace;font-weight: bold;background-color: white;display: inline-block;line-height: 1.2em;}#sk-6db9b883-20b9-46fc-8d31-8ba884ab9dfb div.sk-label-container {position: relative;z-index: 2;text-align: center;}#sk-6db9b883-20b9-46fc-8d31-8ba884ab9dfb div.sk-container {/* jupyter's `normalize.less` sets `[hidden] { display: none; }` but bootstrap.min.css set `[hidden] { display: none !important; }` so we also need the `!important` here to be able to override the default hidden behavior on the sphinx rendered scikit-learn.org. See: https://github.com/scikit-learn/scikit-learn/issues/21755 */display: inline-block !important;position: relative;}#sk-6db9b883-20b9-46fc-8d31-8ba884ab9dfb div.sk-text-repr-fallback {display: none;}</style><div id=\"sk-6db9b883-20b9-46fc-8d31-8ba884ab9dfb\" class=\"sk-top-container\"><div class=\"sk-text-repr-fallback\"><pre>Pipeline(steps=[(&#x27;columntransformer&#x27;,\n",
       "                 ColumnTransformer(transformers=[(&#x27;pipeline-1&#x27;,\n",
       "                                                  Pipeline(steps=[(&#x27;simpleimputer&#x27;,\n",
       "                                                                   SimpleImputer()),\n",
       "                                                                  (&#x27;standardscaler&#x27;,\n",
       "                                                                   StandardScaler())]),\n",
       "                                                  &lt;sklearn.compose._column_transformer.make_column_selector object at 0x7f6972b31c10&gt;),\n",
       "                                                 (&#x27;pipeline-2&#x27;,\n",
       "                                                  Pipeline(steps=[(&#x27;simpleimputer&#x27;,\n",
       "                                                                   SimpleImputer(strategy=&#x27;most_frequent&#x27;)),\n",
       "                                                                  (&#x27;onehotencoder&#x27;,\n",
       "                                                                   OneHotEncoder(handle_unknown=&#x27;ignore&#x27;))]),\n",
       "                                                  &lt;sklearn.compose._column_transformer.make_column_selector object at 0x7f6972b317c0&gt;)])),\n",
       "                (&#x27;linearregression&#x27;, LinearRegression())])</pre><b>Please rerun this cell to show the HTML repr or trust the notebook.</b></div><div class=\"sk-container\" hidden><div class=\"sk-item sk-dashed-wrapped\"><div class=\"sk-label-container\"><div class=\"sk-label sk-toggleable\"><input class=\"sk-toggleable__control sk-hidden--visually\" id=\"fd124613-996e-49a8-95a2-cc42cef64918\" type=\"checkbox\" ><label for=\"fd124613-996e-49a8-95a2-cc42cef64918\" class=\"sk-toggleable__label sk-toggleable__label-arrow\">Pipeline</label><div class=\"sk-toggleable__content\"><pre>Pipeline(steps=[(&#x27;columntransformer&#x27;,\n",
       "                 ColumnTransformer(transformers=[(&#x27;pipeline-1&#x27;,\n",
       "                                                  Pipeline(steps=[(&#x27;simpleimputer&#x27;,\n",
       "                                                                   SimpleImputer()),\n",
       "                                                                  (&#x27;standardscaler&#x27;,\n",
       "                                                                   StandardScaler())]),\n",
       "                                                  &lt;sklearn.compose._column_transformer.make_column_selector object at 0x7f6972b31c10&gt;),\n",
       "                                                 (&#x27;pipeline-2&#x27;,\n",
       "                                                  Pipeline(steps=[(&#x27;simpleimputer&#x27;,\n",
       "                                                                   SimpleImputer(strategy=&#x27;most_frequent&#x27;)),\n",
       "                                                                  (&#x27;onehotencoder&#x27;,\n",
       "                                                                   OneHotEncoder(handle_unknown=&#x27;ignore&#x27;))]),\n",
       "                                                  &lt;sklearn.compose._column_transformer.make_column_selector object at 0x7f6972b317c0&gt;)])),\n",
       "                (&#x27;linearregression&#x27;, LinearRegression())])</pre></div></div></div><div class=\"sk-serial\"><div class=\"sk-item sk-dashed-wrapped\"><div class=\"sk-label-container\"><div class=\"sk-label sk-toggleable\"><input class=\"sk-toggleable__control sk-hidden--visually\" id=\"e727edcc-3a66-4e63-bbba-b9e185f9a837\" type=\"checkbox\" ><label for=\"e727edcc-3a66-4e63-bbba-b9e185f9a837\" class=\"sk-toggleable__label sk-toggleable__label-arrow\">columntransformer: ColumnTransformer</label><div class=\"sk-toggleable__content\"><pre>ColumnTransformer(transformers=[(&#x27;pipeline-1&#x27;,\n",
       "                                 Pipeline(steps=[(&#x27;simpleimputer&#x27;,\n",
       "                                                  SimpleImputer()),\n",
       "                                                 (&#x27;standardscaler&#x27;,\n",
       "                                                  StandardScaler())]),\n",
       "                                 &lt;sklearn.compose._column_transformer.make_column_selector object at 0x7f6972b31c10&gt;),\n",
       "                                (&#x27;pipeline-2&#x27;,\n",
       "                                 Pipeline(steps=[(&#x27;simpleimputer&#x27;,\n",
       "                                                  SimpleImputer(strategy=&#x27;most_frequent&#x27;)),\n",
       "                                                 (&#x27;onehotencoder&#x27;,\n",
       "                                                  OneHotEncoder(handle_unknown=&#x27;ignore&#x27;))]),\n",
       "                                 &lt;sklearn.compose._column_transformer.make_column_selector object at 0x7f6972b317c0&gt;)])</pre></div></div></div><div class=\"sk-parallel\"><div class=\"sk-parallel-item\"><div class=\"sk-item\"><div class=\"sk-label-container\"><div class=\"sk-label sk-toggleable\"><input class=\"sk-toggleable__control sk-hidden--visually\" id=\"b653676d-0da9-4c1f-8368-f0080a9b405b\" type=\"checkbox\" ><label for=\"b653676d-0da9-4c1f-8368-f0080a9b405b\" class=\"sk-toggleable__label sk-toggleable__label-arrow\">pipeline-1</label><div class=\"sk-toggleable__content\"><pre>&lt;sklearn.compose._column_transformer.make_column_selector object at 0x7f6972b31c10&gt;</pre></div></div></div><div class=\"sk-serial\"><div class=\"sk-item\"><div class=\"sk-serial\"><div class=\"sk-item\"><div class=\"sk-estimator sk-toggleable\"><input class=\"sk-toggleable__control sk-hidden--visually\" id=\"27154127-c5b7-4ad2-be04-800e59c5f224\" type=\"checkbox\" ><label for=\"27154127-c5b7-4ad2-be04-800e59c5f224\" class=\"sk-toggleable__label sk-toggleable__label-arrow\">SimpleImputer</label><div class=\"sk-toggleable__content\"><pre>SimpleImputer()</pre></div></div></div><div class=\"sk-item\"><div class=\"sk-estimator sk-toggleable\"><input class=\"sk-toggleable__control sk-hidden--visually\" id=\"fcf18a08-27be-4f1e-8d39-d25992f5cab0\" type=\"checkbox\" ><label for=\"fcf18a08-27be-4f1e-8d39-d25992f5cab0\" class=\"sk-toggleable__label sk-toggleable__label-arrow\">StandardScaler</label><div class=\"sk-toggleable__content\"><pre>StandardScaler()</pre></div></div></div></div></div></div></div></div><div class=\"sk-parallel-item\"><div class=\"sk-item\"><div class=\"sk-label-container\"><div class=\"sk-label sk-toggleable\"><input class=\"sk-toggleable__control sk-hidden--visually\" id=\"ea7543c2-4f54-4a04-a242-0e255bd2e89e\" type=\"checkbox\" ><label for=\"ea7543c2-4f54-4a04-a242-0e255bd2e89e\" class=\"sk-toggleable__label sk-toggleable__label-arrow\">pipeline-2</label><div class=\"sk-toggleable__content\"><pre>&lt;sklearn.compose._column_transformer.make_column_selector object at 0x7f6972b317c0&gt;</pre></div></div></div><div class=\"sk-serial\"><div class=\"sk-item\"><div class=\"sk-serial\"><div class=\"sk-item\"><div class=\"sk-estimator sk-toggleable\"><input class=\"sk-toggleable__control sk-hidden--visually\" id=\"838c3dcd-f89b-45c2-b796-492284a5ab88\" type=\"checkbox\" ><label for=\"838c3dcd-f89b-45c2-b796-492284a5ab88\" class=\"sk-toggleable__label sk-toggleable__label-arrow\">SimpleImputer</label><div class=\"sk-toggleable__content\"><pre>SimpleImputer(strategy=&#x27;most_frequent&#x27;)</pre></div></div></div><div class=\"sk-item\"><div class=\"sk-estimator sk-toggleable\"><input class=\"sk-toggleable__control sk-hidden--visually\" id=\"db348c60-a6ee-4d50-a1c5-ec8e253f40cf\" type=\"checkbox\" ><label for=\"db348c60-a6ee-4d50-a1c5-ec8e253f40cf\" class=\"sk-toggleable__label sk-toggleable__label-arrow\">OneHotEncoder</label><div class=\"sk-toggleable__content\"><pre>OneHotEncoder(handle_unknown=&#x27;ignore&#x27;)</pre></div></div></div></div></div></div></div></div></div></div><div class=\"sk-item\"><div class=\"sk-estimator sk-toggleable\"><input class=\"sk-toggleable__control sk-hidden--visually\" id=\"9a7d4635-6a12-400e-9e6b-f81ca4099d74\" type=\"checkbox\" ><label for=\"9a7d4635-6a12-400e-9e6b-f81ca4099d74\" class=\"sk-toggleable__label sk-toggleable__label-arrow\">LinearRegression</label><div class=\"sk-toggleable__content\"><pre>LinearRegression()</pre></div></div></div></div></div></div></div>"
      ],
      "text/plain": [
       "Pipeline(steps=[('columntransformer',\n",
       "                 ColumnTransformer(transformers=[('pipeline-1',\n",
       "                                                  Pipeline(steps=[('simpleimputer',\n",
       "                                                                   SimpleImputer()),\n",
       "                                                                  ('standardscaler',\n",
       "                                                                   StandardScaler())]),\n",
       "                                                  <sklearn.compose._column_transformer.make_column_selector object at 0x7f6972b31c10>),\n",
       "                                                 ('pipeline-2',\n",
       "                                                  Pipeline(steps=[('simpleimputer',\n",
       "                                                                   SimpleImputer(strategy='most_frequent')),\n",
       "                                                                  ('onehotencoder',\n",
       "                                                                   OneHotEncoder(handle_unknown='ignore'))]),\n",
       "                                                  <sklearn.compose._column_transformer.make_column_selector object at 0x7f6972b317c0>)])),\n",
       "                ('linearregression', LinearRegression())])"
      ]
     },
     "execution_count": 27,
     "metadata": {},
     "output_type": "execute_result"
    }
   ],
   "source": [
    "  # next will be to create an instance of the linear regression model\n",
    "linreg = LinearRegression()\n",
    "# using the preprocessor from above, I will make a pipeline with the model\n",
    "linreg_pipe = make_pipeline(preprocessor, linreg)\n",
    "linreg_pipe"
   ]
  },
  {
   "cell_type": "markdown",
   "metadata": {
    "id": "pu9OvFB5B2f-"
   },
   "source": [
    "- Once the pipeline as been created for the model, it needs to be fit onto the training data for X and y."
   ]
  },
  {
   "cell_type": "code",
   "execution_count": 28,
   "metadata": {
    "id": "rm1H8jRRBvCT"
   },
   "outputs": [],
   "source": [
    "linreg_pipe.fit(X_train, y_train)\n",
    "# to run the regression metrics, predictions need to be made for the training and testing data\n",
    "train_pred = linreg_pipe.predict(X_train)\n",
    "test_pred = linreg_pipe.predict(X_test)"
   ]
  },
  {
   "cell_type": "markdown",
   "metadata": {
    "id": "HkEK09QtDGPB"
   },
   "source": [
    "### Using regression metrics to evaluate model performance\n",
    "\n",
    "- After the regression model has been fit on the training data, there are various metrics that can be used to evaluate if the model was successful in predicting the target values after it was run on the training data. Once the model learns the data on the training set, it is run on the test set in order to predict future values. There are 2 metrics that I will focus on which will be root mean squared error (RMSE) and R squared score (R^2)."
   ]
  },
  {
   "cell_type": "code",
   "execution_count": 29,
   "metadata": {
    "colab": {
     "base_uri": "https://localhost:8080/"
    },
    "id": "yNd3C7gPCag0",
    "outputId": "7c3987f3-9df4-4608-be34-9311ddf7a27b"
   },
   "outputs": [
    {
     "name": "stdout",
     "output_type": "stream",
     "text": [
      "Model Training RMSE: 1140.3882\n",
      "Model Testing RMSE: 1094.4548\n"
     ]
    }
   ],
   "source": [
    "# calculating RMSE\n",
    "\n",
    "train_MRSE = np.sqrt(np.mean(np.abs(train_pred - y_train)**2))\n",
    "test_MRSE = np.sqrt(np.mean(np.abs(test_pred - y_test)**2))\n",
    "\n",
    "print(f'Model Training RMSE: {train_MRSE.round(4)}')\n",
    "print(f'Model Testing RMSE: {test_MRSE.round(4)}')"
   ]
  },
  {
   "cell_type": "markdown",
   "metadata": {
    "id": "itnjDisnEhsA"
   },
   "source": [
    "- The advantage of using RMSE is that the values returned are in the same units as the target vector. Taking the root of the value squared punishes large errors that exist in the dataset when preprocessing object was fit on the data, allowing us to see how large the errors are in the prediction."
   ]
  },
  {
   "cell_type": "code",
   "execution_count": 31,
   "metadata": {
    "colab": {
     "base_uri": "https://localhost:8080/"
    },
    "id": "LATKd-OgEOBf",
    "outputId": "42ac9877-97dd-4afa-e83d-e220dc0b134a"
   },
   "outputs": [
    {
     "name": "stdout",
     "output_type": "stream",
     "text": [
      "Model Training R2: 0.5606\n",
      "Model Testing R2: 0.5666\n"
     ]
    }
   ],
   "source": [
    "# calculating R^2\n",
    "\n",
    "train_r2 = np.corrcoef(y_train, train_pred)[0][1]**2\n",
    "test_r2 = np.corrcoef(y_test, test_pred)[0][1]**2\n",
    "\n",
    "print(f'Model Training R2: {train_r2.round(4)}')\n",
    "print(f'Model Testing R2: {test_r2.round(4)}')"
   ]
  },
  {
   "cell_type": "markdown",
   "metadata": {
    "id": "1ywcOKwWF0Mt"
   },
   "source": [
    "- Based on the R^2 scores for both the training and test set of the data, the bias is low in the Linear Regression model. Based on how on how high the bias is, it would be wise to run another model in order to increase the score of the testing set. Although there is extremely low variance between the training and the test set, a high R^2 score for the testing set is more important than low variance between sets. For the next model, I will deploy a Decision Tree model to try and raise the test R^2 score."
   ]
  },
  {
   "cell_type": "markdown",
   "metadata": {
    "id": "RVMJFHChMBbF"
   },
   "source": [
    "## Decision Tree Modeling"
   ]
  },
  {
   "cell_type": "code",
   "execution_count": 32,
   "metadata": {
    "id": "-E-6fPkdFf1C"
   },
   "outputs": [],
   "source": [
    "# import the model\n",
    "from sklearn.tree import DecisionTreeRegressor"
   ]
  },
  {
   "cell_type": "code",
   "execution_count": 34,
   "metadata": {
    "id": "gNGkvImNMfcY"
   },
   "outputs": [],
   "source": [
    "# first step is to create an instance of the model\n",
    "dec_tree = DecisionTreeRegressor(random_state = 42)"
   ]
  },
  {
   "cell_type": "code",
   "execution_count": 46,
   "metadata": {
    "id": "AjGfUMDEMovb"
   },
   "outputs": [],
   "source": [
    "# next is to create a pipeline with the preprocessor and model\n",
    "dec_tree_pipe = make_pipeline(preprocessor, dec_tree)"
   ]
  },
  {
   "cell_type": "code",
   "execution_count": 37,
   "metadata": {
    "colab": {
     "base_uri": "https://localhost:8080/",
     "height": 228
    },
    "id": "uo5UCzVaM8HJ",
    "outputId": "fe16a2fa-4e97-47ed-8ac4-3b37cf6a528e"
   },
   "outputs": [
    {
     "data": {
      "text/html": [
       "<style>#sk-d90c4719-89c7-4038-8912-39dbdeebc99e {color: black;background-color: white;}#sk-d90c4719-89c7-4038-8912-39dbdeebc99e pre{padding: 0;}#sk-d90c4719-89c7-4038-8912-39dbdeebc99e div.sk-toggleable {background-color: white;}#sk-d90c4719-89c7-4038-8912-39dbdeebc99e label.sk-toggleable__label {cursor: pointer;display: block;width: 100%;margin-bottom: 0;padding: 0.3em;box-sizing: border-box;text-align: center;}#sk-d90c4719-89c7-4038-8912-39dbdeebc99e label.sk-toggleable__label-arrow:before {content: \"▸\";float: left;margin-right: 0.25em;color: #696969;}#sk-d90c4719-89c7-4038-8912-39dbdeebc99e label.sk-toggleable__label-arrow:hover:before {color: black;}#sk-d90c4719-89c7-4038-8912-39dbdeebc99e div.sk-estimator:hover label.sk-toggleable__label-arrow:before {color: black;}#sk-d90c4719-89c7-4038-8912-39dbdeebc99e div.sk-toggleable__content {max-height: 0;max-width: 0;overflow: hidden;text-align: left;background-color: #f0f8ff;}#sk-d90c4719-89c7-4038-8912-39dbdeebc99e div.sk-toggleable__content pre {margin: 0.2em;color: black;border-radius: 0.25em;background-color: #f0f8ff;}#sk-d90c4719-89c7-4038-8912-39dbdeebc99e input.sk-toggleable__control:checked~div.sk-toggleable__content {max-height: 200px;max-width: 100%;overflow: auto;}#sk-d90c4719-89c7-4038-8912-39dbdeebc99e input.sk-toggleable__control:checked~label.sk-toggleable__label-arrow:before {content: \"▾\";}#sk-d90c4719-89c7-4038-8912-39dbdeebc99e div.sk-estimator input.sk-toggleable__control:checked~label.sk-toggleable__label {background-color: #d4ebff;}#sk-d90c4719-89c7-4038-8912-39dbdeebc99e div.sk-label input.sk-toggleable__control:checked~label.sk-toggleable__label {background-color: #d4ebff;}#sk-d90c4719-89c7-4038-8912-39dbdeebc99e input.sk-hidden--visually {border: 0;clip: rect(1px 1px 1px 1px);clip: rect(1px, 1px, 1px, 1px);height: 1px;margin: -1px;overflow: hidden;padding: 0;position: absolute;width: 1px;}#sk-d90c4719-89c7-4038-8912-39dbdeebc99e div.sk-estimator {font-family: monospace;background-color: #f0f8ff;border: 1px dotted black;border-radius: 0.25em;box-sizing: border-box;margin-bottom: 0.5em;}#sk-d90c4719-89c7-4038-8912-39dbdeebc99e div.sk-estimator:hover {background-color: #d4ebff;}#sk-d90c4719-89c7-4038-8912-39dbdeebc99e div.sk-parallel-item::after {content: \"\";width: 100%;border-bottom: 1px solid gray;flex-grow: 1;}#sk-d90c4719-89c7-4038-8912-39dbdeebc99e div.sk-label:hover label.sk-toggleable__label {background-color: #d4ebff;}#sk-d90c4719-89c7-4038-8912-39dbdeebc99e div.sk-serial::before {content: \"\";position: absolute;border-left: 1px solid gray;box-sizing: border-box;top: 2em;bottom: 0;left: 50%;}#sk-d90c4719-89c7-4038-8912-39dbdeebc99e div.sk-serial {display: flex;flex-direction: column;align-items: center;background-color: white;padding-right: 0.2em;padding-left: 0.2em;}#sk-d90c4719-89c7-4038-8912-39dbdeebc99e div.sk-item {z-index: 1;}#sk-d90c4719-89c7-4038-8912-39dbdeebc99e div.sk-parallel {display: flex;align-items: stretch;justify-content: center;background-color: white;}#sk-d90c4719-89c7-4038-8912-39dbdeebc99e div.sk-parallel::before {content: \"\";position: absolute;border-left: 1px solid gray;box-sizing: border-box;top: 2em;bottom: 0;left: 50%;}#sk-d90c4719-89c7-4038-8912-39dbdeebc99e div.sk-parallel-item {display: flex;flex-direction: column;position: relative;background-color: white;}#sk-d90c4719-89c7-4038-8912-39dbdeebc99e div.sk-parallel-item:first-child::after {align-self: flex-end;width: 50%;}#sk-d90c4719-89c7-4038-8912-39dbdeebc99e div.sk-parallel-item:last-child::after {align-self: flex-start;width: 50%;}#sk-d90c4719-89c7-4038-8912-39dbdeebc99e div.sk-parallel-item:only-child::after {width: 0;}#sk-d90c4719-89c7-4038-8912-39dbdeebc99e div.sk-dashed-wrapped {border: 1px dashed gray;margin: 0 0.4em 0.5em 0.4em;box-sizing: border-box;padding-bottom: 0.4em;background-color: white;position: relative;}#sk-d90c4719-89c7-4038-8912-39dbdeebc99e div.sk-label label {font-family: monospace;font-weight: bold;background-color: white;display: inline-block;line-height: 1.2em;}#sk-d90c4719-89c7-4038-8912-39dbdeebc99e div.sk-label-container {position: relative;z-index: 2;text-align: center;}#sk-d90c4719-89c7-4038-8912-39dbdeebc99e div.sk-container {/* jupyter's `normalize.less` sets `[hidden] { display: none; }` but bootstrap.min.css set `[hidden] { display: none !important; }` so we also need the `!important` here to be able to override the default hidden behavior on the sphinx rendered scikit-learn.org. See: https://github.com/scikit-learn/scikit-learn/issues/21755 */display: inline-block !important;position: relative;}#sk-d90c4719-89c7-4038-8912-39dbdeebc99e div.sk-text-repr-fallback {display: none;}</style><div id=\"sk-d90c4719-89c7-4038-8912-39dbdeebc99e\" class=\"sk-top-container\"><div class=\"sk-text-repr-fallback\"><pre>Pipeline(steps=[(&#x27;columntransformer&#x27;,\n",
       "                 ColumnTransformer(transformers=[(&#x27;pipeline-1&#x27;,\n",
       "                                                  Pipeline(steps=[(&#x27;simpleimputer&#x27;,\n",
       "                                                                   SimpleImputer()),\n",
       "                                                                  (&#x27;standardscaler&#x27;,\n",
       "                                                                   StandardScaler())]),\n",
       "                                                  &lt;sklearn.compose._column_transformer.make_column_selector object at 0x7f6972b31c10&gt;),\n",
       "                                                 (&#x27;pipeline-2&#x27;,\n",
       "                                                  Pipeline(steps=[(&#x27;simpleimputer&#x27;,\n",
       "                                                                   SimpleImputer(strategy=&#x27;most_frequent&#x27;)),\n",
       "                                                                  (&#x27;onehotencoder&#x27;,\n",
       "                                                                   OneHotEncoder(handle_unknown=&#x27;ignore&#x27;))]),\n",
       "                                                  &lt;sklearn.compose._column_transformer.make_column_selector object at 0x7f6972b317c0&gt;)])),\n",
       "                (&#x27;decisiontreeregressor&#x27;,\n",
       "                 DecisionTreeRegressor(random_state=42))])</pre><b>Please rerun this cell to show the HTML repr or trust the notebook.</b></div><div class=\"sk-container\" hidden><div class=\"sk-item sk-dashed-wrapped\"><div class=\"sk-label-container\"><div class=\"sk-label sk-toggleable\"><input class=\"sk-toggleable__control sk-hidden--visually\" id=\"173edfcc-7690-4a3c-86c0-99206c326071\" type=\"checkbox\" ><label for=\"173edfcc-7690-4a3c-86c0-99206c326071\" class=\"sk-toggleable__label sk-toggleable__label-arrow\">Pipeline</label><div class=\"sk-toggleable__content\"><pre>Pipeline(steps=[(&#x27;columntransformer&#x27;,\n",
       "                 ColumnTransformer(transformers=[(&#x27;pipeline-1&#x27;,\n",
       "                                                  Pipeline(steps=[(&#x27;simpleimputer&#x27;,\n",
       "                                                                   SimpleImputer()),\n",
       "                                                                  (&#x27;standardscaler&#x27;,\n",
       "                                                                   StandardScaler())]),\n",
       "                                                  &lt;sklearn.compose._column_transformer.make_column_selector object at 0x7f6972b31c10&gt;),\n",
       "                                                 (&#x27;pipeline-2&#x27;,\n",
       "                                                  Pipeline(steps=[(&#x27;simpleimputer&#x27;,\n",
       "                                                                   SimpleImputer(strategy=&#x27;most_frequent&#x27;)),\n",
       "                                                                  (&#x27;onehotencoder&#x27;,\n",
       "                                                                   OneHotEncoder(handle_unknown=&#x27;ignore&#x27;))]),\n",
       "                                                  &lt;sklearn.compose._column_transformer.make_column_selector object at 0x7f6972b317c0&gt;)])),\n",
       "                (&#x27;decisiontreeregressor&#x27;,\n",
       "                 DecisionTreeRegressor(random_state=42))])</pre></div></div></div><div class=\"sk-serial\"><div class=\"sk-item sk-dashed-wrapped\"><div class=\"sk-label-container\"><div class=\"sk-label sk-toggleable\"><input class=\"sk-toggleable__control sk-hidden--visually\" id=\"6154f7a0-34d5-4772-bc94-4576b7f21534\" type=\"checkbox\" ><label for=\"6154f7a0-34d5-4772-bc94-4576b7f21534\" class=\"sk-toggleable__label sk-toggleable__label-arrow\">columntransformer: ColumnTransformer</label><div class=\"sk-toggleable__content\"><pre>ColumnTransformer(transformers=[(&#x27;pipeline-1&#x27;,\n",
       "                                 Pipeline(steps=[(&#x27;simpleimputer&#x27;,\n",
       "                                                  SimpleImputer()),\n",
       "                                                 (&#x27;standardscaler&#x27;,\n",
       "                                                  StandardScaler())]),\n",
       "                                 &lt;sklearn.compose._column_transformer.make_column_selector object at 0x7f6972b31c10&gt;),\n",
       "                                (&#x27;pipeline-2&#x27;,\n",
       "                                 Pipeline(steps=[(&#x27;simpleimputer&#x27;,\n",
       "                                                  SimpleImputer(strategy=&#x27;most_frequent&#x27;)),\n",
       "                                                 (&#x27;onehotencoder&#x27;,\n",
       "                                                  OneHotEncoder(handle_unknown=&#x27;ignore&#x27;))]),\n",
       "                                 &lt;sklearn.compose._column_transformer.make_column_selector object at 0x7f6972b317c0&gt;)])</pre></div></div></div><div class=\"sk-parallel\"><div class=\"sk-parallel-item\"><div class=\"sk-item\"><div class=\"sk-label-container\"><div class=\"sk-label sk-toggleable\"><input class=\"sk-toggleable__control sk-hidden--visually\" id=\"3ccdba88-5157-48d1-af7f-95ca07139bf4\" type=\"checkbox\" ><label for=\"3ccdba88-5157-48d1-af7f-95ca07139bf4\" class=\"sk-toggleable__label sk-toggleable__label-arrow\">pipeline-1</label><div class=\"sk-toggleable__content\"><pre>&lt;sklearn.compose._column_transformer.make_column_selector object at 0x7f6972b31c10&gt;</pre></div></div></div><div class=\"sk-serial\"><div class=\"sk-item\"><div class=\"sk-serial\"><div class=\"sk-item\"><div class=\"sk-estimator sk-toggleable\"><input class=\"sk-toggleable__control sk-hidden--visually\" id=\"1734d230-453c-47d5-80b2-4f93d0a99294\" type=\"checkbox\" ><label for=\"1734d230-453c-47d5-80b2-4f93d0a99294\" class=\"sk-toggleable__label sk-toggleable__label-arrow\">SimpleImputer</label><div class=\"sk-toggleable__content\"><pre>SimpleImputer()</pre></div></div></div><div class=\"sk-item\"><div class=\"sk-estimator sk-toggleable\"><input class=\"sk-toggleable__control sk-hidden--visually\" id=\"3be699c2-15d4-485b-ba5f-e3264bb98fa0\" type=\"checkbox\" ><label for=\"3be699c2-15d4-485b-ba5f-e3264bb98fa0\" class=\"sk-toggleable__label sk-toggleable__label-arrow\">StandardScaler</label><div class=\"sk-toggleable__content\"><pre>StandardScaler()</pre></div></div></div></div></div></div></div></div><div class=\"sk-parallel-item\"><div class=\"sk-item\"><div class=\"sk-label-container\"><div class=\"sk-label sk-toggleable\"><input class=\"sk-toggleable__control sk-hidden--visually\" id=\"14be17e5-63b8-4574-ba67-55a17376c799\" type=\"checkbox\" ><label for=\"14be17e5-63b8-4574-ba67-55a17376c799\" class=\"sk-toggleable__label sk-toggleable__label-arrow\">pipeline-2</label><div class=\"sk-toggleable__content\"><pre>&lt;sklearn.compose._column_transformer.make_column_selector object at 0x7f6972b317c0&gt;</pre></div></div></div><div class=\"sk-serial\"><div class=\"sk-item\"><div class=\"sk-serial\"><div class=\"sk-item\"><div class=\"sk-estimator sk-toggleable\"><input class=\"sk-toggleable__control sk-hidden--visually\" id=\"44284106-a43a-4f72-8241-69fae91ac121\" type=\"checkbox\" ><label for=\"44284106-a43a-4f72-8241-69fae91ac121\" class=\"sk-toggleable__label sk-toggleable__label-arrow\">SimpleImputer</label><div class=\"sk-toggleable__content\"><pre>SimpleImputer(strategy=&#x27;most_frequent&#x27;)</pre></div></div></div><div class=\"sk-item\"><div class=\"sk-estimator sk-toggleable\"><input class=\"sk-toggleable__control sk-hidden--visually\" id=\"16439cc3-aef5-4b1d-9fab-0dcaa5ea7a2f\" type=\"checkbox\" ><label for=\"16439cc3-aef5-4b1d-9fab-0dcaa5ea7a2f\" class=\"sk-toggleable__label sk-toggleable__label-arrow\">OneHotEncoder</label><div class=\"sk-toggleable__content\"><pre>OneHotEncoder(handle_unknown=&#x27;ignore&#x27;)</pre></div></div></div></div></div></div></div></div></div></div><div class=\"sk-item\"><div class=\"sk-estimator sk-toggleable\"><input class=\"sk-toggleable__control sk-hidden--visually\" id=\"1208f85f-5771-4b10-8c17-1f5b8026761d\" type=\"checkbox\" ><label for=\"1208f85f-5771-4b10-8c17-1f5b8026761d\" class=\"sk-toggleable__label sk-toggleable__label-arrow\">DecisionTreeRegressor</label><div class=\"sk-toggleable__content\"><pre>DecisionTreeRegressor(random_state=42)</pre></div></div></div></div></div></div></div>"
      ],
      "text/plain": [
       "Pipeline(steps=[('columntransformer',\n",
       "                 ColumnTransformer(transformers=[('pipeline-1',\n",
       "                                                  Pipeline(steps=[('simpleimputer',\n",
       "                                                                   SimpleImputer()),\n",
       "                                                                  ('standardscaler',\n",
       "                                                                   StandardScaler())]),\n",
       "                                                  <sklearn.compose._column_transformer.make_column_selector object at 0x7f6972b31c10>),\n",
       "                                                 ('pipeline-2',\n",
       "                                                  Pipeline(steps=[('simpleimputer',\n",
       "                                                                   SimpleImputer(strategy='most_frequent')),\n",
       "                                                                  ('onehotencoder',\n",
       "                                                                   OneHotEncoder(handle_unknown='ignore'))]),\n",
       "                                                  <sklearn.compose._column_transformer.make_column_selector object at 0x7f6972b317c0>)])),\n",
       "                ('decisiontreeregressor',\n",
       "                 DecisionTreeRegressor(random_state=42))])"
      ]
     },
     "execution_count": 37,
     "metadata": {},
     "output_type": "execute_result"
    }
   ],
   "source": [
    "# now to fit the pipeline into the training set\n",
    "dec_tree_pipe.fit(X_train, y_train)"
   ]
  },
  {
   "cell_type": "markdown",
   "metadata": {
    "id": "zk0CdXCUOMzC"
   },
   "source": [
    "- I can get a quick snapshot of how the model will perform on the training and testing data while keeping all of the default parameters."
   ]
  },
  {
   "cell_type": "code",
   "execution_count": 39,
   "metadata": {
    "colab": {
     "base_uri": "https://localhost:8080/"
    },
    "id": "z9HgEMFjN1Yi",
    "outputId": "01de40dd-e0bd-4d00-e8ca-500e0f3a35bd"
   },
   "outputs": [
    {
     "name": "stdout",
     "output_type": "stream",
     "text": [
      "1.0\n",
      "0.2159607166722468\n"
     ]
    }
   ],
   "source": [
    "# evaluate the model\n",
    "train_score = dec_tree_pipe.score(X_train, y_train)\n",
    "test_score = dec_tree_pipe.score(X_test, y_test)\n",
    "print(train_score)\n",
    "print(test_score)"
   ]
  },
  {
   "cell_type": "markdown",
   "metadata": {
    "id": "zI6x5UfOOpXO"
   },
   "source": [
    "- The result of the performance on the testing data was abysmal with the default parameters. The model can be tuned in order to find the highest R^2 score of the testing set, which I will do next. Before setting out to tune the parameters, I want to know the parameters of a Decision Tree model are."
   ]
  },
  {
   "cell_type": "code",
   "execution_count": 41,
   "metadata": {
    "colab": {
     "base_uri": "https://localhost:8080/"
    },
    "id": "EV3XfSG3OeaB",
    "outputId": "b5dc96a2-7baf-4fa3-a5bd-dae940f25b4e"
   },
   "outputs": [
    {
     "data": {
      "text/plain": [
       "{'ccp_alpha': 0.0,\n",
       " 'criterion': 'squared_error',\n",
       " 'max_depth': None,\n",
       " 'max_features': None,\n",
       " 'max_leaf_nodes': None,\n",
       " 'min_impurity_decrease': 0.0,\n",
       " 'min_samples_leaf': 1,\n",
       " 'min_samples_split': 2,\n",
       " 'min_weight_fraction_leaf': 0.0,\n",
       " 'random_state': 42,\n",
       " 'splitter': 'best'}"
      ]
     },
     "execution_count": 41,
     "metadata": {},
     "output_type": "execute_result"
    }
   ],
   "source": [
    "# looking at options for tuning this model\n",
    "dec_tree.get_params()"
   ]
  },
  {
   "cell_type": "markdown",
   "metadata": {
    "id": "K5GcyaYNP1X7"
   },
   "source": [
    "There are 2 parameters I want to focus on and tune in order to find a better R^2 score: max_depth and max_leaf_nodes. Since these both default to 'None', the maximum can be found and tuned in order to bring the R^2 value up."
   ]
  },
  {
   "cell_type": "code",
   "execution_count": 42,
   "metadata": {
    "colab": {
     "base_uri": "https://localhost:8080/"
    },
    "id": "gRddAmtZPkCp",
    "outputId": "98fa62f1-698f-47af-b42b-823b37656bdb"
   },
   "outputs": [
    {
     "data": {
      "text/plain": [
       "40"
      ]
     },
     "execution_count": 42,
     "metadata": {},
     "output_type": "execute_result"
    }
   ],
   "source": [
    "dec_tree.get_depth()"
   ]
  },
  {
   "cell_type": "code",
   "execution_count": 43,
   "metadata": {
    "colab": {
     "base_uri": "https://localhost:8080/"
    },
    "id": "zM8AmxkVQPqA",
    "outputId": "44ef78a5-67dc-451e-93fb-6d3dea58448e"
   },
   "outputs": [
    {
     "data": {
      "text/plain": [
       "6272"
      ]
     },
     "execution_count": 43,
     "metadata": {},
     "output_type": "execute_result"
    }
   ],
   "source": [
    "dec_tree.get_n_leaves()"
   ]
  },
  {
   "cell_type": "markdown",
   "metadata": {
    "id": "kOU_LCVRQbXb"
   },
   "source": [
    "- I'll start with my focus on the depth. With a maximum of 40, I know the optimal depth is in a range of a depth of 1 to a depth of 40. I want to see where the range starts at, so I will first tune the depth to 2 and run it on the model."
   ]
  },
  {
   "cell_type": "code",
   "execution_count": 47,
   "metadata": {
    "colab": {
     "base_uri": "https://localhost:8080/"
    },
    "id": "1l4icXjEQTbo",
    "outputId": "066cb2ec-5857-44ad-e6d7-15ba0739ab3a"
   },
   "outputs": [
    {
     "name": "stdout",
     "output_type": "stream",
     "text": [
      "0.43164096170474664\n",
      "0.4337775044707167\n"
     ]
    }
   ],
   "source": [
    "dec_tree_2 = DecisionTreeRegressor(max_depth = 2, random_state = 42)\n",
    "dec_tree_pipe_2 = make_pipeline(preprocessor, dec_tree_2)\n",
    "dec_tree_pipe_2.fit(X_train, y_train)\n",
    "train_2_score = dec_tree_pipe_2.score(X_train, y_train)\n",
    "test_2_score = dec_tree_pipe_2.score(X_test, y_test)\n",
    "print(train_2_score)\n",
    "print(test_2_score)"
   ]
  },
  {
   "cell_type": "markdown",
   "metadata": {
    "id": "csx4LWabSGHb"
   },
   "source": [
    "- The R^2 score for the model with a depth of 2 was improved from the depth of 'None', but it is still vastly underfitted on the training and testing sets. Instead of trying all depths individually, a loop can be created to loop through the entire range of depths and can then be visulized to find where the test score is highest. "
   ]
  },
  {
   "cell_type": "code",
   "execution_count": 48,
   "metadata": {
    "id": "J4gUWN5yRIyo"
   },
   "outputs": [],
   "source": [
    "depths = list(range(2, 40))\n",
    "# a DataFrame is created to store the score for each value of max_depth:\n",
    "scores = pd.DataFrame(index=depths, columns=['Test Score','Train Score'])\n",
    "for depth in depths:\n",
    "    dec_tree = DecisionTreeRegressor(max_depth=depth, random_state=42)\n",
    "    dec_tree_pipe = make_pipeline(preprocessor, dec_tree)\n",
    "    dec_tree_pipe.fit(X_train, y_train)\n",
    "    train_score = dec_tree_pipe.score(X_train, y_train)\n",
    "    test_score = dec_tree_pipe.score(X_test, y_test)\n",
    "    scores.loc[depth, 'Train Score'] = train_score\n",
    "    scores.loc[depth, 'Test Score'] = test_score"
   ]
  },
  {
   "cell_type": "code",
   "execution_count": 49,
   "metadata": {
    "colab": {
     "base_uri": "https://localhost:8080/",
     "height": 280
    },
    "id": "lNrN_tKzTLxt",
    "outputId": "016e13ec-6de8-446a-c146-463f3adf7373"
   },
   "outputs": [
    {
     "data": {
      "image/png": "[encoded data removed]",
      "text/plain": [
       "<Figure size 432x288 with 1 Axes>"
      ]
     },
     "metadata": {
      "needs_background": "light"
     },
     "output_type": "display_data"
    }
   ],
   "source": [
    "# Visualize which max_depth leads to the highest r2 score\n",
    "import matplotlib.pyplot as plt\n",
    "plt.plot(depths, scores['Test Score'])\n",
    "plt.xlabel('max_depth')\n",
    "plt.ylabel('R2');"
   ]
  },
  {
   "cell_type": "markdown",
   "metadata": {
    "id": "m5-uGcUyTUgm"
   },
   "source": [
    "- From looking at the plot above, it appears that 5 is the depth with the highest test set score. I can sort the values in a DataFrame from the one we created above to confirm that 5 is the optimal depth."
   ]
  },
  {
   "cell_type": "code",
   "execution_count": 50,
   "metadata": {
    "colab": {
     "base_uri": "https://localhost:8080/",
     "height": 206
    },
    "id": "dNQ-fWBmTSBt",
    "outputId": "a33e8fdb-5eaa-43e7-b17e-ce9bbf322ec5"
   },
   "outputs": [
    {
     "data": {
      "text/html": [
       "\n",
       "  <div id=\"df-9059f067-e902-42ec-97cd-063a717535ad\">\n",
       "    <div class=\"colab-df-container\">\n",
       "      <div>\n",
       "<style scoped>\n",
       "    .dataframe tbody tr th:only-of-type {\n",
       "        vertical-align: middle;\n",
       "    }\n",
       "\n",
       "    .dataframe tbody tr th {\n",
       "        vertical-align: top;\n",
       "    }\n",
       "\n",
       "    .dataframe thead th {\n",
       "        text-align: right;\n",
       "    }\n",
       "</style>\n",
       "<table border=\"1\" class=\"dataframe\">\n",
       "  <thead>\n",
       "    <tr style=\"text-align: right;\">\n",
       "      <th></th>\n",
       "      <th>Test Score</th>\n",
       "      <th>Train Score</th>\n",
       "    </tr>\n",
       "  </thead>\n",
       "  <tbody>\n",
       "    <tr>\n",
       "      <th>5</th>\n",
       "      <td>0.59471</td>\n",
       "      <td>0.60394</td>\n",
       "    </tr>\n",
       "    <tr>\n",
       "      <th>4</th>\n",
       "      <td>0.584005</td>\n",
       "      <td>0.582625</td>\n",
       "    </tr>\n",
       "    <tr>\n",
       "      <th>6</th>\n",
       "      <td>0.582587</td>\n",
       "      <td>0.615072</td>\n",
       "    </tr>\n",
       "    <tr>\n",
       "      <th>7</th>\n",
       "      <td>0.576843</td>\n",
       "      <td>0.626454</td>\n",
       "    </tr>\n",
       "    <tr>\n",
       "      <th>8</th>\n",
       "      <td>0.560245</td>\n",
       "      <td>0.642714</td>\n",
       "    </tr>\n",
       "  </tbody>\n",
       "</table>\n",
       "</div>\n",
       "      <button class=\"colab-df-convert\" onclick=\"convertToInteractive('df-9059f067-e902-42ec-97cd-063a717535ad')\"\n",
       "              title=\"Convert this dataframe to an interactive table.\"\n",
       "              style=\"display:none;\">\n",
       "        \n",
       "  <svg xmlns=\"http://www.w3.org/2000/svg\" height=\"24px\"viewBox=\"0 0 24 24\"\n",
       "       width=\"24px\">\n",
       "    <path d=\"M0 0h24v24H0V0z\" fill=\"none\"/>\n",
       "    <path d=\"M18.56 5.44l.94 2.06.94-2.06 2.06-.94-2.06-.94-.94-2.06-.94 2.06-2.06.94zm-11 1L8.5 8.5l.94-2.06 2.06-.94-2.06-.94L8.5 2.5l-.94 2.06-2.06.94zm10 10l.94 2.06.94-2.06 2.06-.94-2.06-.94-.94-2.06-.94 2.06-2.06.94z\"/><path d=\"M17.41 7.96l-1.37-1.37c-.4-.4-.92-.59-1.43-.59-.52 0-1.04.2-1.43.59L10.3 9.45l-7.72 7.72c-.78.78-.78 2.05 0 2.83L4 21.41c.39.39.9.59 1.41.59.51 0 1.02-.2 1.41-.59l7.78-7.78 2.81-2.81c.8-.78.8-2.07 0-2.86zM5.41 20L4 18.59l7.72-7.72 1.47 1.35L5.41 20z\"/>\n",
       "  </svg>\n",
       "      </button>\n",
       "      \n",
       "  <style>\n",
       "    .colab-df-container {\n",
       "      display:flex;\n",
       "      flex-wrap:wrap;\n",
       "      gap: 12px;\n",
       "    }\n",
       "\n",
       "    .colab-df-convert {\n",
       "      background-color: #E8F0FE;\n",
       "      border: none;\n",
       "      border-radius: 50%;\n",
       "      cursor: pointer;\n",
       "      display: none;\n",
       "      fill: #1967D2;\n",
       "      height: 32px;\n",
       "      padding: 0 0 0 0;\n",
       "      width: 32px;\n",
       "    }\n",
       "\n",
       "    .colab-df-convert:hover {\n",
       "      background-color: #E2EBFA;\n",
       "      box-shadow: 0px 1px 2px rgba(60, 64, 67, 0.3), 0px 1px 3px 1px rgba(60, 64, 67, 0.15);\n",
       "      fill: #174EA6;\n",
       "    }\n",
       "\n",
       "    [theme=dark] .colab-df-convert {\n",
       "      background-color: #3B4455;\n",
       "      fill: #D2E3FC;\n",
       "    }\n",
       "\n",
       "    [theme=dark] .colab-df-convert:hover {\n",
       "      background-color: #434B5C;\n",
       "      box-shadow: 0px 1px 3px 1px rgba(0, 0, 0, 0.15);\n",
       "      filter: drop-shadow(0px 1px 2px rgba(0, 0, 0, 0.3));\n",
       "      fill: #FFFFFF;\n",
       "    }\n",
       "  </style>\n",
       "\n",
       "      <script>\n",
       "        const buttonEl =\n",
       "          document.querySelector('#df-9059f067-e902-42ec-97cd-063a717535ad button.colab-df-convert');\n",
       "        buttonEl.style.display =\n",
       "          google.colab.kernel.accessAllowed ? 'block' : 'none';\n",
       "\n",
       "        async function convertToInteractive(key) {\n",
       "          const element = document.querySelector('#df-9059f067-e902-42ec-97cd-063a717535ad');\n",
       "          const dataTable =\n",
       "            await google.colab.kernel.invokeFunction('convertToInteractive',\n",
       "                                                     [key], {});\n",
       "          if (!dataTable) return;\n",
       "\n",
       "          const docLinkHtml = 'Like what you see? Visit the ' +\n",
       "            '<a target=\"_blank\" href=https://colab.research.google.com/notebooks/data_table.ipynb>data table notebook</a>'\n",
       "            + ' to learn more about interactive tables.';\n",
       "          element.innerHTML = '';\n",
       "          dataTable['output_type'] = 'display_data';\n",
       "          await google.colab.output.renderOutput(dataTable, element);\n",
       "          const docLink = document.createElement('div');\n",
       "          docLink.innerHTML = docLinkHtml;\n",
       "          element.appendChild(docLink);\n",
       "        }\n",
       "      </script>\n",
       "    </div>\n",
       "  </div>\n",
       "  "
      ],
      "text/plain": [
       "  Test Score Train Score\n",
       "5    0.59471     0.60394\n",
       "4   0.584005    0.582625\n",
       "6   0.582587    0.615072\n",
       "7   0.576843    0.626454\n",
       "8   0.560245    0.642714"
      ]
     },
     "execution_count": 50,
     "metadata": {},
     "output_type": "execute_result"
    }
   ],
   "source": [
    "sorted_scores = scores.sort_values(by='Test Score', ascending=False)\n",
    "sorted_scores.head()"
   ]
  },
  {
   "cell_type": "code",
   "execution_count": 52,
   "metadata": {
    "colab": {
     "base_uri": "https://localhost:8080/"
    },
    "id": "IITzniCGTtcc",
    "outputId": "7244b18a-0b00-444d-a924-41299a224a5b"
   },
   "outputs": [
    {
     "name": "stdout",
     "output_type": "stream",
     "text": [
      "0.6039397477322958\n",
      "0.5947099753159972\n"
     ]
    }
   ],
   "source": [
    "# I can run the model with the optimal value of depth\n",
    "dec_tree_5 = DecisionTreeRegressor(max_depth = 5, random_state = 42)\n",
    "dec_tree_pipe_5 = make_pipeline(preprocessor, dec_tree_5)\n",
    "dec_tree_pipe_5.fit(X_train, y_train)\n",
    "train_5_score = dec_tree_pipe_5.score(X_train, y_train)\n",
    "test_5_score = dec_tree_pipe_5.score(X_test, y_test)\n",
    "print(train_5_score)\n",
    "print(test_5_score)"
   ]
  },
  {
   "cell_type": "markdown",
   "metadata": {
    "id": "7wydgxYeUhWB"
   },
   "source": [
    "- A test score of 0.59 isn't ideal, and although the variance is very low between the training and test sets, I want to raise the score of the test set. I can also tune the max_leaf_nodes to see if I can raise the score. **Note:** I will make sure to keep my parameter of depth of 5, as it is the most optimized depth value."
   ]
  },
  {
   "cell_type": "code",
   "execution_count": 72,
   "metadata": {
    "id": "OsJWrNm3UY7C"
   },
   "outputs": [],
   "source": [
    "# similar to max_depths, I will run a loop on the max_leaf_nodes\n",
    "leaf_nodes = [6, 7, 8, 9, 10, 11, 12]\n",
    "# a DataFrame is created to store the score for each value of max_leaf_nodes:\n",
    "scores = pd.DataFrame(index=leaf_nodes, columns=['Test Score','Train Score'])\n",
    "for n in leaf_nodes:\n",
    "    dec_tree = DecisionTreeRegressor(max_leaf_nodes=n, random_state=42)\n",
    "    dec_tree_pipe = make_pipeline(preprocessor, dec_tree)\n",
    "    dec_tree_pipe.fit(X_train, y_train)\n",
    "    train_score = dec_tree_pipe.score(X_train, y_train)\n",
    "    test_score = dec_tree_pipe.score(X_test, y_test)\n",
    "    scores.loc[n, 'Train Score'] = train_score\n",
    "    scores.loc[n, 'Test Score'] = test_score"
   ]
  },
  {
   "cell_type": "code",
   "execution_count": 73,
   "metadata": {
    "colab": {
     "base_uri": "https://localhost:8080/",
     "height": 280
    },
    "id": "E3bYnynrZaYJ",
    "outputId": "2735aa09-868d-43df-ca33-6c2152329aec"
   },
   "outputs": [
    {
     "data": {
      "image/png": "[encoded data removed]",
      "text/plain": [
       "<Figure size 432x288 with 1 Axes>"
      ]
     },
     "metadata": {
      "needs_background": "light"
     },
     "output_type": "display_data"
    }
   ],
   "source": [
    "# Visualize which max_leaf_nodes leads to the highest r2 score\n",
    "plt.plot(leaf_nodes, scores['Test Score'])\n",
    "plt.xlabel('max_leaf_nodes')\n",
    "plt.ylabel('R2');"
   ]
  },
  {
   "cell_type": "code",
   "execution_count": 74,
   "metadata": {
    "colab": {
     "base_uri": "https://localhost:8080/",
     "height": 206
    },
    "id": "ZpFpDSutbdis",
    "outputId": "f3fd5b75-5ded-4bc6-83dc-8644b7121c26"
   },
   "outputs": [
    {
     "data": {
      "text/html": [
       "\n",
       "  <div id=\"df-a9bd6fe6-3b2c-48fa-9c52-3b5db20758f4\">\n",
       "    <div class=\"colab-df-container\">\n",
       "      <div>\n",
       "<style scoped>\n",
       "    .dataframe tbody tr th:only-of-type {\n",
       "        vertical-align: middle;\n",
       "    }\n",
       "\n",
       "    .dataframe tbody tr th {\n",
       "        vertical-align: top;\n",
       "    }\n",
       "\n",
       "    .dataframe thead th {\n",
       "        text-align: right;\n",
       "    }\n",
       "</style>\n",
       "<table border=\"1\" class=\"dataframe\">\n",
       "  <thead>\n",
       "    <tr style=\"text-align: right;\">\n",
       "      <th></th>\n",
       "      <th>Test Score</th>\n",
       "      <th>Train Score</th>\n",
       "    </tr>\n",
       "  </thead>\n",
       "  <tbody>\n",
       "    <tr>\n",
       "      <th>11</th>\n",
       "      <td>0.58985</td>\n",
       "      <td>0.590147</td>\n",
       "    </tr>\n",
       "    <tr>\n",
       "      <th>12</th>\n",
       "      <td>0.589459</td>\n",
       "      <td>0.594329</td>\n",
       "    </tr>\n",
       "    <tr>\n",
       "      <th>10</th>\n",
       "      <td>0.585208</td>\n",
       "      <td>0.585238</td>\n",
       "    </tr>\n",
       "    <tr>\n",
       "      <th>9</th>\n",
       "      <td>0.58157</td>\n",
       "      <td>0.579934</td>\n",
       "    </tr>\n",
       "    <tr>\n",
       "      <th>8</th>\n",
       "      <td>0.574863</td>\n",
       "      <td>0.568768</td>\n",
       "    </tr>\n",
       "  </tbody>\n",
       "</table>\n",
       "</div>\n",
       "      <button class=\"colab-df-convert\" onclick=\"convertToInteractive('df-a9bd6fe6-3b2c-48fa-9c52-3b5db20758f4')\"\n",
       "              title=\"Convert this dataframe to an interactive table.\"\n",
       "              style=\"display:none;\">\n",
       "        \n",
       "  <svg xmlns=\"http://www.w3.org/2000/svg\" height=\"24px\"viewBox=\"0 0 24 24\"\n",
       "       width=\"24px\">\n",
       "    <path d=\"M0 0h24v24H0V0z\" fill=\"none\"/>\n",
       "    <path d=\"M18.56 5.44l.94 2.06.94-2.06 2.06-.94-2.06-.94-.94-2.06-.94 2.06-2.06.94zm-11 1L8.5 8.5l.94-2.06 2.06-.94-2.06-.94L8.5 2.5l-.94 2.06-2.06.94zm10 10l.94 2.06.94-2.06 2.06-.94-2.06-.94-.94-2.06-.94 2.06-2.06.94z\"/><path d=\"M17.41 7.96l-1.37-1.37c-.4-.4-.92-.59-1.43-.59-.52 0-1.04.2-1.43.59L10.3 9.45l-7.72 7.72c-.78.78-.78 2.05 0 2.83L4 21.41c.39.39.9.59 1.41.59.51 0 1.02-.2 1.41-.59l7.78-7.78 2.81-2.81c.8-.78.8-2.07 0-2.86zM5.41 20L4 18.59l7.72-7.72 1.47 1.35L5.41 20z\"/>\n",
       "  </svg>\n",
       "      </button>\n",
       "      \n",
       "  <style>\n",
       "    .colab-df-container {\n",
       "      display:flex;\n",
       "      flex-wrap:wrap;\n",
       "      gap: 12px;\n",
       "    }\n",
       "\n",
       "    .colab-df-convert {\n",
       "      background-color: #E8F0FE;\n",
       "      border: none;\n",
       "      border-radius: 50%;\n",
       "      cursor: pointer;\n",
       "      display: none;\n",
       "      fill: #1967D2;\n",
       "      height: 32px;\n",
       "      padding: 0 0 0 0;\n",
       "      width: 32px;\n",
       "    }\n",
       "\n",
       "    .colab-df-convert:hover {\n",
       "      background-color: #E2EBFA;\n",
       "      box-shadow: 0px 1px 2px rgba(60, 64, 67, 0.3), 0px 1px 3px 1px rgba(60, 64, 67, 0.15);\n",
       "      fill: #174EA6;\n",
       "    }\n",
       "\n",
       "    [theme=dark] .colab-df-convert {\n",
       "      background-color: #3B4455;\n",
       "      fill: #D2E3FC;\n",
       "    }\n",
       "\n",
       "    [theme=dark] .colab-df-convert:hover {\n",
       "      background-color: #434B5C;\n",
       "      box-shadow: 0px 1px 3px 1px rgba(0, 0, 0, 0.15);\n",
       "      filter: drop-shadow(0px 1px 2px rgba(0, 0, 0, 0.3));\n",
       "      fill: #FFFFFF;\n",
       "    }\n",
       "  </style>\n",
       "\n",
       "      <script>\n",
       "        const buttonEl =\n",
       "          document.querySelector('#df-a9bd6fe6-3b2c-48fa-9c52-3b5db20758f4 button.colab-df-convert');\n",
       "        buttonEl.style.display =\n",
       "          google.colab.kernel.accessAllowed ? 'block' : 'none';\n",
       "\n",
       "        async function convertToInteractive(key) {\n",
       "          const element = document.querySelector('#df-a9bd6fe6-3b2c-48fa-9c52-3b5db20758f4');\n",
       "          const dataTable =\n",
       "            await google.colab.kernel.invokeFunction('convertToInteractive',\n",
       "                                                     [key], {});\n",
       "          if (!dataTable) return;\n",
       "\n",
       "          const docLinkHtml = 'Like what you see? Visit the ' +\n",
       "            '<a target=\"_blank\" href=https://colab.research.google.com/notebooks/data_table.ipynb>data table notebook</a>'\n",
       "            + ' to learn more about interactive tables.';\n",
       "          element.innerHTML = '';\n",
       "          dataTable['output_type'] = 'display_data';\n",
       "          await google.colab.output.renderOutput(dataTable, element);\n",
       "          const docLink = document.createElement('div');\n",
       "          docLink.innerHTML = docLinkHtml;\n",
       "          element.appendChild(docLink);\n",
       "        }\n",
       "      </script>\n",
       "    </div>\n",
       "  </div>\n",
       "  "
      ],
      "text/plain": [
       "   Test Score Train Score\n",
       "11    0.58985    0.590147\n",
       "12   0.589459    0.594329\n",
       "10   0.585208    0.585238\n",
       "9     0.58157    0.579934\n",
       "8    0.574863    0.568768"
      ]
     },
     "execution_count": 74,
     "metadata": {},
     "output_type": "execute_result"
    }
   ],
   "source": [
    "sorted_scores = scores.sort_values(by='Test Score', ascending=False)\n",
    "sorted_scores.head()"
   ]
  },
  {
   "cell_type": "markdown",
   "metadata": {
    "id": "d3FZ-CV1iGbW"
   },
   "source": [
    "- Tuning the max_leaf_nodes did not produce a greater output for the R^2 score, so the Decision Tree model may not be optimal to run for the dataset to predict future outlet sales. One other model I can run is the Random Forest model, which gives me my best chance yet to improve the R^2 score of the test set."
   ]
  },
  {
   "cell_type": "code",
   "execution_count": 76,
   "metadata": {
    "id": "RXtXPa0Tipqj"
   },
   "outputs": [],
   "source": [
    "# Import random forest Regressor\n",
    "from sklearn.ensemble import RandomForestRegressor"
   ]
  },
  {
   "cell_type": "code",
   "execution_count": 77,
   "metadata": {
    "id": "KcTADXrvhT0y"
   },
   "outputs": [],
   "source": [
    "# Make an Instance of the Model\n",
    "rf = RandomForestRegressor(random_state = 42)"
   ]
  },
  {
   "cell_type": "code",
   "execution_count": 78,
   "metadata": {
    "id": "6cm0TyTPitbZ"
   },
   "outputs": [],
   "source": [
    "# Next I will make a pipeline\n",
    "rf_pipe = make_pipeline(preprocessor, rf)"
   ]
  },
  {
   "cell_type": "code",
   "execution_count": 79,
   "metadata": {
    "colab": {
     "base_uri": "https://localhost:8080/",
     "height": 228
    },
    "id": "Pm79FAALik2Q",
    "outputId": "97225465-211b-4880-a45e-c18a184ebc2a"
   },
   "outputs": [
    {
     "data": {
      "text/html": [
       "<style>#sk-62962914-0889-49df-a94b-5619b8085bd9 {color: black;background-color: white;}#sk-62962914-0889-49df-a94b-5619b8085bd9 pre{padding: 0;}#sk-62962914-0889-49df-a94b-5619b8085bd9 div.sk-toggleable {background-color: white;}#sk-62962914-0889-49df-a94b-5619b8085bd9 label.sk-toggleable__label {cursor: pointer;display: block;width: 100%;margin-bottom: 0;padding: 0.3em;box-sizing: border-box;text-align: center;}#sk-62962914-0889-49df-a94b-5619b8085bd9 label.sk-toggleable__label-arrow:before {content: \"▸\";float: left;margin-right: 0.25em;color: #696969;}#sk-62962914-0889-49df-a94b-5619b8085bd9 label.sk-toggleable__label-arrow:hover:before {color: black;}#sk-62962914-0889-49df-a94b-5619b8085bd9 div.sk-estimator:hover label.sk-toggleable__label-arrow:before {color: black;}#sk-62962914-0889-49df-a94b-5619b8085bd9 div.sk-toggleable__content {max-height: 0;max-width: 0;overflow: hidden;text-align: left;background-color: #f0f8ff;}#sk-62962914-0889-49df-a94b-5619b8085bd9 div.sk-toggleable__content pre {margin: 0.2em;color: black;border-radius: 0.25em;background-color: #f0f8ff;}#sk-62962914-0889-49df-a94b-5619b8085bd9 input.sk-toggleable__control:checked~div.sk-toggleable__content {max-height: 200px;max-width: 100%;overflow: auto;}#sk-62962914-0889-49df-a94b-5619b8085bd9 input.sk-toggleable__control:checked~label.sk-toggleable__label-arrow:before {content: \"▾\";}#sk-62962914-0889-49df-a94b-5619b8085bd9 div.sk-estimator input.sk-toggleable__control:checked~label.sk-toggleable__label {background-color: #d4ebff;}#sk-62962914-0889-49df-a94b-5619b8085bd9 div.sk-label input.sk-toggleable__control:checked~label.sk-toggleable__label {background-color: #d4ebff;}#sk-62962914-0889-49df-a94b-5619b8085bd9 input.sk-hidden--visually {border: 0;clip: rect(1px 1px 1px 1px);clip: rect(1px, 1px, 1px, 1px);height: 1px;margin: -1px;overflow: hidden;padding: 0;position: absolute;width: 1px;}#sk-62962914-0889-49df-a94b-5619b8085bd9 div.sk-estimator {font-family: monospace;background-color: #f0f8ff;border: 1px dotted black;border-radius: 0.25em;box-sizing: border-box;margin-bottom: 0.5em;}#sk-62962914-0889-49df-a94b-5619b8085bd9 div.sk-estimator:hover {background-color: #d4ebff;}#sk-62962914-0889-49df-a94b-5619b8085bd9 div.sk-parallel-item::after {content: \"\";width: 100%;border-bottom: 1px solid gray;flex-grow: 1;}#sk-62962914-0889-49df-a94b-5619b8085bd9 div.sk-label:hover label.sk-toggleable__label {background-color: #d4ebff;}#sk-62962914-0889-49df-a94b-5619b8085bd9 div.sk-serial::before {content: \"\";position: absolute;border-left: 1px solid gray;box-sizing: border-box;top: 2em;bottom: 0;left: 50%;}#sk-62962914-0889-49df-a94b-5619b8085bd9 div.sk-serial {display: flex;flex-direction: column;align-items: center;background-color: white;padding-right: 0.2em;padding-left: 0.2em;}#sk-62962914-0889-49df-a94b-5619b8085bd9 div.sk-item {z-index: 1;}#sk-62962914-0889-49df-a94b-5619b8085bd9 div.sk-parallel {display: flex;align-items: stretch;justify-content: center;background-color: white;}#sk-62962914-0889-49df-a94b-5619b8085bd9 div.sk-parallel::before {content: \"\";position: absolute;border-left: 1px solid gray;box-sizing: border-box;top: 2em;bottom: 0;left: 50%;}#sk-62962914-0889-49df-a94b-5619b8085bd9 div.sk-parallel-item {display: flex;flex-direction: column;position: relative;background-color: white;}#sk-62962914-0889-49df-a94b-5619b8085bd9 div.sk-parallel-item:first-child::after {align-self: flex-end;width: 50%;}#sk-62962914-0889-49df-a94b-5619b8085bd9 div.sk-parallel-item:last-child::after {align-self: flex-start;width: 50%;}#sk-62962914-0889-49df-a94b-5619b8085bd9 div.sk-parallel-item:only-child::after {width: 0;}#sk-62962914-0889-49df-a94b-5619b8085bd9 div.sk-dashed-wrapped {border: 1px dashed gray;margin: 0 0.4em 0.5em 0.4em;box-sizing: border-box;padding-bottom: 0.4em;background-color: white;position: relative;}#sk-62962914-0889-49df-a94b-5619b8085bd9 div.sk-label label {font-family: monospace;font-weight: bold;background-color: white;display: inline-block;line-height: 1.2em;}#sk-62962914-0889-49df-a94b-5619b8085bd9 div.sk-label-container {position: relative;z-index: 2;text-align: center;}#sk-62962914-0889-49df-a94b-5619b8085bd9 div.sk-container {/* jupyter's `normalize.less` sets `[hidden] { display: none; }` but bootstrap.min.css set `[hidden] { display: none !important; }` so we also need the `!important` here to be able to override the default hidden behavior on the sphinx rendered scikit-learn.org. See: https://github.com/scikit-learn/scikit-learn/issues/21755 */display: inline-block !important;position: relative;}#sk-62962914-0889-49df-a94b-5619b8085bd9 div.sk-text-repr-fallback {display: none;}</style><div id=\"sk-62962914-0889-49df-a94b-5619b8085bd9\" class=\"sk-top-container\"><div class=\"sk-text-repr-fallback\"><pre>Pipeline(steps=[(&#x27;columntransformer&#x27;,\n",
       "                 ColumnTransformer(transformers=[(&#x27;pipeline-1&#x27;,\n",
       "                                                  Pipeline(steps=[(&#x27;simpleimputer&#x27;,\n",
       "                                                                   SimpleImputer()),\n",
       "                                                                  (&#x27;standardscaler&#x27;,\n",
       "                                                                   StandardScaler())]),\n",
       "                                                  &lt;sklearn.compose._column_transformer.make_column_selector object at 0x7f6972b31c10&gt;),\n",
       "                                                 (&#x27;pipeline-2&#x27;,\n",
       "                                                  Pipeline(steps=[(&#x27;simpleimputer&#x27;,\n",
       "                                                                   SimpleImputer(strategy=&#x27;most_frequent&#x27;)),\n",
       "                                                                  (&#x27;onehotencoder&#x27;,\n",
       "                                                                   OneHotEncoder(handle_unknown=&#x27;ignore&#x27;))]),\n",
       "                                                  &lt;sklearn.compose._column_transformer.make_column_selector object at 0x7f6972b317c0&gt;)])),\n",
       "                (&#x27;randomforestregressor&#x27;,\n",
       "                 RandomForestRegressor(random_state=42))])</pre><b>Please rerun this cell to show the HTML repr or trust the notebook.</b></div><div class=\"sk-container\" hidden><div class=\"sk-item sk-dashed-wrapped\"><div class=\"sk-label-container\"><div class=\"sk-label sk-toggleable\"><input class=\"sk-toggleable__control sk-hidden--visually\" id=\"5989d866-880e-409f-8239-225c10eef46b\" type=\"checkbox\" ><label for=\"5989d866-880e-409f-8239-225c10eef46b\" class=\"sk-toggleable__label sk-toggleable__label-arrow\">Pipeline</label><div class=\"sk-toggleable__content\"><pre>Pipeline(steps=[(&#x27;columntransformer&#x27;,\n",
       "                 ColumnTransformer(transformers=[(&#x27;pipeline-1&#x27;,\n",
       "                                                  Pipeline(steps=[(&#x27;simpleimputer&#x27;,\n",
       "                                                                   SimpleImputer()),\n",
       "                                                                  (&#x27;standardscaler&#x27;,\n",
       "                                                                   StandardScaler())]),\n",
       "                                                  &lt;sklearn.compose._column_transformer.make_column_selector object at 0x7f6972b31c10&gt;),\n",
       "                                                 (&#x27;pipeline-2&#x27;,\n",
       "                                                  Pipeline(steps=[(&#x27;simpleimputer&#x27;,\n",
       "                                                                   SimpleImputer(strategy=&#x27;most_frequent&#x27;)),\n",
       "                                                                  (&#x27;onehotencoder&#x27;,\n",
       "                                                                   OneHotEncoder(handle_unknown=&#x27;ignore&#x27;))]),\n",
       "                                                  &lt;sklearn.compose._column_transformer.make_column_selector object at 0x7f6972b317c0&gt;)])),\n",
       "                (&#x27;randomforestregressor&#x27;,\n",
       "                 RandomForestRegressor(random_state=42))])</pre></div></div></div><div class=\"sk-serial\"><div class=\"sk-item sk-dashed-wrapped\"><div class=\"sk-label-container\"><div class=\"sk-label sk-toggleable\"><input class=\"sk-toggleable__control sk-hidden--visually\" id=\"7705b90b-0f0c-44a7-9ffa-3d8a1e8970de\" type=\"checkbox\" ><label for=\"7705b90b-0f0c-44a7-9ffa-3d8a1e8970de\" class=\"sk-toggleable__label sk-toggleable__label-arrow\">columntransformer: ColumnTransformer</label><div class=\"sk-toggleable__content\"><pre>ColumnTransformer(transformers=[(&#x27;pipeline-1&#x27;,\n",
       "                                 Pipeline(steps=[(&#x27;simpleimputer&#x27;,\n",
       "                                                  SimpleImputer()),\n",
       "                                                 (&#x27;standardscaler&#x27;,\n",
       "                                                  StandardScaler())]),\n",
       "                                 &lt;sklearn.compose._column_transformer.make_column_selector object at 0x7f6972b31c10&gt;),\n",
       "                                (&#x27;pipeline-2&#x27;,\n",
       "                                 Pipeline(steps=[(&#x27;simpleimputer&#x27;,\n",
       "                                                  SimpleImputer(strategy=&#x27;most_frequent&#x27;)),\n",
       "                                                 (&#x27;onehotencoder&#x27;,\n",
       "                                                  OneHotEncoder(handle_unknown=&#x27;ignore&#x27;))]),\n",
       "                                 &lt;sklearn.compose._column_transformer.make_column_selector object at 0x7f6972b317c0&gt;)])</pre></div></div></div><div class=\"sk-parallel\"><div class=\"sk-parallel-item\"><div class=\"sk-item\"><div class=\"sk-label-container\"><div class=\"sk-label sk-toggleable\"><input class=\"sk-toggleable__control sk-hidden--visually\" id=\"7e38de5d-6ec3-4512-a68f-e01fba812125\" type=\"checkbox\" ><label for=\"7e38de5d-6ec3-4512-a68f-e01fba812125\" class=\"sk-toggleable__label sk-toggleable__label-arrow\">pipeline-1</label><div class=\"sk-toggleable__content\"><pre>&lt;sklearn.compose._column_transformer.make_column_selector object at 0x7f6972b31c10&gt;</pre></div></div></div><div class=\"sk-serial\"><div class=\"sk-item\"><div class=\"sk-serial\"><div class=\"sk-item\"><div class=\"sk-estimator sk-toggleable\"><input class=\"sk-toggleable__control sk-hidden--visually\" id=\"b3bcacaa-18d8-4a06-b272-0fe23700e24f\" type=\"checkbox\" ><label for=\"b3bcacaa-18d8-4a06-b272-0fe23700e24f\" class=\"sk-toggleable__label sk-toggleable__label-arrow\">SimpleImputer</label><div class=\"sk-toggleable__content\"><pre>SimpleImputer()</pre></div></div></div><div class=\"sk-item\"><div class=\"sk-estimator sk-toggleable\"><input class=\"sk-toggleable__control sk-hidden--visually\" id=\"0c254b40-ddc2-4916-ad95-123c7ea641ac\" type=\"checkbox\" ><label for=\"0c254b40-ddc2-4916-ad95-123c7ea641ac\" class=\"sk-toggleable__label sk-toggleable__label-arrow\">StandardScaler</label><div class=\"sk-toggleable__content\"><pre>StandardScaler()</pre></div></div></div></div></div></div></div></div><div class=\"sk-parallel-item\"><div class=\"sk-item\"><div class=\"sk-label-container\"><div class=\"sk-label sk-toggleable\"><input class=\"sk-toggleable__control sk-hidden--visually\" id=\"0403fcc2-a6ef-47e5-90d5-378657417046\" type=\"checkbox\" ><label for=\"0403fcc2-a6ef-47e5-90d5-378657417046\" class=\"sk-toggleable__label sk-toggleable__label-arrow\">pipeline-2</label><div class=\"sk-toggleable__content\"><pre>&lt;sklearn.compose._column_transformer.make_column_selector object at 0x7f6972b317c0&gt;</pre></div></div></div><div class=\"sk-serial\"><div class=\"sk-item\"><div class=\"sk-serial\"><div class=\"sk-item\"><div class=\"sk-estimator sk-toggleable\"><input class=\"sk-toggleable__control sk-hidden--visually\" id=\"7fdaa006-4889-4dae-9e55-4ae96aa81398\" type=\"checkbox\" ><label for=\"7fdaa006-4889-4dae-9e55-4ae96aa81398\" class=\"sk-toggleable__label sk-toggleable__label-arrow\">SimpleImputer</label><div class=\"sk-toggleable__content\"><pre>SimpleImputer(strategy=&#x27;most_frequent&#x27;)</pre></div></div></div><div class=\"sk-item\"><div class=\"sk-estimator sk-toggleable\"><input class=\"sk-toggleable__control sk-hidden--visually\" id=\"afc490ad-f866-4b2d-97a9-22f34af72133\" type=\"checkbox\" ><label for=\"afc490ad-f866-4b2d-97a9-22f34af72133\" class=\"sk-toggleable__label sk-toggleable__label-arrow\">OneHotEncoder</label><div class=\"sk-toggleable__content\"><pre>OneHotEncoder(handle_unknown=&#x27;ignore&#x27;)</pre></div></div></div></div></div></div></div></div></div></div><div class=\"sk-item\"><div class=\"sk-estimator sk-toggleable\"><input class=\"sk-toggleable__control sk-hidden--visually\" id=\"6fa12d06-8ca6-4d33-a836-52c1ad01fcc6\" type=\"checkbox\" ><label for=\"6fa12d06-8ca6-4d33-a836-52c1ad01fcc6\" class=\"sk-toggleable__label sk-toggleable__label-arrow\">RandomForestRegressor</label><div class=\"sk-toggleable__content\"><pre>RandomForestRegressor(random_state=42)</pre></div></div></div></div></div></div></div>"
      ],
      "text/plain": [
       "Pipeline(steps=[('columntransformer',\n",
       "                 ColumnTransformer(transformers=[('pipeline-1',\n",
       "                                                  Pipeline(steps=[('simpleimputer',\n",
       "                                                                   SimpleImputer()),\n",
       "                                                                  ('standardscaler',\n",
       "                                                                   StandardScaler())]),\n",
       "                                                  <sklearn.compose._column_transformer.make_column_selector object at 0x7f6972b31c10>),\n",
       "                                                 ('pipeline-2',\n",
       "                                                  Pipeline(steps=[('simpleimputer',\n",
       "                                                                   SimpleImputer(strategy='most_frequent')),\n",
       "                                                                  ('onehotencoder',\n",
       "                                                                   OneHotEncoder(handle_unknown='ignore'))]),\n",
       "                                                  <sklearn.compose._column_transformer.make_column_selector object at 0x7f6972b317c0>)])),\n",
       "                ('randomforestregressor',\n",
       "                 RandomForestRegressor(random_state=42))])"
      ]
     },
     "execution_count": 79,
     "metadata": {},
     "output_type": "execute_result"
    }
   ],
   "source": [
    "# Now to fit the pipeline on the training data\n",
    "rf_pipe.fit(X_train, y_train)"
   ]
  },
  {
   "cell_type": "markdown",
   "metadata": {
    "id": "rsGiud07jJjl"
   },
   "source": [
    "- As with the Decision Tree model, I want to get an idea of how the model will perform with the default parameters before moving on to tuning."
   ]
  },
  {
   "cell_type": "code",
   "execution_count": 81,
   "metadata": {
    "colab": {
     "base_uri": "https://localhost:8080/"
    },
    "id": "5xmev2PNjB7Z",
    "outputId": "22b098eb-2ee7-4436-ea62-f544e4bddd24"
   },
   "outputs": [
    {
     "name": "stdout",
     "output_type": "stream",
     "text": [
      "0.9378445375418706\n",
      "0.5521841360639572\n"
     ]
    }
   ],
   "source": [
    "rf_train_score = rf_pipe.score(X_train, y_train)\n",
    "rf_test_score = rf_pipe.score(X_test, y_test)\n",
    "print(rf_train_score)\n",
    "print(rf_test_score)"
   ]
  },
  {
   "cell_type": "markdown",
   "metadata": {
    "id": "zhuWTr9djlXu"
   },
   "source": [
    "- Already the model performed better than the Decision Tree model with default parameters. I will look at all of the available parameters to get an idea of what can be tuned."
   ]
  },
  {
   "cell_type": "code",
   "execution_count": 82,
   "metadata": {
    "colab": {
     "base_uri": "https://localhost:8080/"
    },
    "id": "xNswNtrJjXXf",
    "outputId": "be2c6e2e-3b0c-4133-ae4d-464ba5dc86d5"
   },
   "outputs": [
    {
     "data": {
      "text/plain": [
       "{'bootstrap': True,\n",
       " 'ccp_alpha': 0.0,\n",
       " 'criterion': 'squared_error',\n",
       " 'max_depth': None,\n",
       " 'max_features': 'auto',\n",
       " 'max_leaf_nodes': None,\n",
       " 'max_samples': None,\n",
       " 'min_impurity_decrease': 0.0,\n",
       " 'min_samples_leaf': 1,\n",
       " 'min_samples_split': 2,\n",
       " 'min_weight_fraction_leaf': 0.0,\n",
       " 'n_estimators': 100,\n",
       " 'n_jobs': None,\n",
       " 'oob_score': False,\n",
       " 'random_state': 42,\n",
       " 'verbose': 0,\n",
       " 'warm_start': False}"
      ]
     },
     "execution_count": 82,
     "metadata": {},
     "output_type": "execute_result"
    }
   ],
   "source": [
    "rf.get_params()"
   ]
  },
  {
   "cell_type": "code",
   "execution_count": 84,
   "metadata": {
    "colab": {
     "base_uri": "https://localhost:8080/"
    },
    "id": "6P-skixAj0c0",
    "outputId": "5e39caa8-f24d-4203-a1c3-af4539ad32b6"
   },
   "outputs": [
    {
     "data": {
      "text/plain": [
       "43"
      ]
     },
     "execution_count": 84,
     "metadata": {},
     "output_type": "execute_result"
    }
   ],
   "source": [
    "# I will start with finding the max_depth\n",
    "est_depths = [estimator.get_depth() for estimator in rf.estimators_]\n",
    "max(est_depths)"
   ]
  },
  {
   "cell_type": "markdown",
   "metadata": {
    "id": "-2F38apnkMm5"
   },
   "source": [
    "- From here I can create another loop to loop through all the depth values and then plot the results to visualize the depth that produces the best R^2 score."
   ]
  },
  {
   "cell_type": "code",
   "execution_count": 87,
   "metadata": {
    "id": "jaOtnkeukDtt"
   },
   "outputs": [],
   "source": [
    "depths = range(1, max(est_depths))\n",
    "scores = pd.DataFrame(index=depths, columns=['Test Score'])\n",
    "for depth in depths:    \n",
    "   rf = RandomForestRegressor(max_depth=depth, random_state=42)\n",
    "   rf_pipe = make_pipeline(preprocessor, rf)\n",
    "   rf_pipe.fit(X_train, y_train)\n",
    "   scores.loc[depth, 'Train Score'] = rf_pipe.score(X_train, y_train)\n",
    "   scores.loc[depth, 'Test Score'] = rf_pipe.score(X_test, y_test)"
   ]
  },
  {
   "cell_type": "code",
   "execution_count": 88,
   "metadata": {
    "colab": {
     "base_uri": "https://localhost:8080/",
     "height": 265
    },
    "id": "iOeB9qyikuTY",
    "outputId": "dbd1efa4-a98f-44d4-f952-bac02f030664"
   },
   "outputs": [
    {
     "data": {
      "image/png": "[encoded data removed]",
      "text/plain": [
       "<Figure size 432x288 with 1 Axes>"
      ]
     },
     "metadata": {
      "needs_background": "light"
     },
     "output_type": "display_data"
    }
   ],
   "source": [
    "# Now to plot the scores\n",
    "plt.plot(scores['Test Score']);"
   ]
  },
  {
   "cell_type": "code",
   "execution_count": 90,
   "metadata": {
    "colab": {
     "base_uri": "https://localhost:8080/",
     "height": 206
    },
    "id": "UWX_VMGQlrr9",
    "outputId": "24f631a1-faa1-4a13-db39-a0f8a175cef3"
   },
   "outputs": [
    {
     "data": {
      "text/html": [
       "\n",
       "  <div id=\"df-f6702e48-681e-4c7b-849c-0f5767e54723\">\n",
       "    <div class=\"colab-df-container\">\n",
       "      <div>\n",
       "<style scoped>\n",
       "    .dataframe tbody tr th:only-of-type {\n",
       "        vertical-align: middle;\n",
       "    }\n",
       "\n",
       "    .dataframe tbody tr th {\n",
       "        vertical-align: top;\n",
       "    }\n",
       "\n",
       "    .dataframe thead th {\n",
       "        text-align: right;\n",
       "    }\n",
       "</style>\n",
       "<table border=\"1\" class=\"dataframe\">\n",
       "  <thead>\n",
       "    <tr style=\"text-align: right;\">\n",
       "      <th></th>\n",
       "      <th>Test Score</th>\n",
       "      <th>Train Score</th>\n",
       "    </tr>\n",
       "  </thead>\n",
       "  <tbody>\n",
       "    <tr>\n",
       "      <th>5</th>\n",
       "      <td>0.603612</td>\n",
       "      <td>0.610427</td>\n",
       "    </tr>\n",
       "    <tr>\n",
       "      <th>6</th>\n",
       "      <td>0.601937</td>\n",
       "      <td>0.624221</td>\n",
       "    </tr>\n",
       "    <tr>\n",
       "      <th>7</th>\n",
       "      <td>0.599556</td>\n",
       "      <td>0.641862</td>\n",
       "    </tr>\n",
       "    <tr>\n",
       "      <th>4</th>\n",
       "      <td>0.597493</td>\n",
       "      <td>0.596065</td>\n",
       "    </tr>\n",
       "    <tr>\n",
       "      <th>8</th>\n",
       "      <td>0.595033</td>\n",
       "      <td>0.665962</td>\n",
       "    </tr>\n",
       "  </tbody>\n",
       "</table>\n",
       "</div>\n",
       "      <button class=\"colab-df-convert\" onclick=\"convertToInteractive('df-f6702e48-681e-4c7b-849c-0f5767e54723')\"\n",
       "              title=\"Convert this dataframe to an interactive table.\"\n",
       "              style=\"display:none;\">\n",
       "        \n",
       "  <svg xmlns=\"http://www.w3.org/2000/svg\" height=\"24px\"viewBox=\"0 0 24 24\"\n",
       "       width=\"24px\">\n",
       "    <path d=\"M0 0h24v24H0V0z\" fill=\"none\"/>\n",
       "    <path d=\"M18.56 5.44l.94 2.06.94-2.06 2.06-.94-2.06-.94-.94-2.06-.94 2.06-2.06.94zm-11 1L8.5 8.5l.94-2.06 2.06-.94-2.06-.94L8.5 2.5l-.94 2.06-2.06.94zm10 10l.94 2.06.94-2.06 2.06-.94-2.06-.94-.94-2.06-.94 2.06-2.06.94z\"/><path d=\"M17.41 7.96l-1.37-1.37c-.4-.4-.92-.59-1.43-.59-.52 0-1.04.2-1.43.59L10.3 9.45l-7.72 7.72c-.78.78-.78 2.05 0 2.83L4 21.41c.39.39.9.59 1.41.59.51 0 1.02-.2 1.41-.59l7.78-7.78 2.81-2.81c.8-.78.8-2.07 0-2.86zM5.41 20L4 18.59l7.72-7.72 1.47 1.35L5.41 20z\"/>\n",
       "  </svg>\n",
       "      </button>\n",
       "      \n",
       "  <style>\n",
       "    .colab-df-container {\n",
       "      display:flex;\n",
       "      flex-wrap:wrap;\n",
       "      gap: 12px;\n",
       "    }\n",
       "\n",
       "    .colab-df-convert {\n",
       "      background-color: #E8F0FE;\n",
       "      border: none;\n",
       "      border-radius: 50%;\n",
       "      cursor: pointer;\n",
       "      display: none;\n",
       "      fill: #1967D2;\n",
       "      height: 32px;\n",
       "      padding: 0 0 0 0;\n",
       "      width: 32px;\n",
       "    }\n",
       "\n",
       "    .colab-df-convert:hover {\n",
       "      background-color: #E2EBFA;\n",
       "      box-shadow: 0px 1px 2px rgba(60, 64, 67, 0.3), 0px 1px 3px 1px rgba(60, 64, 67, 0.15);\n",
       "      fill: #174EA6;\n",
       "    }\n",
       "\n",
       "    [theme=dark] .colab-df-convert {\n",
       "      background-color: #3B4455;\n",
       "      fill: #D2E3FC;\n",
       "    }\n",
       "\n",
       "    [theme=dark] .colab-df-convert:hover {\n",
       "      background-color: #434B5C;\n",
       "      box-shadow: 0px 1px 3px 1px rgba(0, 0, 0, 0.15);\n",
       "      filter: drop-shadow(0px 1px 2px rgba(0, 0, 0, 0.3));\n",
       "      fill: #FFFFFF;\n",
       "    }\n",
       "  </style>\n",
       "\n",
       "      <script>\n",
       "        const buttonEl =\n",
       "          document.querySelector('#df-f6702e48-681e-4c7b-849c-0f5767e54723 button.colab-df-convert');\n",
       "        buttonEl.style.display =\n",
       "          google.colab.kernel.accessAllowed ? 'block' : 'none';\n",
       "\n",
       "        async function convertToInteractive(key) {\n",
       "          const element = document.querySelector('#df-f6702e48-681e-4c7b-849c-0f5767e54723');\n",
       "          const dataTable =\n",
       "            await google.colab.kernel.invokeFunction('convertToInteractive',\n",
       "                                                     [key], {});\n",
       "          if (!dataTable) return;\n",
       "\n",
       "          const docLinkHtml = 'Like what you see? Visit the ' +\n",
       "            '<a target=\"_blank\" href=https://colab.research.google.com/notebooks/data_table.ipynb>data table notebook</a>'\n",
       "            + ' to learn more about interactive tables.';\n",
       "          element.innerHTML = '';\n",
       "          dataTable['output_type'] = 'display_data';\n",
       "          await google.colab.output.renderOutput(dataTable, element);\n",
       "          const docLink = document.createElement('div');\n",
       "          docLink.innerHTML = docLinkHtml;\n",
       "          element.appendChild(docLink);\n",
       "        }\n",
       "      </script>\n",
       "    </div>\n",
       "  </div>\n",
       "  "
      ],
      "text/plain": [
       "  Test Score  Train Score\n",
       "5   0.603612     0.610427\n",
       "6   0.601937     0.624221\n",
       "7   0.599556     0.641862\n",
       "4   0.597493     0.596065\n",
       "8   0.595033     0.665962"
      ]
     },
     "execution_count": 90,
     "metadata": {},
     "output_type": "execute_result"
    }
   ],
   "source": [
    "# Sorting the best depth scores in a DataFrame\n",
    "scores = scores.sort_values(by='Test Score', ascending=False)\n",
    "scores.head()"
   ]
  },
  {
   "cell_type": "markdown",
   "metadata": {
    "id": "wfFFptVpmHfR"
   },
   "source": [
    "- The test score only marginally improved when I found the optimal depth value. One last parameter I will tune is the n_estimators parameter in the model."
   ]
  },
  {
   "cell_type": "code",
   "execution_count": 91,
   "metadata": {
    "id": "L1d31MShl7_h"
   },
   "outputs": [],
   "source": [
    "n_ests = [50, 100, 150, 200, 250, 300]\n",
    "scores2 = pd.DataFrame(index=n_ests, columns=['Test Score', 'Train Score'])\n",
    "for n in n_ests:\n",
    "   rf = RandomForestRegressor(n_estimators=n, max_depth=5, random_state=42)\n",
    "   rf_pipe = make_pipeline(preprocessor, rf)\n",
    "   rf_pipe.fit(X_train, y_train)\n",
    "   scores2.loc[n, 'Train Score'] = rf_pipe.score(X_train, y_train)\n",
    "   scores2.loc[n, 'Test Score'] = rf_pipe.score(X_test, y_test)"
   ]
  },
  {
   "cell_type": "code",
   "execution_count": 92,
   "metadata": {
    "colab": {
     "base_uri": "https://localhost:8080/",
     "height": 265
    },
    "id": "7TVSruvcnNpg",
    "outputId": "0ffb6e58-1f20-422a-8814-0e8c8d4826ce"
   },
   "outputs": [
    {
     "data": {
      "image/png": "[encoded data removed]",
      "text/plain": [
       "<Figure size 432x288 with 1 Axes>"
      ]
     },
     "metadata": {
      "needs_background": "light"
     },
     "output_type": "display_data"
    }
   ],
   "source": [
    "# plot the results\n",
    "plt.plot(scores2['Test Score'])\n",
    "plt.xticks(n_ests);"
   ]
  },
  {
   "cell_type": "code",
   "execution_count": 93,
   "metadata": {
    "colab": {
     "base_uri": "https://localhost:8080/",
     "height": 206
    },
    "id": "IodFvazBnUh_",
    "outputId": "2734ed5b-9956-40ac-8af5-db3dae93416f"
   },
   "outputs": [
    {
     "data": {
      "text/html": [
       "\n",
       "  <div id=\"df-9c164275-e741-4701-bcc2-a7ff1d21c986\">\n",
       "    <div class=\"colab-df-container\">\n",
       "      <div>\n",
       "<style scoped>\n",
       "    .dataframe tbody tr th:only-of-type {\n",
       "        vertical-align: middle;\n",
       "    }\n",
       "\n",
       "    .dataframe tbody tr th {\n",
       "        vertical-align: top;\n",
       "    }\n",
       "\n",
       "    .dataframe thead th {\n",
       "        text-align: right;\n",
       "    }\n",
       "</style>\n",
       "<table border=\"1\" class=\"dataframe\">\n",
       "  <thead>\n",
       "    <tr style=\"text-align: right;\">\n",
       "      <th></th>\n",
       "      <th>Test Score</th>\n",
       "      <th>Train Score</th>\n",
       "    </tr>\n",
       "  </thead>\n",
       "  <tbody>\n",
       "    <tr>\n",
       "      <th>150</th>\n",
       "      <td>0.602953</td>\n",
       "      <td>0.610359</td>\n",
       "    </tr>\n",
       "    <tr>\n",
       "      <th>250</th>\n",
       "      <td>0.602926</td>\n",
       "      <td>0.610481</td>\n",
       "    </tr>\n",
       "    <tr>\n",
       "      <th>300</th>\n",
       "      <td>0.6029</td>\n",
       "      <td>0.610438</td>\n",
       "    </tr>\n",
       "    <tr>\n",
       "      <th>200</th>\n",
       "      <td>0.602861</td>\n",
       "      <td>0.610375</td>\n",
       "    </tr>\n",
       "    <tr>\n",
       "      <th>100</th>\n",
       "      <td>0.602567</td>\n",
       "      <td>0.610539</td>\n",
       "    </tr>\n",
       "  </tbody>\n",
       "</table>\n",
       "</div>\n",
       "      <button class=\"colab-df-convert\" onclick=\"convertToInteractive('df-9c164275-e741-4701-bcc2-a7ff1d21c986')\"\n",
       "              title=\"Convert this dataframe to an interactive table.\"\n",
       "              style=\"display:none;\">\n",
       "        \n",
       "  <svg xmlns=\"http://www.w3.org/2000/svg\" height=\"24px\"viewBox=\"0 0 24 24\"\n",
       "       width=\"24px\">\n",
       "    <path d=\"M0 0h24v24H0V0z\" fill=\"none\"/>\n",
       "    <path d=\"M18.56 5.44l.94 2.06.94-2.06 2.06-.94-2.06-.94-.94-2.06-.94 2.06-2.06.94zm-11 1L8.5 8.5l.94-2.06 2.06-.94-2.06-.94L8.5 2.5l-.94 2.06-2.06.94zm10 10l.94 2.06.94-2.06 2.06-.94-2.06-.94-.94-2.06-.94 2.06-2.06.94z\"/><path d=\"M17.41 7.96l-1.37-1.37c-.4-.4-.92-.59-1.43-.59-.52 0-1.04.2-1.43.59L10.3 9.45l-7.72 7.72c-.78.78-.78 2.05 0 2.83L4 21.41c.39.39.9.59 1.41.59.51 0 1.02-.2 1.41-.59l7.78-7.78 2.81-2.81c.8-.78.8-2.07 0-2.86zM5.41 20L4 18.59l7.72-7.72 1.47 1.35L5.41 20z\"/>\n",
       "  </svg>\n",
       "      </button>\n",
       "      \n",
       "  <style>\n",
       "    .colab-df-container {\n",
       "      display:flex;\n",
       "      flex-wrap:wrap;\n",
       "      gap: 12px;\n",
       "    }\n",
       "\n",
       "    .colab-df-convert {\n",
       "      background-color: #E8F0FE;\n",
       "      border: none;\n",
       "      border-radius: 50%;\n",
       "      cursor: pointer;\n",
       "      display: none;\n",
       "      fill: #1967D2;\n",
       "      height: 32px;\n",
       "      padding: 0 0 0 0;\n",
       "      width: 32px;\n",
       "    }\n",
       "\n",
       "    .colab-df-convert:hover {\n",
       "      background-color: #E2EBFA;\n",
       "      box-shadow: 0px 1px 2px rgba(60, 64, 67, 0.3), 0px 1px 3px 1px rgba(60, 64, 67, 0.15);\n",
       "      fill: #174EA6;\n",
       "    }\n",
       "\n",
       "    [theme=dark] .colab-df-convert {\n",
       "      background-color: #3B4455;\n",
       "      fill: #D2E3FC;\n",
       "    }\n",
       "\n",
       "    [theme=dark] .colab-df-convert:hover {\n",
       "      background-color: #434B5C;\n",
       "      box-shadow: 0px 1px 3px 1px rgba(0, 0, 0, 0.15);\n",
       "      filter: drop-shadow(0px 1px 2px rgba(0, 0, 0, 0.3));\n",
       "      fill: #FFFFFF;\n",
       "    }\n",
       "  </style>\n",
       "\n",
       "      <script>\n",
       "        const buttonEl =\n",
       "          document.querySelector('#df-9c164275-e741-4701-bcc2-a7ff1d21c986 button.colab-df-convert');\n",
       "        buttonEl.style.display =\n",
       "          google.colab.kernel.accessAllowed ? 'block' : 'none';\n",
       "\n",
       "        async function convertToInteractive(key) {\n",
       "          const element = document.querySelector('#df-9c164275-e741-4701-bcc2-a7ff1d21c986');\n",
       "          const dataTable =\n",
       "            await google.colab.kernel.invokeFunction('convertToInteractive',\n",
       "                                                     [key], {});\n",
       "          if (!dataTable) return;\n",
       "\n",
       "          const docLinkHtml = 'Like what you see? Visit the ' +\n",
       "            '<a target=\"_blank\" href=https://colab.research.google.com/notebooks/data_table.ipynb>data table notebook</a>'\n",
       "            + ' to learn more about interactive tables.';\n",
       "          element.innerHTML = '';\n",
       "          dataTable['output_type'] = 'display_data';\n",
       "          await google.colab.output.renderOutput(dataTable, element);\n",
       "          const docLink = document.createElement('div');\n",
       "          docLink.innerHTML = docLinkHtml;\n",
       "          element.appendChild(docLink);\n",
       "        }\n",
       "      </script>\n",
       "    </div>\n",
       "  </div>\n",
       "  "
      ],
      "text/plain": [
       "    Test Score Train Score\n",
       "150   0.602953    0.610359\n",
       "250   0.602926    0.610481\n",
       "300     0.6029    0.610438\n",
       "200   0.602861    0.610375\n",
       "100   0.602567    0.610539"
      ]
     },
     "execution_count": 93,
     "metadata": {},
     "output_type": "execute_result"
    }
   ],
   "source": [
    "# sort the results\n",
    "sorted_scores2 = scores2.sort_values(by='Test Score', ascending=False)\n",
    "sorted_scores2.head()"
   ]
  },
  {
   "cell_type": "markdown",
   "metadata": {
    "id": "ezAAcb18olXf"
   },
   "source": [
    "- I will save the best test score for both the n_estimators and max_depth by instantiated and fitting it on the model, and then evaluating it to produce the best test R^2 score."
   ]
  },
  {
   "cell_type": "code",
   "execution_count": 100,
   "metadata": {
    "colab": {
     "base_uri": "https://localhost:8080/"
    },
    "id": "aDKAv8lBnZAE",
    "outputId": "7477c941-926e-4578-b0da-a4fafd452709"
   },
   "outputs": [
    {
     "name": "stdout",
     "output_type": "stream",
     "text": [
      "The training R^2 score is 0.6108\n",
      "The test R^2 score is 0.6023\n"
     ]
    }
   ],
   "source": [
    "# Save the index value of the best test score.\n",
    "best_depth = scores.index[0]\n",
    "best_n_estimators = scores2.index[0]\n",
    "# Instantiate and fit the best version of the model\n",
    "rf_tuned = RandomForestRegressor(max_depth=best_depth, n_estimators=best_n_estimators)\n",
    "rf_tuned_pipe = make_pipeline(preprocessor, rf_tuned)\n",
    "rf_tuned_pipe.fit(X_train, y_train)\n",
    "# Evaluate the model\n",
    "print(f'The training R^2 score is {rf_tuned_pipe.score(X_train, y_train).round(4)}')\n",
    "print(f'The test R^2 score is {rf_tuned_pipe.score(X_test, y_test).round(4)}')"
   ]
  },
  {
   "cell_type": "markdown",
   "metadata": {
    "id": "rELx0ns_rrFL"
   },
   "source": [
    "- Now that I have the R^2 score for the Random Forest Model, I now want to find the RMSE. This will allow me to understand the error that exists between my actual and predicted values, while giving me a sense of the size of the errors since this method punishes them more so than MSE."
   ]
  },
  {
   "cell_type": "code",
   "execution_count": 101,
   "metadata": {
    "id": "xdjeujNfsbMK"
   },
   "outputs": [],
   "source": [
    "# I will create model predictions first\n",
    "train_pred_2 = rf_tuned_pipe.predict(X_train)\n",
    "test_pred_2 = rf_tuned_pipe.predict(X_test)"
   ]
  },
  {
   "cell_type": "code",
   "execution_count": 102,
   "metadata": {
    "colab": {
     "base_uri": "https://localhost:8080/"
    },
    "id": "FrY6c-XUswN5",
    "outputId": "db41c2a8-077a-4114-aa54-a1031bdd1522"
   },
   "outputs": [
    {
     "name": "stdout",
     "output_type": "stream",
     "text": [
      "Model Training RMSE: 1073.2724792975175\n",
      "Model Testing RMSE: 1047.539219236808\n"
     ]
    }
   ],
   "source": [
    "# calculating RMSE\n",
    "\n",
    "rf_train_MRSE = np.sqrt(np.mean(np.abs(train_pred_2 - y_train)**2))\n",
    "rf_test_MRSE = np.sqrt(np.mean(np.abs(test_pred_2 - y_test)**2))\n",
    "\n",
    "print(f'Model Training RMSE: {rf_train_MRSE}')\n",
    "print(f'Model Testing RMSE: {rf_test_MRSE}')"
   ]
  },
  {
   "cell_type": "markdown",
   "metadata": {
    "id": "RnRd2mQttFD6"
   },
   "source": [
    "- The RMSE had a smaller error than the Linear Regression model performed above."
   ]
  },
  {
   "cell_type": "markdown",
   "metadata": {
    "id": "gKMAfXnOrZQ_"
   },
   "source": [
    "## Conclusion\n",
    "\n",
    "- The Random Forest model had the best performace of the 3 models that were tested. Based on the better RMSE score compared to the Linear Regression model, and the better R^2 score on the testing data, I would most recommend using the the Random Forest model with the optimized parameters for this data set to predict the target values of outlet sales. The model performed decently well and would be the best candidate for predicting future outlet sales. "
   ]
  },
  {
   "cell_type": "code",
   "execution_count": null,
   "metadata": {
    "id": "HolxH0m-pyh_"
   },
   "outputs": [],
   "source": []
  }
 ],
 "metadata": {
  "colab": {
   "authorship_tag": "ABX9TyOZVMXIeABUZiFT5OYjwv0Z",
   "include_colab_link": true,
   "provenance": []
  },
  "kernelspec": {
   "display_name": "Python 3 (ipykernel)",
   "language": "python",
   "name": "python3"
  },
  "language_info": {
   "codemirror_mode": {
    "name": "ipython",
    "version": 3
   },
   "file_extension": ".py",
   "mimetype": "text/x-python",
   "name": "python",
   "nbconvert_exporter": "python",
   "pygments_lexer": "ipython3",
   "version": "3.9.15"
  },
  "toc": {
   "base_numbering": 1,
   "nav_menu": {},
   "number_sections": true,
   "sideBar": true,
   "skip_h1_title": false,
   "title_cell": "Table of Contents",
   "title_sidebar": "Contents",
   "toc_cell": false,
   "toc_position": {},
   "toc_section_display": true,
   "toc_window_display": false
  }
 },
 "nbformat": 4,
 "nbformat_minor": 1
}
